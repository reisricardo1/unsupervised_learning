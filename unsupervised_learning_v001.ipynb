{
 "cells": [
  {
   "cell_type": "markdown",
   "id": "61e4cc44",
   "metadata": {},
   "source": [
    "# A Microvan e o Desafio da Segmentação de Mercado\n",
    "**Este projeto foi criado por Ricardo Paiva.**\n"
   ]
  },
  {
   "cell_type": "markdown",
   "id": "695f673f",
   "metadata": {},
   "source": [
    "**Motivação**\n",
    "\n",
    "Uma empresa que deseja lançar um novo produto costuma realizar pesquisas para entender com mais precisão as necessidades e os desejos dos clientes. Essas informações são fundamentais para orientar as estratégias de marketing no momento do lançamento.\n",
    "\n",
    "No entanto, questionários que geram dezenas ou até centenas de variáveis podem ser desafiadores de analisar, especialmente quando o objetivo é identificar grupos de clientes com características semelhantes. É nesse contexto que o PCA (Análise de Componentes Principais) se torna uma ferramenta valiosa: ele reduz a dimensionalidade dos dados, tornando mais fácil interpretar os resultados e aplicar técnicas de clusterização de forma eficiente.\n",
    "\n",
    "Esse tipo de abordagem não se limita a um único setor — é altamente aplicável em diversas áreas da economia!"
   ]
  },
  {
   "cell_type": "markdown",
   "id": "9dc860a8",
   "metadata": {},
   "source": [
    "**Objeto de Estudo**\n",
    "\n",
    "A Empresa esta desenvolvendo um novo conceito de veículo — uma microvan, que é maior que um SUV, porém mais compacta que uma minivan. Nosso objetivo é identificar qual é o público ideal para direcionar as primeiras campanhas de marketing.\n",
    "\n",
    "O principal método para identificar tendências e preferências dos consumidores é por meio de pesquisa primária, que geralmente começa com grupos focais e evolui para pesquisas de média e grande escala. Esse processo tem, basicamente, dois objetivos principais:\n",
    "\n",
    "    Entender os desejos e necessidades de um determinado grupo ou nicho de consumidores.\n",
    "\n",
    "    Aliar essas informações aos dados demográficos para traçar o perfil de quem demonstrou interesse no conceito da microvan desenvolvida pela Empresa.\n",
    "\n",
    "As principais perguntas de negócio que buscamos responder são:\n",
    "\n",
    "    Qual é o segmento-alvo ideal para esse novo veículo?\n",
    "\n",
    "    Quais são as principais necessidades e desejos desse público?\n",
    "\n",
    "Para isso, a Empresa conduziu vários grupos focais com potenciais compradores do novo conceito de microvan — um veículo maior que um SUV, mas mais compacto que uma minivan. A equipe de marketing também avaliou uma ampla lista de atributos que poderiam ser relevantes para os consumidores, além de declarações relacionadas a estilo de vida, todas validadas por pesquisas anteriores no setor automotivo.\n",
    "\n",
    "A partir das anotações feitas durante os grupos focais, foi definido um conjunto de 30 atributos considerados fundamentais, além de variáveis demográficas importantes. O objetivo é usar esses atributos para compreender as principais dimensões que caracterizam os potenciais compradores e, a partir disso, segmentar o mercado para direcionar as campanhas de marketing.\n",
    "\n",
    "Como parte do estudo, também foi apresentado um protótipo do carro, e os participantes foram convidados a avaliar seu grau de interesse em uma escala de 1 a 9.\n",
    "\n",
    "No entanto, utilizar diretamente esses 30 atributos em uma análise de clusterização geraria resultados pouco claros e difíceis de interpretar. Para resolver esse problema, aplicamos a técnica de PCA (Análise de Componentes Principais), que permite reduzir a dimensionalidade dos dados, agrupando variáveis que compartilham padrões de variância semelhantes. Isso facilita a interpretação e torna a análise mais eficiente.\n",
    "\n",
    "O PCA, por si só, já permite observar agrupamentos naturais de perfis de respostas. No entanto, a avaliação da homogeneidade dentro dos grupos é feita de forma mais precisa através da clusterização, aplicada sobre os componentes principais resultantes do PCA.\n",
    "\n",
    "Esse tipo de abordagem é extremamente útil e aplicável em diversos setores além da indústria automotiva, como bancos, telecomunicações, varejo e qualquer empresa que ofereça serviços e possua bases de dados sobre seus clientes. A análise de questionários combinada com redução de dimensionalidade via PCA se mostra uma ferramenta poderosa para entender melhor o comportamento dos consumidores e aprimorar estratégias de segmentação.\n",
    "\n",
    "    Este estudo de caso real — “Grosse Pointe Associates and The Microvan” — está disponível no excelente livro “Modern Marketing Research: Concepts, Methods, and Cases”, ISBN 1133188966."
   ]
  },
  {
   "cell_type": "markdown",
   "id": "8b689a27",
   "metadata": {},
   "source": [
    "## 1. Importando Bibliotecas e Configurando Pandas"
   ]
  },
  {
   "cell_type": "code",
   "execution_count": 1,
   "id": "c357c854",
   "metadata": {},
   "outputs": [],
   "source": [
    "# importando as bibliotecas para leitura dos dados e criação de gráficos\n",
    "import os\n",
    "import pandas as pd\n",
    "from matplotlib import pyplot as plt\n",
    "import numpy as np\n",
    "import seaborn as sns\n",
    "from sklearn.decomposition import PCA\n",
    "import matplotlib.cm as cm\n",
    "import plotly.express as px\n",
    "\n",
    "# configurando pandas para mostrar todas as linhas e colunas\n",
    "pd.set_option('display.max_rows', None)\n",
    "pd.set_option('display.max_columns', None) \n",
    "\n",
    "# configurando pandas para não mostrar notação científica para números\n",
    "pd.set_option('display.float_format', lambda x: '%.2f' % x)"
   ]
  },
  {
   "cell_type": "markdown",
   "id": "e2b1709c-55cb-49bd-bafb-ae50c98912ad",
   "metadata": {},
   "source": [
    "## 2. Análise Exploratória de Dados"
   ]
  },
  {
   "cell_type": "markdown",
   "id": "6f964b66-d452-4283-a3ef-0173c875198b",
   "metadata": {},
   "source": [
    "### 2.1. Dicionário de Dados"
   ]
  },
  {
   "cell_type": "markdown",
   "id": "dc5e1a32",
   "metadata": {},
   "source": [
    "- **mvliking:** Apresenta o quanto o(a) potencial cliente gostou do conceito da microvan.\n",
    "- **kidtrans:** Precisamos de um carro que ajude a transportar nossos filhos os seus amigos.\n",
    "- **miniboxy:** As minivans atuais são simplesmente muito quadradas e grandes.\n",
    "- **lthrbetr:** Os assentos de couro são muito melhores que os de tecido.\n",
    "- **secbiggr:** Se tivéssemos um segundo carro, precisaria ser maior que um sedã padrão.\n",
    "- **safeimpt:** A segurança do automóvel é muito importante para mim.\n",
    "- **buyhghnd:** Nós tendemos a comprar carros mais sofisticados.\n",
    "- **pricqual:** Os preços dos automóveis refletem fortemente a qualidade de produção subjacente.\n",
    "- **prmsound:** Um sistema de som e entretenimento premium ajuda em longas viagens de carro.\n",
    "- **perfimpt:** O desempenho é muito importante em um carro.\n",
    "- **tkvacatn:** Tentamos tirar o máximo de férias possível.\n",
    "- **noparkrm:** Nossa residência atual não tem muito espaço de estacionamento.\n",
    "- **homlrgst:** Nossa casa está entre as maiores do bairro.\n",
    "- **envrminr:** O impacto ambiental dos automóveis é relativamente pequeno.\n",
    "- **needbetw:** Precisa haver algo entre um sedan e uma minivan.\n",
    "- **suvcmpct:** Gosto mais de SUVs do que de minivans, pois são mais compactos.\n",
    "- **next2str:** Meu próximo carro será um de dois lugares.\n",
    "- **carefmny:** Temos cuidado com o dinheiro.\n",
    "- **shdcarpl:** Acho que todo mundo deveria pegar carona ou usar transporte público.\n",
    "- **imprtapp:** A maioria dos nossos aparelhos são importados.\n",
    "- **lk4whldr:** A tração nas quatro rodas é uma opção muito atraente.\n",
    "- **kidsbulk:** Nossos filhos tendem a levar muitos itens volumosos e brinquedos com eles.\n",
    "- **wntguzlr:** Eu vou comprar o que eu quero mesmo que seja um “bebedor de gás”.\n",
    "- **nordtrps:** Não fazemos viagens com a família\n",
    "- **stylclth:** Nós tendemos a comprar roupas elegantes para a família.\n",
    "- **strngwrn:** A proteção da garantia precisa ser forte em um carro novo.\n",
    "- **passnimp:** A paixão pelo trabalho é mais importante do que o pagamento.\n",
    "- **twoincom:** Nossa família acharia difícil subsistir com apenas uma renda.\n",
    "- **nohummer:** Não estou interessado em possuir um veículo como um Hummer.\n",
    "- **aftrschl:** Nós nos envolvemos em mais atividades depois da escola do que a maioria das famílias.\n",
    "- **accesfun:** Os acessórios realmente tornam o carro mais divertido de dirigir.\n",
    "- **age:** Idade do entrevistado em anos\n",
    "- **income:** Renda familiar anual em milhares de dólares\n",
    "- **miles:** Valor anual total conduzido por membros da família em milhares de milhas\n",
    "- **numkids:** Número de crianças (0-18 anos) que residem no domicílio\n",
    "- **female:** Se o entrevistado é ou não uma mulher\n",
    "- **educ:** Nível de escolaridade do entrevistado (1 = Ensino médio, 2 = Alguma faculdade, 3 = Graduação, 4 = Pós-graduação)\n",
    "- **recycle:** Reciclagem autorrelatada em comparação com a média (1 = Muito menos, 2 = Um pouco menos, 3 = Médio, 4 = Um pouco mais, 5 = Muito mais)"
   ]
  },
  {
   "cell_type": "markdown",
   "id": "cc2c0c1e-ab76-4cff-b27e-4925b4ba9b31",
   "metadata": {},
   "source": [
    "## 2.2. Leirura"
   ]
  },
  {
   "cell_type": "code",
   "execution_count": 2,
   "id": "295316e3",
   "metadata": {},
   "outputs": [
    {
     "data": {
      "text/html": [
       "<div>\n",
       "<style scoped>\n",
       "    .dataframe tbody tr th:only-of-type {\n",
       "        vertical-align: middle;\n",
       "    }\n",
       "\n",
       "    .dataframe tbody tr th {\n",
       "        vertical-align: top;\n",
       "    }\n",
       "\n",
       "    .dataframe thead th {\n",
       "        text-align: right;\n",
       "    }\n",
       "</style>\n",
       "<table border=\"1\" class=\"dataframe\">\n",
       "  <thead>\n",
       "    <tr style=\"text-align: right;\">\n",
       "      <th></th>\n",
       "      <th>subjnumb</th>\n",
       "      <th>mvliking</th>\n",
       "      <th>kidtrans</th>\n",
       "      <th>miniboxy</th>\n",
       "      <th>lthrbetr</th>\n",
       "      <th>secbiggr</th>\n",
       "      <th>safeimpt</th>\n",
       "      <th>buyhghnd</th>\n",
       "      <th>pricqual</th>\n",
       "      <th>prmsound</th>\n",
       "      <th>perfimpt</th>\n",
       "      <th>tkvacatn</th>\n",
       "      <th>noparkrm</th>\n",
       "      <th>homlrgst</th>\n",
       "      <th>envrminr</th>\n",
       "      <th>needbetw</th>\n",
       "      <th>suvcmpct</th>\n",
       "      <th>next2str</th>\n",
       "      <th>carefmny</th>\n",
       "      <th>shdcarpl</th>\n",
       "      <th>imprtapp</th>\n",
       "      <th>lk4whldr</th>\n",
       "      <th>kidsbulk</th>\n",
       "      <th>wntguzlr</th>\n",
       "      <th>nordtrps</th>\n",
       "      <th>stylclth</th>\n",
       "      <th>strngwrn</th>\n",
       "      <th>passnimp</th>\n",
       "      <th>twoincom</th>\n",
       "      <th>nohummer</th>\n",
       "      <th>aftrschl</th>\n",
       "      <th>accesfun</th>\n",
       "      <th>age</th>\n",
       "      <th>income</th>\n",
       "      <th>miles</th>\n",
       "      <th>numkids</th>\n",
       "      <th>female</th>\n",
       "      <th>educ</th>\n",
       "      <th>recycle</th>\n",
       "    </tr>\n",
       "  </thead>\n",
       "  <tbody>\n",
       "    <tr>\n",
       "      <th>0</th>\n",
       "      <td>1</td>\n",
       "      <td>4</td>\n",
       "      <td>6</td>\n",
       "      <td>5</td>\n",
       "      <td>2</td>\n",
       "      <td>5</td>\n",
       "      <td>3</td>\n",
       "      <td>4</td>\n",
       "      <td>3</td>\n",
       "      <td>4</td>\n",
       "      <td>7</td>\n",
       "      <td>3</td>\n",
       "      <td>6</td>\n",
       "      <td>4</td>\n",
       "      <td>6</td>\n",
       "      <td>5</td>\n",
       "      <td>6</td>\n",
       "      <td>9</td>\n",
       "      <td>6</td>\n",
       "      <td>3</td>\n",
       "      <td>2</td>\n",
       "      <td>3</td>\n",
       "      <td>5</td>\n",
       "      <td>7</td>\n",
       "      <td>6</td>\n",
       "      <td>5</td>\n",
       "      <td>3</td>\n",
       "      <td>6</td>\n",
       "      <td>2</td>\n",
       "      <td>6</td>\n",
       "      <td>4</td>\n",
       "      <td>4</td>\n",
       "      <td>34</td>\n",
       "      <td>59</td>\n",
       "      <td>14</td>\n",
       "      <td>1</td>\n",
       "      <td>0</td>\n",
       "      <td>1</td>\n",
       "      <td>3</td>\n",
       "    </tr>\n",
       "    <tr>\n",
       "      <th>1</th>\n",
       "      <td>2</td>\n",
       "      <td>6</td>\n",
       "      <td>3</td>\n",
       "      <td>5</td>\n",
       "      <td>3</td>\n",
       "      <td>7</td>\n",
       "      <td>5</td>\n",
       "      <td>5</td>\n",
       "      <td>4</td>\n",
       "      <td>6</td>\n",
       "      <td>4</td>\n",
       "      <td>5</td>\n",
       "      <td>7</td>\n",
       "      <td>4</td>\n",
       "      <td>4</td>\n",
       "      <td>7</td>\n",
       "      <td>6</td>\n",
       "      <td>3</td>\n",
       "      <td>5</td>\n",
       "      <td>6</td>\n",
       "      <td>6</td>\n",
       "      <td>6</td>\n",
       "      <td>2</td>\n",
       "      <td>4</td>\n",
       "      <td>6</td>\n",
       "      <td>6</td>\n",
       "      <td>4</td>\n",
       "      <td>6</td>\n",
       "      <td>7</td>\n",
       "      <td>6</td>\n",
       "      <td>3</td>\n",
       "      <td>5</td>\n",
       "      <td>36</td>\n",
       "      <td>79</td>\n",
       "      <td>16</td>\n",
       "      <td>1</td>\n",
       "      <td>0</td>\n",
       "      <td>3</td>\n",
       "      <td>4</td>\n",
       "    </tr>\n",
       "    <tr>\n",
       "      <th>2</th>\n",
       "      <td>3</td>\n",
       "      <td>3</td>\n",
       "      <td>7</td>\n",
       "      <td>1</td>\n",
       "      <td>5</td>\n",
       "      <td>2</td>\n",
       "      <td>5</td>\n",
       "      <td>4</td>\n",
       "      <td>5</td>\n",
       "      <td>5</td>\n",
       "      <td>5</td>\n",
       "      <td>6</td>\n",
       "      <td>3</td>\n",
       "      <td>8</td>\n",
       "      <td>5</td>\n",
       "      <td>6</td>\n",
       "      <td>4</td>\n",
       "      <td>7</td>\n",
       "      <td>4</td>\n",
       "      <td>6</td>\n",
       "      <td>5</td>\n",
       "      <td>6</td>\n",
       "      <td>7</td>\n",
       "      <td>3</td>\n",
       "      <td>4</td>\n",
       "      <td>5</td>\n",
       "      <td>7</td>\n",
       "      <td>4</td>\n",
       "      <td>4</td>\n",
       "      <td>2</td>\n",
       "      <td>7</td>\n",
       "      <td>6</td>\n",
       "      <td>51</td>\n",
       "      <td>72</td>\n",
       "      <td>22</td>\n",
       "      <td>2</td>\n",
       "      <td>1</td>\n",
       "      <td>3</td>\n",
       "      <td>3</td>\n",
       "    </tr>\n",
       "    <tr>\n",
       "      <th>3</th>\n",
       "      <td>4</td>\n",
       "      <td>3</td>\n",
       "      <td>3</td>\n",
       "      <td>5</td>\n",
       "      <td>3</td>\n",
       "      <td>6</td>\n",
       "      <td>6</td>\n",
       "      <td>6</td>\n",
       "      <td>6</td>\n",
       "      <td>4</td>\n",
       "      <td>5</td>\n",
       "      <td>4</td>\n",
       "      <td>6</td>\n",
       "      <td>5</td>\n",
       "      <td>7</td>\n",
       "      <td>6</td>\n",
       "      <td>4</td>\n",
       "      <td>3</td>\n",
       "      <td>6</td>\n",
       "      <td>4</td>\n",
       "      <td>3</td>\n",
       "      <td>6</td>\n",
       "      <td>2</td>\n",
       "      <td>7</td>\n",
       "      <td>7</td>\n",
       "      <td>1</td>\n",
       "      <td>6</td>\n",
       "      <td>8</td>\n",
       "      <td>6</td>\n",
       "      <td>4</td>\n",
       "      <td>2</td>\n",
       "      <td>3</td>\n",
       "      <td>32</td>\n",
       "      <td>42</td>\n",
       "      <td>12</td>\n",
       "      <td>0</td>\n",
       "      <td>0</td>\n",
       "      <td>3</td>\n",
       "      <td>2</td>\n",
       "    </tr>\n",
       "    <tr>\n",
       "      <th>4</th>\n",
       "      <td>5</td>\n",
       "      <td>1</td>\n",
       "      <td>4</td>\n",
       "      <td>3</td>\n",
       "      <td>6</td>\n",
       "      <td>3</td>\n",
       "      <td>4</td>\n",
       "      <td>6</td>\n",
       "      <td>6</td>\n",
       "      <td>6</td>\n",
       "      <td>5</td>\n",
       "      <td>5</td>\n",
       "      <td>3</td>\n",
       "      <td>7</td>\n",
       "      <td>5</td>\n",
       "      <td>3</td>\n",
       "      <td>3</td>\n",
       "      <td>6</td>\n",
       "      <td>9</td>\n",
       "      <td>7</td>\n",
       "      <td>6</td>\n",
       "      <td>5</td>\n",
       "      <td>5</td>\n",
       "      <td>4</td>\n",
       "      <td>6</td>\n",
       "      <td>1</td>\n",
       "      <td>5</td>\n",
       "      <td>6</td>\n",
       "      <td>4</td>\n",
       "      <td>4</td>\n",
       "      <td>5</td>\n",
       "      <td>5</td>\n",
       "      <td>40</td>\n",
       "      <td>75</td>\n",
       "      <td>17</td>\n",
       "      <td>1</td>\n",
       "      <td>1</td>\n",
       "      <td>3</td>\n",
       "      <td>4</td>\n",
       "    </tr>\n",
       "  </tbody>\n",
       "</table>\n",
       "</div>"
      ],
      "text/plain": [
       "   subjnumb  mvliking  kidtrans  miniboxy  lthrbetr  secbiggr  safeimpt  \\\n",
       "0         1         4         6         5         2         5         3   \n",
       "1         2         6         3         5         3         7         5   \n",
       "2         3         3         7         1         5         2         5   \n",
       "3         4         3         3         5         3         6         6   \n",
       "4         5         1         4         3         6         3         4   \n",
       "\n",
       "   buyhghnd  pricqual  prmsound  perfimpt  tkvacatn  noparkrm  homlrgst  \\\n",
       "0         4         3         4         7         3         6         4   \n",
       "1         5         4         6         4         5         7         4   \n",
       "2         4         5         5         5         6         3         8   \n",
       "3         6         6         4         5         4         6         5   \n",
       "4         6         6         6         5         5         3         7   \n",
       "\n",
       "   envrminr  needbetw  suvcmpct  next2str  carefmny  shdcarpl  imprtapp  \\\n",
       "0         6         5         6         9         6         3         2   \n",
       "1         4         7         6         3         5         6         6   \n",
       "2         5         6         4         7         4         6         5   \n",
       "3         7         6         4         3         6         4         3   \n",
       "4         5         3         3         6         9         7         6   \n",
       "\n",
       "   lk4whldr  kidsbulk  wntguzlr  nordtrps  stylclth  strngwrn  passnimp  \\\n",
       "0         3         5         7         6         5         3         6   \n",
       "1         6         2         4         6         6         4         6   \n",
       "2         6         7         3         4         5         7         4   \n",
       "3         6         2         7         7         1         6         8   \n",
       "4         5         5         4         6         1         5         6   \n",
       "\n",
       "   twoincom  nohummer  aftrschl  accesfun  age  income  miles  numkids  \\\n",
       "0         2         6         4         4   34      59     14        1   \n",
       "1         7         6         3         5   36      79     16        1   \n",
       "2         4         2         7         6   51      72     22        2   \n",
       "3         6         4         2         3   32      42     12        0   \n",
       "4         4         4         5         5   40      75     17        1   \n",
       "\n",
       "   female  educ  recycle  \n",
       "0       0     1        3  \n",
       "1       0     3        4  \n",
       "2       1     3        3  \n",
       "3       0     3        2  \n",
       "4       1     3        4  "
      ]
     },
     "execution_count": 2,
     "metadata": {},
     "output_type": "execute_result"
    }
   ],
   "source": [
    "# Ler os dados da microvan.\n",
    "df_microvan = pd.read_csv('./data/microvan.csv')\n",
    "df_microvan.head()"
   ]
  },
  {
   "cell_type": "code",
   "execution_count": 3,
   "id": "48d93b81",
   "metadata": {},
   "outputs": [
    {
     "data": {
      "text/plain": [
       "Index(['subjnumb', 'mvliking', 'kidtrans', 'miniboxy', 'lthrbetr', 'secbiggr',\n",
       "       'safeimpt', 'buyhghnd', 'pricqual', 'prmsound', 'perfimpt', 'tkvacatn',\n",
       "       'noparkrm', 'homlrgst', 'envrminr', 'needbetw', 'suvcmpct', 'next2str',\n",
       "       'carefmny', 'shdcarpl', 'imprtapp', 'lk4whldr', 'kidsbulk', 'wntguzlr',\n",
       "       'nordtrps', 'stylclth', 'strngwrn', 'passnimp', 'twoincom', 'nohummer',\n",
       "       'aftrschl', 'accesfun', 'age', 'income', 'miles', 'numkids', 'female',\n",
       "       'educ', 'recycle'],\n",
       "      dtype='object')"
      ]
     },
     "execution_count": 3,
     "metadata": {},
     "output_type": "execute_result"
    }
   ],
   "source": [
    "df_microvan.columns"
   ]
  },
  {
   "cell_type": "code",
   "execution_count": 4,
   "id": "9e00f790",
   "metadata": {},
   "outputs": [
    {
     "data": {
      "text/html": [
       "<div>\n",
       "<style scoped>\n",
       "    .dataframe tbody tr th:only-of-type {\n",
       "        vertical-align: middle;\n",
       "    }\n",
       "\n",
       "    .dataframe tbody tr th {\n",
       "        vertical-align: top;\n",
       "    }\n",
       "\n",
       "    .dataframe thead th {\n",
       "        text-align: right;\n",
       "    }\n",
       "</style>\n",
       "<table border=\"1\" class=\"dataframe\">\n",
       "  <thead>\n",
       "    <tr style=\"text-align: right;\">\n",
       "      <th></th>\n",
       "      <th>mvliking</th>\n",
       "      <th>kidtrans</th>\n",
       "      <th>miniboxy</th>\n",
       "      <th>lthrbetr</th>\n",
       "      <th>secbiggr</th>\n",
       "      <th>safeimpt</th>\n",
       "      <th>buyhghnd</th>\n",
       "      <th>pricqual</th>\n",
       "      <th>prmsound</th>\n",
       "      <th>perfimpt</th>\n",
       "      <th>tkvacatn</th>\n",
       "      <th>noparkrm</th>\n",
       "      <th>homlrgst</th>\n",
       "      <th>envrminr</th>\n",
       "      <th>needbetw</th>\n",
       "      <th>suvcmpct</th>\n",
       "      <th>next2str</th>\n",
       "      <th>carefmny</th>\n",
       "      <th>shdcarpl</th>\n",
       "      <th>imprtapp</th>\n",
       "      <th>lk4whldr</th>\n",
       "      <th>kidsbulk</th>\n",
       "      <th>wntguzlr</th>\n",
       "      <th>nordtrps</th>\n",
       "      <th>stylclth</th>\n",
       "      <th>strngwrn</th>\n",
       "      <th>passnimp</th>\n",
       "      <th>twoincom</th>\n",
       "      <th>nohummer</th>\n",
       "      <th>aftrschl</th>\n",
       "      <th>accesfun</th>\n",
       "      <th>age</th>\n",
       "      <th>income</th>\n",
       "      <th>miles</th>\n",
       "      <th>numkids</th>\n",
       "      <th>female</th>\n",
       "      <th>educ</th>\n",
       "      <th>recycle</th>\n",
       "    </tr>\n",
       "    <tr>\n",
       "      <th>subjnumb</th>\n",
       "      <th></th>\n",
       "      <th></th>\n",
       "      <th></th>\n",
       "      <th></th>\n",
       "      <th></th>\n",
       "      <th></th>\n",
       "      <th></th>\n",
       "      <th></th>\n",
       "      <th></th>\n",
       "      <th></th>\n",
       "      <th></th>\n",
       "      <th></th>\n",
       "      <th></th>\n",
       "      <th></th>\n",
       "      <th></th>\n",
       "      <th></th>\n",
       "      <th></th>\n",
       "      <th></th>\n",
       "      <th></th>\n",
       "      <th></th>\n",
       "      <th></th>\n",
       "      <th></th>\n",
       "      <th></th>\n",
       "      <th></th>\n",
       "      <th></th>\n",
       "      <th></th>\n",
       "      <th></th>\n",
       "      <th></th>\n",
       "      <th></th>\n",
       "      <th></th>\n",
       "      <th></th>\n",
       "      <th></th>\n",
       "      <th></th>\n",
       "      <th></th>\n",
       "      <th></th>\n",
       "      <th></th>\n",
       "      <th></th>\n",
       "      <th></th>\n",
       "    </tr>\n",
       "  </thead>\n",
       "  <tbody>\n",
       "    <tr>\n",
       "      <th>1</th>\n",
       "      <td>4</td>\n",
       "      <td>6</td>\n",
       "      <td>5</td>\n",
       "      <td>2</td>\n",
       "      <td>5</td>\n",
       "      <td>3</td>\n",
       "      <td>4</td>\n",
       "      <td>3</td>\n",
       "      <td>4</td>\n",
       "      <td>7</td>\n",
       "      <td>3</td>\n",
       "      <td>6</td>\n",
       "      <td>4</td>\n",
       "      <td>6</td>\n",
       "      <td>5</td>\n",
       "      <td>6</td>\n",
       "      <td>9</td>\n",
       "      <td>6</td>\n",
       "      <td>3</td>\n",
       "      <td>2</td>\n",
       "      <td>3</td>\n",
       "      <td>5</td>\n",
       "      <td>7</td>\n",
       "      <td>6</td>\n",
       "      <td>5</td>\n",
       "      <td>3</td>\n",
       "      <td>6</td>\n",
       "      <td>2</td>\n",
       "      <td>6</td>\n",
       "      <td>4</td>\n",
       "      <td>4</td>\n",
       "      <td>34</td>\n",
       "      <td>59</td>\n",
       "      <td>14</td>\n",
       "      <td>1</td>\n",
       "      <td>0</td>\n",
       "      <td>1</td>\n",
       "      <td>3</td>\n",
       "    </tr>\n",
       "    <tr>\n",
       "      <th>2</th>\n",
       "      <td>6</td>\n",
       "      <td>3</td>\n",
       "      <td>5</td>\n",
       "      <td>3</td>\n",
       "      <td>7</td>\n",
       "      <td>5</td>\n",
       "      <td>5</td>\n",
       "      <td>4</td>\n",
       "      <td>6</td>\n",
       "      <td>4</td>\n",
       "      <td>5</td>\n",
       "      <td>7</td>\n",
       "      <td>4</td>\n",
       "      <td>4</td>\n",
       "      <td>7</td>\n",
       "      <td>6</td>\n",
       "      <td>3</td>\n",
       "      <td>5</td>\n",
       "      <td>6</td>\n",
       "      <td>6</td>\n",
       "      <td>6</td>\n",
       "      <td>2</td>\n",
       "      <td>4</td>\n",
       "      <td>6</td>\n",
       "      <td>6</td>\n",
       "      <td>4</td>\n",
       "      <td>6</td>\n",
       "      <td>7</td>\n",
       "      <td>6</td>\n",
       "      <td>3</td>\n",
       "      <td>5</td>\n",
       "      <td>36</td>\n",
       "      <td>79</td>\n",
       "      <td>16</td>\n",
       "      <td>1</td>\n",
       "      <td>0</td>\n",
       "      <td>3</td>\n",
       "      <td>4</td>\n",
       "    </tr>\n",
       "    <tr>\n",
       "      <th>3</th>\n",
       "      <td>3</td>\n",
       "      <td>7</td>\n",
       "      <td>1</td>\n",
       "      <td>5</td>\n",
       "      <td>2</td>\n",
       "      <td>5</td>\n",
       "      <td>4</td>\n",
       "      <td>5</td>\n",
       "      <td>5</td>\n",
       "      <td>5</td>\n",
       "      <td>6</td>\n",
       "      <td>3</td>\n",
       "      <td>8</td>\n",
       "      <td>5</td>\n",
       "      <td>6</td>\n",
       "      <td>4</td>\n",
       "      <td>7</td>\n",
       "      <td>4</td>\n",
       "      <td>6</td>\n",
       "      <td>5</td>\n",
       "      <td>6</td>\n",
       "      <td>7</td>\n",
       "      <td>3</td>\n",
       "      <td>4</td>\n",
       "      <td>5</td>\n",
       "      <td>7</td>\n",
       "      <td>4</td>\n",
       "      <td>4</td>\n",
       "      <td>2</td>\n",
       "      <td>7</td>\n",
       "      <td>6</td>\n",
       "      <td>51</td>\n",
       "      <td>72</td>\n",
       "      <td>22</td>\n",
       "      <td>2</td>\n",
       "      <td>1</td>\n",
       "      <td>3</td>\n",
       "      <td>3</td>\n",
       "    </tr>\n",
       "    <tr>\n",
       "      <th>4</th>\n",
       "      <td>3</td>\n",
       "      <td>3</td>\n",
       "      <td>5</td>\n",
       "      <td>3</td>\n",
       "      <td>6</td>\n",
       "      <td>6</td>\n",
       "      <td>6</td>\n",
       "      <td>6</td>\n",
       "      <td>4</td>\n",
       "      <td>5</td>\n",
       "      <td>4</td>\n",
       "      <td>6</td>\n",
       "      <td>5</td>\n",
       "      <td>7</td>\n",
       "      <td>6</td>\n",
       "      <td>4</td>\n",
       "      <td>3</td>\n",
       "      <td>6</td>\n",
       "      <td>4</td>\n",
       "      <td>3</td>\n",
       "      <td>6</td>\n",
       "      <td>2</td>\n",
       "      <td>7</td>\n",
       "      <td>7</td>\n",
       "      <td>1</td>\n",
       "      <td>6</td>\n",
       "      <td>8</td>\n",
       "      <td>6</td>\n",
       "      <td>4</td>\n",
       "      <td>2</td>\n",
       "      <td>3</td>\n",
       "      <td>32</td>\n",
       "      <td>42</td>\n",
       "      <td>12</td>\n",
       "      <td>0</td>\n",
       "      <td>0</td>\n",
       "      <td>3</td>\n",
       "      <td>2</td>\n",
       "    </tr>\n",
       "    <tr>\n",
       "      <th>5</th>\n",
       "      <td>1</td>\n",
       "      <td>4</td>\n",
       "      <td>3</td>\n",
       "      <td>6</td>\n",
       "      <td>3</td>\n",
       "      <td>4</td>\n",
       "      <td>6</td>\n",
       "      <td>6</td>\n",
       "      <td>6</td>\n",
       "      <td>5</td>\n",
       "      <td>5</td>\n",
       "      <td>3</td>\n",
       "      <td>7</td>\n",
       "      <td>5</td>\n",
       "      <td>3</td>\n",
       "      <td>3</td>\n",
       "      <td>6</td>\n",
       "      <td>9</td>\n",
       "      <td>7</td>\n",
       "      <td>6</td>\n",
       "      <td>5</td>\n",
       "      <td>5</td>\n",
       "      <td>4</td>\n",
       "      <td>6</td>\n",
       "      <td>1</td>\n",
       "      <td>5</td>\n",
       "      <td>6</td>\n",
       "      <td>4</td>\n",
       "      <td>4</td>\n",
       "      <td>5</td>\n",
       "      <td>5</td>\n",
       "      <td>40</td>\n",
       "      <td>75</td>\n",
       "      <td>17</td>\n",
       "      <td>1</td>\n",
       "      <td>1</td>\n",
       "      <td>3</td>\n",
       "      <td>4</td>\n",
       "    </tr>\n",
       "  </tbody>\n",
       "</table>\n",
       "</div>"
      ],
      "text/plain": [
       "          mvliking  kidtrans  miniboxy  lthrbetr  secbiggr  safeimpt  \\\n",
       "subjnumb                                                               \n",
       "1                4         6         5         2         5         3   \n",
       "2                6         3         5         3         7         5   \n",
       "3                3         7         1         5         2         5   \n",
       "4                3         3         5         3         6         6   \n",
       "5                1         4         3         6         3         4   \n",
       "\n",
       "          buyhghnd  pricqual  prmsound  perfimpt  tkvacatn  noparkrm  \\\n",
       "subjnumb                                                               \n",
       "1                4         3         4         7         3         6   \n",
       "2                5         4         6         4         5         7   \n",
       "3                4         5         5         5         6         3   \n",
       "4                6         6         4         5         4         6   \n",
       "5                6         6         6         5         5         3   \n",
       "\n",
       "          homlrgst  envrminr  needbetw  suvcmpct  next2str  carefmny  \\\n",
       "subjnumb                                                               \n",
       "1                4         6         5         6         9         6   \n",
       "2                4         4         7         6         3         5   \n",
       "3                8         5         6         4         7         4   \n",
       "4                5         7         6         4         3         6   \n",
       "5                7         5         3         3         6         9   \n",
       "\n",
       "          shdcarpl  imprtapp  lk4whldr  kidsbulk  wntguzlr  nordtrps  \\\n",
       "subjnumb                                                               \n",
       "1                3         2         3         5         7         6   \n",
       "2                6         6         6         2         4         6   \n",
       "3                6         5         6         7         3         4   \n",
       "4                4         3         6         2         7         7   \n",
       "5                7         6         5         5         4         6   \n",
       "\n",
       "          stylclth  strngwrn  passnimp  twoincom  nohummer  aftrschl  \\\n",
       "subjnumb                                                               \n",
       "1                5         3         6         2         6         4   \n",
       "2                6         4         6         7         6         3   \n",
       "3                5         7         4         4         2         7   \n",
       "4                1         6         8         6         4         2   \n",
       "5                1         5         6         4         4         5   \n",
       "\n",
       "          accesfun  age  income  miles  numkids  female  educ  recycle  \n",
       "subjnumb                                                                \n",
       "1                4   34      59     14        1       0     1        3  \n",
       "2                5   36      79     16        1       0     3        4  \n",
       "3                6   51      72     22        2       1     3        3  \n",
       "4                3   32      42     12        0       0     3        2  \n",
       "5                5   40      75     17        1       1     3        4  "
      ]
     },
     "execution_count": 4,
     "metadata": {},
     "output_type": "execute_result"
    }
   ],
   "source": [
    "# transformando coluna \"subjnumb\" em index.\n",
    "df_microvan = df_microvan.set_index('subjnumb')\n",
    "df_microvan.head()"
   ]
  },
  {
   "cell_type": "code",
   "execution_count": 5,
   "id": "741a9e23",
   "metadata": {},
   "outputs": [],
   "source": [
    "# Criar um dicionário para facilitar a consulta.\n",
    "dicionario_dados = dict()\n",
    "\n",
    "dicionario_dados['kidtrans'] = 'Precisamos de um carro que ajude a transportar nossos filhos os seus amigos'\n",
    "dicionario_dados['miniboxy'] = 'As minivans atuais são simplesmente muito quadradas e grandes'\n",
    "dicionario_dados['lthrbetr'] = 'Os assentos de couro são muito melhores que os de tecido'\n",
    "dicionario_dados['secbiggr'] = 'Se tivéssemos um segundo carro, precisaria ser maior que um sedã padrão'\n",
    "dicionario_dados['safeimpt'] = 'A segurança do automóvel é muito importante para mim'\n",
    "dicionario_dados['buyhghnd'] = 'Nós tendemos a comprar carros mais sofisticados'\n",
    "dicionario_dados['pricqual'] = 'Os preços dos automóveis refletem fortemente a qualidade de produção subjacente'\n",
    "dicionario_dados['prmsound'] = 'Um sistema de som e entretenimento premium ajuda em longas viagens de carro'\n",
    "dicionario_dados['perfimpt'] = 'O desempenho é muito importante em um carro'\n",
    "dicionario_dados['tkvacatn'] = 'Tentamos tirar o máximo de férias possível'\n",
    "dicionario_dados['noparkrm'] = 'Nossa residência atual não tem muito espaço de estacionamento'\n",
    "dicionario_dados['homlrgst'] = 'Nossa casa está entre as maiores do bairro'\n",
    "dicionario_dados['envrminr'] = 'O impacto ambiental dos automóveis é relativamente pequeno'\n",
    "dicionario_dados['needbetw'] = 'Precisa haver algo entre um sedan e uma minivan'\n",
    "dicionario_dados['suvcmpct'] = 'Gosto mais de SUVs do que de minivans, pois são mais compactos'\n",
    "dicionario_dados['next2str'] = 'Meu próximo carro será um de dois lugares'\n",
    "dicionario_dados['carefmny'] = 'Temos cuidado com o dinheiro'\n",
    "dicionario_dados['shdcarpl'] = 'Acho que todo mundo deveria pegar carona ou usar transporte público'\n",
    "dicionario_dados['imprtapp'] = 'A maioria dos nossos aparelhos são importados'\n",
    "dicionario_dados['lk4whldr'] = 'A tração nas quatro rodas é uma opção muito atraente'\n",
    "dicionario_dados['kidsbulk'] = 'Nossos filhos tendem a levar muitos itens volumosos e brinquedos com eles'\n",
    "dicionario_dados['wntguzlr'] = 'Eu vou comprar o que eu quero mesmo que seja um “bebedor de gás”'\n",
    "dicionario_dados['nordtrps'] = 'Não fazemos viagens com a família'\n",
    "dicionario_dados['stylclth'] = 'Nós tendemos a comprar roupas elegantes para a família'\n",
    "dicionario_dados['strngwrn'] = 'A proteção da garantia precisa ser forte em um carro novo'\n",
    "dicionario_dados['passnimp'] = 'A paixão pelo trabalho é mais importante do que o pagamento'\n",
    "dicionario_dados['twoincom'] = 'Nossa família acharia difícil subsistir com apenas uma renda'\n",
    "dicionario_dados['nohummer'] = 'Não estou interessado em possuir um veículo como um Hummer'\n",
    "dicionario_dados['aftrschl'] = 'Nós nos envolvemos em mais atividades depois da escola do que a maioria das famílias'\n",
    "dicionario_dados['accesfun'] = 'Os acessórios realmente tornam o carro mais divertido de dirigir'\n",
    "dicionario_dados['age'] = 'Idade do entrevistado em anos'\n",
    "dicionario_dados['income'] = 'Renda familiar anual em milhares de dólares'\n",
    "dicionario_dados['miles'] = 'Valor anual total conduzido por membros da família em milhares de milhas'\n",
    "dicionario_dados['numkids'] = 'Número de crianças (0-18 anos) que residem no domicílio'\n",
    "dicionario_dados['female'] = 'Se o entrevistado é ou não uma mulher'\n",
    "dicionario_dados['educ'] = 'Nível de escolaridade do entrevistado (1 = Ensino médio, 2 = Alguma faculdade, 3 = Graduação, 4 = Pós-graduação)'\n",
    "dicionario_dados['recycle'] = 'Reciclagem autorrelatada em comparação com a média (1 = Muito menos, 2 = Um pouco menos, 3 = Médio, 4 = Um pouco mais, 5 = Muito mais)'\n"
   ]
  },
  {
   "cell_type": "code",
   "execution_count": 6,
   "id": "94238ac6",
   "metadata": {},
   "outputs": [
    {
     "data": {
      "text/plain": [
       "('Idade do entrevistado em anos', 'Nossa casa está entre as maiores do bairro')"
      ]
     },
     "execution_count": 6,
     "metadata": {},
     "output_type": "execute_result"
    }
   ],
   "source": [
    "# Testar consulta.\n",
    "\n",
    "dicionario_dados['age'],  dicionario_dados['homlrgst']"
   ]
  },
  {
   "cell_type": "code",
   "execution_count": 7,
   "id": "cc5f394d",
   "metadata": {},
   "outputs": [
    {
     "data": {
      "text/plain": [
       "(400, 38)"
      ]
     },
     "execution_count": 7,
     "metadata": {},
     "output_type": "execute_result"
    }
   ],
   "source": [
    "# Avaliando a quantidade de linhas e colunas\n",
    "df_microvan.shape"
   ]
  },
  {
   "cell_type": "code",
   "execution_count": 8,
   "id": "d4bec7d3",
   "metadata": {
    "scrolled": true
   },
   "outputs": [
    {
     "data": {
      "text/plain": [
       "mvliking    int64\n",
       "kidtrans    int64\n",
       "miniboxy    int64\n",
       "lthrbetr    int64\n",
       "secbiggr    int64\n",
       "safeimpt    int64\n",
       "buyhghnd    int64\n",
       "pricqual    int64\n",
       "prmsound    int64\n",
       "perfimpt    int64\n",
       "tkvacatn    int64\n",
       "noparkrm    int64\n",
       "homlrgst    int64\n",
       "envrminr    int64\n",
       "needbetw    int64\n",
       "suvcmpct    int64\n",
       "next2str    int64\n",
       "carefmny    int64\n",
       "shdcarpl    int64\n",
       "imprtapp    int64\n",
       "lk4whldr    int64\n",
       "kidsbulk    int64\n",
       "wntguzlr    int64\n",
       "nordtrps    int64\n",
       "stylclth    int64\n",
       "strngwrn    int64\n",
       "passnimp    int64\n",
       "twoincom    int64\n",
       "nohummer    int64\n",
       "aftrschl    int64\n",
       "accesfun    int64\n",
       "age         int64\n",
       "income      int64\n",
       "miles       int64\n",
       "numkids     int64\n",
       "female      int64\n",
       "educ        int64\n",
       "recycle     int64\n",
       "dtype: object"
      ]
     },
     "execution_count": 8,
     "metadata": {},
     "output_type": "execute_result"
    }
   ],
   "source": [
    "# Avaliando os tipos\n",
    "df_microvan.dtypes"
   ]
  },
  {
   "cell_type": "code",
   "execution_count": 9,
   "id": "148bc693",
   "metadata": {
    "scrolled": true
   },
   "outputs": [
    {
     "name": "stdout",
     "output_type": "stream",
     "text": [
      "<class 'pandas.core.frame.DataFrame'>\n",
      "Index: 400 entries, 1 to 400\n",
      "Data columns (total 38 columns):\n",
      " #   Column    Non-Null Count  Dtype\n",
      "---  ------    --------------  -----\n",
      " 0   mvliking  400 non-null    int64\n",
      " 1   kidtrans  400 non-null    int64\n",
      " 2   miniboxy  400 non-null    int64\n",
      " 3   lthrbetr  400 non-null    int64\n",
      " 4   secbiggr  400 non-null    int64\n",
      " 5   safeimpt  400 non-null    int64\n",
      " 6   buyhghnd  400 non-null    int64\n",
      " 7   pricqual  400 non-null    int64\n",
      " 8   prmsound  400 non-null    int64\n",
      " 9   perfimpt  400 non-null    int64\n",
      " 10  tkvacatn  400 non-null    int64\n",
      " 11  noparkrm  400 non-null    int64\n",
      " 12  homlrgst  400 non-null    int64\n",
      " 13  envrminr  400 non-null    int64\n",
      " 14  needbetw  400 non-null    int64\n",
      " 15  suvcmpct  400 non-null    int64\n",
      " 16  next2str  400 non-null    int64\n",
      " 17  carefmny  400 non-null    int64\n",
      " 18  shdcarpl  400 non-null    int64\n",
      " 19  imprtapp  400 non-null    int64\n",
      " 20  lk4whldr  400 non-null    int64\n",
      " 21  kidsbulk  400 non-null    int64\n",
      " 22  wntguzlr  400 non-null    int64\n",
      " 23  nordtrps  400 non-null    int64\n",
      " 24  stylclth  400 non-null    int64\n",
      " 25  strngwrn  400 non-null    int64\n",
      " 26  passnimp  400 non-null    int64\n",
      " 27  twoincom  400 non-null    int64\n",
      " 28  nohummer  400 non-null    int64\n",
      " 29  aftrschl  400 non-null    int64\n",
      " 30  accesfun  400 non-null    int64\n",
      " 31  age       400 non-null    int64\n",
      " 32  income    400 non-null    int64\n",
      " 33  miles     400 non-null    int64\n",
      " 34  numkids   400 non-null    int64\n",
      " 35  female    400 non-null    int64\n",
      " 36  educ      400 non-null    int64\n",
      " 37  recycle   400 non-null    int64\n",
      "dtypes: int64(38)\n",
      "memory usage: 121.9 KB\n"
     ]
    }
   ],
   "source": [
    "df_microvan.info()"
   ]
  },
  {
   "cell_type": "markdown",
   "id": "9d77a78c",
   "metadata": {},
   "source": [
    "## 3. Estatística descritiva\n",
    "\n",
    "Conhecer bem as medidas estatísticas, de tendência central, dispersão, separatrizes, distribuições, é essencial para conhecermos melhor os dados em que estamos trabalhando. "
   ]
  },
  {
   "cell_type": "code",
   "execution_count": 10,
   "id": "6f58402c",
   "metadata": {},
   "outputs": [
    {
     "data": {
      "text/html": [
       "<div>\n",
       "<style scoped>\n",
       "    .dataframe tbody tr th:only-of-type {\n",
       "        vertical-align: middle;\n",
       "    }\n",
       "\n",
       "    .dataframe tbody tr th {\n",
       "        vertical-align: top;\n",
       "    }\n",
       "\n",
       "    .dataframe thead th {\n",
       "        text-align: right;\n",
       "    }\n",
       "</style>\n",
       "<table border=\"1\" class=\"dataframe\">\n",
       "  <thead>\n",
       "    <tr style=\"text-align: right;\">\n",
       "      <th></th>\n",
       "      <th>mvliking</th>\n",
       "      <th>kidtrans</th>\n",
       "      <th>miniboxy</th>\n",
       "      <th>lthrbetr</th>\n",
       "      <th>secbiggr</th>\n",
       "      <th>safeimpt</th>\n",
       "      <th>buyhghnd</th>\n",
       "      <th>pricqual</th>\n",
       "      <th>prmsound</th>\n",
       "      <th>perfimpt</th>\n",
       "      <th>tkvacatn</th>\n",
       "      <th>noparkrm</th>\n",
       "      <th>homlrgst</th>\n",
       "      <th>envrminr</th>\n",
       "      <th>needbetw</th>\n",
       "      <th>suvcmpct</th>\n",
       "      <th>next2str</th>\n",
       "      <th>carefmny</th>\n",
       "      <th>shdcarpl</th>\n",
       "      <th>imprtapp</th>\n",
       "      <th>lk4whldr</th>\n",
       "      <th>kidsbulk</th>\n",
       "      <th>wntguzlr</th>\n",
       "      <th>nordtrps</th>\n",
       "      <th>stylclth</th>\n",
       "      <th>strngwrn</th>\n",
       "      <th>passnimp</th>\n",
       "      <th>twoincom</th>\n",
       "      <th>nohummer</th>\n",
       "      <th>aftrschl</th>\n",
       "      <th>accesfun</th>\n",
       "      <th>age</th>\n",
       "      <th>income</th>\n",
       "      <th>miles</th>\n",
       "      <th>numkids</th>\n",
       "      <th>female</th>\n",
       "      <th>educ</th>\n",
       "      <th>recycle</th>\n",
       "    </tr>\n",
       "  </thead>\n",
       "  <tbody>\n",
       "    <tr>\n",
       "      <th>count</th>\n",
       "      <td>400.00</td>\n",
       "      <td>400.00</td>\n",
       "      <td>400.00</td>\n",
       "      <td>400.00</td>\n",
       "      <td>400.00</td>\n",
       "      <td>400.00</td>\n",
       "      <td>400.00</td>\n",
       "      <td>400.00</td>\n",
       "      <td>400.00</td>\n",
       "      <td>400.00</td>\n",
       "      <td>400.00</td>\n",
       "      <td>400.00</td>\n",
       "      <td>400.00</td>\n",
       "      <td>400.00</td>\n",
       "      <td>400.00</td>\n",
       "      <td>400.00</td>\n",
       "      <td>400.00</td>\n",
       "      <td>400.00</td>\n",
       "      <td>400.00</td>\n",
       "      <td>400.00</td>\n",
       "      <td>400.00</td>\n",
       "      <td>400.00</td>\n",
       "      <td>400.00</td>\n",
       "      <td>400.00</td>\n",
       "      <td>400.00</td>\n",
       "      <td>400.00</td>\n",
       "      <td>400.00</td>\n",
       "      <td>400.00</td>\n",
       "      <td>400.00</td>\n",
       "      <td>400.00</td>\n",
       "      <td>400.00</td>\n",
       "      <td>400.00</td>\n",
       "      <td>400.00</td>\n",
       "      <td>400.00</td>\n",
       "      <td>400.00</td>\n",
       "      <td>400.00</td>\n",
       "      <td>400.00</td>\n",
       "      <td>400.00</td>\n",
       "    </tr>\n",
       "    <tr>\n",
       "      <th>mean</th>\n",
       "      <td>4.84</td>\n",
       "      <td>4.83</td>\n",
       "      <td>4.67</td>\n",
       "      <td>4.25</td>\n",
       "      <td>5.23</td>\n",
       "      <td>5.00</td>\n",
       "      <td>5.28</td>\n",
       "      <td>4.96</td>\n",
       "      <td>4.72</td>\n",
       "      <td>5.00</td>\n",
       "      <td>4.44</td>\n",
       "      <td>4.58</td>\n",
       "      <td>5.49</td>\n",
       "      <td>5.53</td>\n",
       "      <td>4.94</td>\n",
       "      <td>4.78</td>\n",
       "      <td>4.49</td>\n",
       "      <td>5.22</td>\n",
       "      <td>5.17</td>\n",
       "      <td>4.56</td>\n",
       "      <td>5.24</td>\n",
       "      <td>4.48</td>\n",
       "      <td>5.06</td>\n",
       "      <td>5.32</td>\n",
       "      <td>5.34</td>\n",
       "      <td>5.04</td>\n",
       "      <td>5.62</td>\n",
       "      <td>4.87</td>\n",
       "      <td>4.85</td>\n",
       "      <td>4.38</td>\n",
       "      <td>4.64</td>\n",
       "      <td>40.05</td>\n",
       "      <td>71.28</td>\n",
       "      <td>18.04</td>\n",
       "      <td>1.22</td>\n",
       "      <td>0.54</td>\n",
       "      <td>2.81</td>\n",
       "      <td>3.04</td>\n",
       "    </tr>\n",
       "    <tr>\n",
       "      <th>std</th>\n",
       "      <td>2.69</td>\n",
       "      <td>1.52</td>\n",
       "      <td>1.48</td>\n",
       "      <td>1.52</td>\n",
       "      <td>1.51</td>\n",
       "      <td>1.51</td>\n",
       "      <td>1.54</td>\n",
       "      <td>1.52</td>\n",
       "      <td>1.51</td>\n",
       "      <td>1.49</td>\n",
       "      <td>1.53</td>\n",
       "      <td>1.52</td>\n",
       "      <td>1.50</td>\n",
       "      <td>1.52</td>\n",
       "      <td>1.55</td>\n",
       "      <td>1.51</td>\n",
       "      <td>1.55</td>\n",
       "      <td>1.53</td>\n",
       "      <td>1.50</td>\n",
       "      <td>1.50</td>\n",
       "      <td>1.46</td>\n",
       "      <td>1.48</td>\n",
       "      <td>1.51</td>\n",
       "      <td>1.49</td>\n",
       "      <td>1.53</td>\n",
       "      <td>1.50</td>\n",
       "      <td>1.51</td>\n",
       "      <td>1.56</td>\n",
       "      <td>1.54</td>\n",
       "      <td>1.51</td>\n",
       "      <td>1.52</td>\n",
       "      <td>8.57</td>\n",
       "      <td>43.28</td>\n",
       "      <td>4.86</td>\n",
       "      <td>1.08</td>\n",
       "      <td>0.50</td>\n",
       "      <td>0.93</td>\n",
       "      <td>1.18</td>\n",
       "    </tr>\n",
       "    <tr>\n",
       "      <th>min</th>\n",
       "      <td>1.00</td>\n",
       "      <td>1.00</td>\n",
       "      <td>1.00</td>\n",
       "      <td>1.00</td>\n",
       "      <td>1.00</td>\n",
       "      <td>1.00</td>\n",
       "      <td>1.00</td>\n",
       "      <td>1.00</td>\n",
       "      <td>1.00</td>\n",
       "      <td>1.00</td>\n",
       "      <td>1.00</td>\n",
       "      <td>1.00</td>\n",
       "      <td>1.00</td>\n",
       "      <td>1.00</td>\n",
       "      <td>1.00</td>\n",
       "      <td>1.00</td>\n",
       "      <td>1.00</td>\n",
       "      <td>1.00</td>\n",
       "      <td>1.00</td>\n",
       "      <td>1.00</td>\n",
       "      <td>1.00</td>\n",
       "      <td>1.00</td>\n",
       "      <td>1.00</td>\n",
       "      <td>1.00</td>\n",
       "      <td>1.00</td>\n",
       "      <td>1.00</td>\n",
       "      <td>1.00</td>\n",
       "      <td>1.00</td>\n",
       "      <td>1.00</td>\n",
       "      <td>1.00</td>\n",
       "      <td>1.00</td>\n",
       "      <td>19.00</td>\n",
       "      <td>15.00</td>\n",
       "      <td>7.00</td>\n",
       "      <td>0.00</td>\n",
       "      <td>0.00</td>\n",
       "      <td>1.00</td>\n",
       "      <td>1.00</td>\n",
       "    </tr>\n",
       "    <tr>\n",
       "      <th>25%</th>\n",
       "      <td>3.00</td>\n",
       "      <td>4.00</td>\n",
       "      <td>4.00</td>\n",
       "      <td>3.00</td>\n",
       "      <td>4.00</td>\n",
       "      <td>4.00</td>\n",
       "      <td>4.00</td>\n",
       "      <td>4.00</td>\n",
       "      <td>4.00</td>\n",
       "      <td>4.00</td>\n",
       "      <td>3.00</td>\n",
       "      <td>3.00</td>\n",
       "      <td>5.00</td>\n",
       "      <td>5.00</td>\n",
       "      <td>4.00</td>\n",
       "      <td>4.00</td>\n",
       "      <td>3.00</td>\n",
       "      <td>4.00</td>\n",
       "      <td>4.00</td>\n",
       "      <td>3.00</td>\n",
       "      <td>4.00</td>\n",
       "      <td>3.75</td>\n",
       "      <td>4.00</td>\n",
       "      <td>4.00</td>\n",
       "      <td>4.00</td>\n",
       "      <td>4.00</td>\n",
       "      <td>5.00</td>\n",
       "      <td>4.00</td>\n",
       "      <td>4.00</td>\n",
       "      <td>3.00</td>\n",
       "      <td>3.00</td>\n",
       "      <td>34.00</td>\n",
       "      <td>36.00</td>\n",
       "      <td>15.00</td>\n",
       "      <td>0.00</td>\n",
       "      <td>0.00</td>\n",
       "      <td>2.00</td>\n",
       "      <td>2.00</td>\n",
       "    </tr>\n",
       "    <tr>\n",
       "      <th>50%</th>\n",
       "      <td>5.00</td>\n",
       "      <td>5.00</td>\n",
       "      <td>5.00</td>\n",
       "      <td>4.00</td>\n",
       "      <td>5.00</td>\n",
       "      <td>5.00</td>\n",
       "      <td>5.00</td>\n",
       "      <td>5.00</td>\n",
       "      <td>5.00</td>\n",
       "      <td>5.00</td>\n",
       "      <td>5.00</td>\n",
       "      <td>4.00</td>\n",
       "      <td>5.00</td>\n",
       "      <td>6.00</td>\n",
       "      <td>5.00</td>\n",
       "      <td>5.00</td>\n",
       "      <td>4.00</td>\n",
       "      <td>5.00</td>\n",
       "      <td>5.00</td>\n",
       "      <td>5.00</td>\n",
       "      <td>5.00</td>\n",
       "      <td>4.00</td>\n",
       "      <td>5.00</td>\n",
       "      <td>5.00</td>\n",
       "      <td>5.00</td>\n",
       "      <td>5.00</td>\n",
       "      <td>6.00</td>\n",
       "      <td>5.00</td>\n",
       "      <td>5.00</td>\n",
       "      <td>4.00</td>\n",
       "      <td>5.00</td>\n",
       "      <td>40.00</td>\n",
       "      <td>62.50</td>\n",
       "      <td>18.00</td>\n",
       "      <td>1.00</td>\n",
       "      <td>1.00</td>\n",
       "      <td>3.00</td>\n",
       "      <td>3.00</td>\n",
       "    </tr>\n",
       "    <tr>\n",
       "      <th>75%</th>\n",
       "      <td>7.00</td>\n",
       "      <td>6.00</td>\n",
       "      <td>6.00</td>\n",
       "      <td>5.00</td>\n",
       "      <td>6.00</td>\n",
       "      <td>6.00</td>\n",
       "      <td>6.00</td>\n",
       "      <td>6.00</td>\n",
       "      <td>6.00</td>\n",
       "      <td>6.00</td>\n",
       "      <td>5.25</td>\n",
       "      <td>6.00</td>\n",
       "      <td>7.00</td>\n",
       "      <td>7.00</td>\n",
       "      <td>6.00</td>\n",
       "      <td>6.00</td>\n",
       "      <td>6.00</td>\n",
       "      <td>7.00</td>\n",
       "      <td>6.00</td>\n",
       "      <td>6.00</td>\n",
       "      <td>6.00</td>\n",
       "      <td>5.00</td>\n",
       "      <td>6.00</td>\n",
       "      <td>6.00</td>\n",
       "      <td>6.00</td>\n",
       "      <td>6.00</td>\n",
       "      <td>7.00</td>\n",
       "      <td>6.00</td>\n",
       "      <td>6.00</td>\n",
       "      <td>5.00</td>\n",
       "      <td>6.00</td>\n",
       "      <td>46.00</td>\n",
       "      <td>96.00</td>\n",
       "      <td>21.00</td>\n",
       "      <td>2.00</td>\n",
       "      <td>1.00</td>\n",
       "      <td>3.00</td>\n",
       "      <td>4.00</td>\n",
       "    </tr>\n",
       "    <tr>\n",
       "      <th>max</th>\n",
       "      <td>9.00</td>\n",
       "      <td>9.00</td>\n",
       "      <td>9.00</td>\n",
       "      <td>9.00</td>\n",
       "      <td>9.00</td>\n",
       "      <td>9.00</td>\n",
       "      <td>9.00</td>\n",
       "      <td>9.00</td>\n",
       "      <td>9.00</td>\n",
       "      <td>9.00</td>\n",
       "      <td>9.00</td>\n",
       "      <td>9.00</td>\n",
       "      <td>9.00</td>\n",
       "      <td>9.00</td>\n",
       "      <td>9.00</td>\n",
       "      <td>9.00</td>\n",
       "      <td>9.00</td>\n",
       "      <td>9.00</td>\n",
       "      <td>9.00</td>\n",
       "      <td>9.00</td>\n",
       "      <td>9.00</td>\n",
       "      <td>9.00</td>\n",
       "      <td>9.00</td>\n",
       "      <td>9.00</td>\n",
       "      <td>9.00</td>\n",
       "      <td>9.00</td>\n",
       "      <td>9.00</td>\n",
       "      <td>9.00</td>\n",
       "      <td>9.00</td>\n",
       "      <td>9.00</td>\n",
       "      <td>9.00</td>\n",
       "      <td>60.00</td>\n",
       "      <td>273.00</td>\n",
       "      <td>32.00</td>\n",
       "      <td>4.00</td>\n",
       "      <td>1.00</td>\n",
       "      <td>4.00</td>\n",
       "      <td>5.00</td>\n",
       "    </tr>\n",
       "  </tbody>\n",
       "</table>\n",
       "</div>"
      ],
      "text/plain": [
       "       mvliking  kidtrans  miniboxy  lthrbetr  secbiggr  safeimpt  buyhghnd  \\\n",
       "count    400.00    400.00    400.00    400.00    400.00    400.00    400.00   \n",
       "mean       4.84      4.83      4.67      4.25      5.23      5.00      5.28   \n",
       "std        2.69      1.52      1.48      1.52      1.51      1.51      1.54   \n",
       "min        1.00      1.00      1.00      1.00      1.00      1.00      1.00   \n",
       "25%        3.00      4.00      4.00      3.00      4.00      4.00      4.00   \n",
       "50%        5.00      5.00      5.00      4.00      5.00      5.00      5.00   \n",
       "75%        7.00      6.00      6.00      5.00      6.00      6.00      6.00   \n",
       "max        9.00      9.00      9.00      9.00      9.00      9.00      9.00   \n",
       "\n",
       "       pricqual  prmsound  perfimpt  tkvacatn  noparkrm  homlrgst  envrminr  \\\n",
       "count    400.00    400.00    400.00    400.00    400.00    400.00    400.00   \n",
       "mean       4.96      4.72      5.00      4.44      4.58      5.49      5.53   \n",
       "std        1.52      1.51      1.49      1.53      1.52      1.50      1.52   \n",
       "min        1.00      1.00      1.00      1.00      1.00      1.00      1.00   \n",
       "25%        4.00      4.00      4.00      3.00      3.00      5.00      5.00   \n",
       "50%        5.00      5.00      5.00      5.00      4.00      5.00      6.00   \n",
       "75%        6.00      6.00      6.00      5.25      6.00      7.00      7.00   \n",
       "max        9.00      9.00      9.00      9.00      9.00      9.00      9.00   \n",
       "\n",
       "       needbetw  suvcmpct  next2str  carefmny  shdcarpl  imprtapp  lk4whldr  \\\n",
       "count    400.00    400.00    400.00    400.00    400.00    400.00    400.00   \n",
       "mean       4.94      4.78      4.49      5.22      5.17      4.56      5.24   \n",
       "std        1.55      1.51      1.55      1.53      1.50      1.50      1.46   \n",
       "min        1.00      1.00      1.00      1.00      1.00      1.00      1.00   \n",
       "25%        4.00      4.00      3.00      4.00      4.00      3.00      4.00   \n",
       "50%        5.00      5.00      4.00      5.00      5.00      5.00      5.00   \n",
       "75%        6.00      6.00      6.00      7.00      6.00      6.00      6.00   \n",
       "max        9.00      9.00      9.00      9.00      9.00      9.00      9.00   \n",
       "\n",
       "       kidsbulk  wntguzlr  nordtrps  stylclth  strngwrn  passnimp  twoincom  \\\n",
       "count    400.00    400.00    400.00    400.00    400.00    400.00    400.00   \n",
       "mean       4.48      5.06      5.32      5.34      5.04      5.62      4.87   \n",
       "std        1.48      1.51      1.49      1.53      1.50      1.51      1.56   \n",
       "min        1.00      1.00      1.00      1.00      1.00      1.00      1.00   \n",
       "25%        3.75      4.00      4.00      4.00      4.00      5.00      4.00   \n",
       "50%        4.00      5.00      5.00      5.00      5.00      6.00      5.00   \n",
       "75%        5.00      6.00      6.00      6.00      6.00      7.00      6.00   \n",
       "max        9.00      9.00      9.00      9.00      9.00      9.00      9.00   \n",
       "\n",
       "       nohummer  aftrschl  accesfun    age  income  miles  numkids  female  \\\n",
       "count    400.00    400.00    400.00 400.00  400.00 400.00   400.00  400.00   \n",
       "mean       4.85      4.38      4.64  40.05   71.28  18.04     1.22    0.54   \n",
       "std        1.54      1.51      1.52   8.57   43.28   4.86     1.08    0.50   \n",
       "min        1.00      1.00      1.00  19.00   15.00   7.00     0.00    0.00   \n",
       "25%        4.00      3.00      3.00  34.00   36.00  15.00     0.00    0.00   \n",
       "50%        5.00      4.00      5.00  40.00   62.50  18.00     1.00    1.00   \n",
       "75%        6.00      5.00      6.00  46.00   96.00  21.00     2.00    1.00   \n",
       "max        9.00      9.00      9.00  60.00  273.00  32.00     4.00    1.00   \n",
       "\n",
       "        educ  recycle  \n",
       "count 400.00   400.00  \n",
       "mean    2.81     3.04  \n",
       "std     0.93     1.18  \n",
       "min     1.00     1.00  \n",
       "25%     2.00     2.00  \n",
       "50%     3.00     3.00  \n",
       "75%     3.00     4.00  \n",
       "max     4.00     5.00  "
      ]
     },
     "execution_count": 10,
     "metadata": {},
     "output_type": "execute_result"
    }
   ],
   "source": [
    "df_microvan.describe()"
   ]
  },
  {
   "cell_type": "markdown",
   "id": "62d2f0f2",
   "metadata": {},
   "source": [
    "## 4. Redução de Dimensionalidade com PCA!\n",
    "\n",
    "Reduzir a dimensionalidade utilizando análise de componentes principais (PCA)"
   ]
  },
  {
   "cell_type": "markdown",
   "id": "e8c1520c",
   "metadata": {},
   "source": [
    "### 4.1. Definição de Componentes\n",
    "Primeiro, vamos analisar quantos componentes vamos usar (o menor número com maior variância \"explicada\")"
   ]
  },
  {
   "cell_type": "code",
   "execution_count": 11,
   "id": "259c5060",
   "metadata": {},
   "outputs": [
    {
     "data": {
      "text/html": [
       "<div>\n",
       "<style scoped>\n",
       "    .dataframe tbody tr th:only-of-type {\n",
       "        vertical-align: middle;\n",
       "    }\n",
       "\n",
       "    .dataframe tbody tr th {\n",
       "        vertical-align: top;\n",
       "    }\n",
       "\n",
       "    .dataframe thead th {\n",
       "        text-align: right;\n",
       "    }\n",
       "</style>\n",
       "<table border=\"1\" class=\"dataframe\">\n",
       "  <thead>\n",
       "    <tr style=\"text-align: right;\">\n",
       "      <th></th>\n",
       "      <th>kidtrans</th>\n",
       "      <th>miniboxy</th>\n",
       "      <th>lthrbetr</th>\n",
       "      <th>secbiggr</th>\n",
       "      <th>safeimpt</th>\n",
       "      <th>buyhghnd</th>\n",
       "      <th>pricqual</th>\n",
       "      <th>prmsound</th>\n",
       "      <th>perfimpt</th>\n",
       "      <th>tkvacatn</th>\n",
       "      <th>noparkrm</th>\n",
       "      <th>homlrgst</th>\n",
       "      <th>envrminr</th>\n",
       "      <th>needbetw</th>\n",
       "      <th>suvcmpct</th>\n",
       "      <th>next2str</th>\n",
       "      <th>carefmny</th>\n",
       "      <th>shdcarpl</th>\n",
       "      <th>imprtapp</th>\n",
       "      <th>lk4whldr</th>\n",
       "      <th>kidsbulk</th>\n",
       "      <th>wntguzlr</th>\n",
       "      <th>nordtrps</th>\n",
       "      <th>stylclth</th>\n",
       "      <th>strngwrn</th>\n",
       "      <th>passnimp</th>\n",
       "      <th>twoincom</th>\n",
       "      <th>nohummer</th>\n",
       "      <th>aftrschl</th>\n",
       "      <th>accesfun</th>\n",
       "    </tr>\n",
       "    <tr>\n",
       "      <th>subjnumb</th>\n",
       "      <th></th>\n",
       "      <th></th>\n",
       "      <th></th>\n",
       "      <th></th>\n",
       "      <th></th>\n",
       "      <th></th>\n",
       "      <th></th>\n",
       "      <th></th>\n",
       "      <th></th>\n",
       "      <th></th>\n",
       "      <th></th>\n",
       "      <th></th>\n",
       "      <th></th>\n",
       "      <th></th>\n",
       "      <th></th>\n",
       "      <th></th>\n",
       "      <th></th>\n",
       "      <th></th>\n",
       "      <th></th>\n",
       "      <th></th>\n",
       "      <th></th>\n",
       "      <th></th>\n",
       "      <th></th>\n",
       "      <th></th>\n",
       "      <th></th>\n",
       "      <th></th>\n",
       "      <th></th>\n",
       "      <th></th>\n",
       "      <th></th>\n",
       "      <th></th>\n",
       "    </tr>\n",
       "  </thead>\n",
       "  <tbody>\n",
       "    <tr>\n",
       "      <th>1</th>\n",
       "      <td>6</td>\n",
       "      <td>5</td>\n",
       "      <td>2</td>\n",
       "      <td>5</td>\n",
       "      <td>3</td>\n",
       "      <td>4</td>\n",
       "      <td>3</td>\n",
       "      <td>4</td>\n",
       "      <td>7</td>\n",
       "      <td>3</td>\n",
       "      <td>6</td>\n",
       "      <td>4</td>\n",
       "      <td>6</td>\n",
       "      <td>5</td>\n",
       "      <td>6</td>\n",
       "      <td>9</td>\n",
       "      <td>6</td>\n",
       "      <td>3</td>\n",
       "      <td>2</td>\n",
       "      <td>3</td>\n",
       "      <td>5</td>\n",
       "      <td>7</td>\n",
       "      <td>6</td>\n",
       "      <td>5</td>\n",
       "      <td>3</td>\n",
       "      <td>6</td>\n",
       "      <td>2</td>\n",
       "      <td>6</td>\n",
       "      <td>4</td>\n",
       "      <td>4</td>\n",
       "    </tr>\n",
       "    <tr>\n",
       "      <th>2</th>\n",
       "      <td>3</td>\n",
       "      <td>5</td>\n",
       "      <td>3</td>\n",
       "      <td>7</td>\n",
       "      <td>5</td>\n",
       "      <td>5</td>\n",
       "      <td>4</td>\n",
       "      <td>6</td>\n",
       "      <td>4</td>\n",
       "      <td>5</td>\n",
       "      <td>7</td>\n",
       "      <td>4</td>\n",
       "      <td>4</td>\n",
       "      <td>7</td>\n",
       "      <td>6</td>\n",
       "      <td>3</td>\n",
       "      <td>5</td>\n",
       "      <td>6</td>\n",
       "      <td>6</td>\n",
       "      <td>6</td>\n",
       "      <td>2</td>\n",
       "      <td>4</td>\n",
       "      <td>6</td>\n",
       "      <td>6</td>\n",
       "      <td>4</td>\n",
       "      <td>6</td>\n",
       "      <td>7</td>\n",
       "      <td>6</td>\n",
       "      <td>3</td>\n",
       "      <td>5</td>\n",
       "    </tr>\n",
       "    <tr>\n",
       "      <th>3</th>\n",
       "      <td>7</td>\n",
       "      <td>1</td>\n",
       "      <td>5</td>\n",
       "      <td>2</td>\n",
       "      <td>5</td>\n",
       "      <td>4</td>\n",
       "      <td>5</td>\n",
       "      <td>5</td>\n",
       "      <td>5</td>\n",
       "      <td>6</td>\n",
       "      <td>3</td>\n",
       "      <td>8</td>\n",
       "      <td>5</td>\n",
       "      <td>6</td>\n",
       "      <td>4</td>\n",
       "      <td>7</td>\n",
       "      <td>4</td>\n",
       "      <td>6</td>\n",
       "      <td>5</td>\n",
       "      <td>6</td>\n",
       "      <td>7</td>\n",
       "      <td>3</td>\n",
       "      <td>4</td>\n",
       "      <td>5</td>\n",
       "      <td>7</td>\n",
       "      <td>4</td>\n",
       "      <td>4</td>\n",
       "      <td>2</td>\n",
       "      <td>7</td>\n",
       "      <td>6</td>\n",
       "    </tr>\n",
       "    <tr>\n",
       "      <th>4</th>\n",
       "      <td>3</td>\n",
       "      <td>5</td>\n",
       "      <td>3</td>\n",
       "      <td>6</td>\n",
       "      <td>6</td>\n",
       "      <td>6</td>\n",
       "      <td>6</td>\n",
       "      <td>4</td>\n",
       "      <td>5</td>\n",
       "      <td>4</td>\n",
       "      <td>6</td>\n",
       "      <td>5</td>\n",
       "      <td>7</td>\n",
       "      <td>6</td>\n",
       "      <td>4</td>\n",
       "      <td>3</td>\n",
       "      <td>6</td>\n",
       "      <td>4</td>\n",
       "      <td>3</td>\n",
       "      <td>6</td>\n",
       "      <td>2</td>\n",
       "      <td>7</td>\n",
       "      <td>7</td>\n",
       "      <td>1</td>\n",
       "      <td>6</td>\n",
       "      <td>8</td>\n",
       "      <td>6</td>\n",
       "      <td>4</td>\n",
       "      <td>2</td>\n",
       "      <td>3</td>\n",
       "    </tr>\n",
       "    <tr>\n",
       "      <th>5</th>\n",
       "      <td>4</td>\n",
       "      <td>3</td>\n",
       "      <td>6</td>\n",
       "      <td>3</td>\n",
       "      <td>4</td>\n",
       "      <td>6</td>\n",
       "      <td>6</td>\n",
       "      <td>6</td>\n",
       "      <td>5</td>\n",
       "      <td>5</td>\n",
       "      <td>3</td>\n",
       "      <td>7</td>\n",
       "      <td>5</td>\n",
       "      <td>3</td>\n",
       "      <td>3</td>\n",
       "      <td>6</td>\n",
       "      <td>9</td>\n",
       "      <td>7</td>\n",
       "      <td>6</td>\n",
       "      <td>5</td>\n",
       "      <td>5</td>\n",
       "      <td>4</td>\n",
       "      <td>6</td>\n",
       "      <td>1</td>\n",
       "      <td>5</td>\n",
       "      <td>6</td>\n",
       "      <td>4</td>\n",
       "      <td>4</td>\n",
       "      <td>5</td>\n",
       "      <td>5</td>\n",
       "    </tr>\n",
       "  </tbody>\n",
       "</table>\n",
       "</div>"
      ],
      "text/plain": [
       "          kidtrans  miniboxy  lthrbetr  secbiggr  safeimpt  buyhghnd  \\\n",
       "subjnumb                                                               \n",
       "1                6         5         2         5         3         4   \n",
       "2                3         5         3         7         5         5   \n",
       "3                7         1         5         2         5         4   \n",
       "4                3         5         3         6         6         6   \n",
       "5                4         3         6         3         4         6   \n",
       "\n",
       "          pricqual  prmsound  perfimpt  tkvacatn  noparkrm  homlrgst  \\\n",
       "subjnumb                                                               \n",
       "1                3         4         7         3         6         4   \n",
       "2                4         6         4         5         7         4   \n",
       "3                5         5         5         6         3         8   \n",
       "4                6         4         5         4         6         5   \n",
       "5                6         6         5         5         3         7   \n",
       "\n",
       "          envrminr  needbetw  suvcmpct  next2str  carefmny  shdcarpl  \\\n",
       "subjnumb                                                               \n",
       "1                6         5         6         9         6         3   \n",
       "2                4         7         6         3         5         6   \n",
       "3                5         6         4         7         4         6   \n",
       "4                7         6         4         3         6         4   \n",
       "5                5         3         3         6         9         7   \n",
       "\n",
       "          imprtapp  lk4whldr  kidsbulk  wntguzlr  nordtrps  stylclth  \\\n",
       "subjnumb                                                               \n",
       "1                2         3         5         7         6         5   \n",
       "2                6         6         2         4         6         6   \n",
       "3                5         6         7         3         4         5   \n",
       "4                3         6         2         7         7         1   \n",
       "5                6         5         5         4         6         1   \n",
       "\n",
       "          strngwrn  passnimp  twoincom  nohummer  aftrschl  accesfun  \n",
       "subjnumb                                                              \n",
       "1                3         6         2         6         4         4  \n",
       "2                4         6         7         6         3         5  \n",
       "3                7         4         4         2         7         6  \n",
       "4                6         8         6         4         2         3  \n",
       "5                5         6         4         4         5         5  "
      ]
     },
     "execution_count": 11,
     "metadata": {},
     "output_type": "execute_result"
    }
   ],
   "source": [
    "colunas_demograficas = ['age', 'income', 'miles', 'numkids', 'female', 'educ', 'recycle', 'mvliking']\n",
    "df_microvan.drop(colunas_demograficas, axis=1).head()"
   ]
  },
  {
   "cell_type": "code",
   "execution_count": 12,
   "id": "6a7941b2",
   "metadata": {},
   "outputs": [
    {
     "name": "stdout",
     "output_type": "stream",
     "text": [
      "1 componentes com variância explicada total de 0.2769670987967245: [0.2769671]\n",
      "2 componentes com variância explicada total de 0.4445767750017478: [0.2769671  0.16760968]\n",
      "3 componentes com variância explicada total de 0.5459459552274872: [0.2769671  0.16760968 0.10136918]\n",
      "4 componentes com variância explicada total de 0.6342464490894244: [0.2769671  0.16760968 0.10136918 0.08830049]\n",
      "5 componentes com variância explicada total de 0.6949209280291696: [0.2769671  0.16760968 0.10136918 0.08830049 0.06067448]\n",
      "6 componentes com variância explicada total de 0.7163695796236542: [0.2769671  0.16760968 0.10136918 0.08830049 0.06067448 0.02144865]\n",
      "7 componentes com variância explicada total de 0.7356422840632016: [0.2769671  0.16760968 0.10136918 0.08830049 0.06067448 0.02144865\n",
      " 0.0192727 ]\n",
      "8 componentes com variância explicada total de 0.7538737884378807: [0.2769671  0.16760968 0.10136918 0.08830049 0.06067448 0.02144865\n",
      " 0.0192727  0.0182315 ]\n",
      "9 componentes com variância explicada total de 0.7715039823284858: [0.2769671  0.16760968 0.10136918 0.08830049 0.06067448 0.02144865\n",
      " 0.0192727  0.0182315  0.01763019]\n"
     ]
    }
   ],
   "source": [
    "# Remover as colunas demograficas para deixar somente o questionário (retirar também a variável mvliking)\n",
    "# O intuito é somente deixar as variáveis do questionário\n",
    "colunas_demograficas = ['age', 'income', 'miles', 'numkids', 'female', 'educ', 'recycle', 'mvliking']\n",
    "\n",
    "# Testando o número de compontentes e calculando a variância explicada de cada um\n",
    "for numero_componentes in range(1, 10):\n",
    "    # Classe PCA passando o número de componentes e o dataframe que vai ser reduzido\n",
    "    pca = PCA(n_components=numero_componentes, random_state=42).fit(df_microvan.drop(colunas_demograficas, axis=1))\n",
    "    print(f'{numero_componentes} componentes com variância explicada total de {sum(pca.explained_variance_ratio_)}: {pca.explained_variance_ratio_}')\n",
    "  \n"
   ]
  },
  {
   "cell_type": "code",
   "execution_count": 13,
   "id": "3e4776f5",
   "metadata": {},
   "outputs": [
    {
     "data": {
      "text/plain": [
       "'Ou seja, com cinco componentes temos 69.49209280291696 da variância explicada!'"
      ]
     },
     "execution_count": 13,
     "metadata": {},
     "output_type": "execute_result"
    }
   ],
   "source": [
    "# Escolhemos o número de compontentes em 5 pela explicabilidade da variância\n",
    "pca = PCA(n_components = 5, random_state=42).fit(df_microvan.drop(colunas_demograficas, axis=1))\n",
    "\n",
    "f'Ou seja, com cinco componentes temos {sum(pca.explained_variance_ratio_) * 100} da variância explicada!'"
   ]
  },
  {
   "cell_type": "code",
   "execution_count": 14,
   "id": "75fdd04f",
   "metadata": {},
   "outputs": [
    {
     "data": {
      "text/plain": [
       "(400, 38)"
      ]
     },
     "execution_count": 14,
     "metadata": {},
     "output_type": "execute_result"
    }
   ],
   "source": [
    "df_microvan.shape"
   ]
  },
  {
   "cell_type": "markdown",
   "id": "4933db1d",
   "metadata": {},
   "source": [
    "## 4.2. Análise dos Componentes\n",
    "\n",
    "Cada componente é criado como \"parte\" das variáveis originais. Ou seja, as variáveis originais compõe os componentes principais (lembra da projeção: o componente é a projeção dessas variáveis). Mas como saber o impacto de cada variável na projeção final? Existe um atributo no objeto PCA que mostra esses valores pra gente. "
   ]
  },
  {
   "cell_type": "code",
   "execution_count": 15,
   "id": "c48fc547",
   "metadata": {},
   "outputs": [
    {
     "data": {
      "text/plain": [
       "array([[-1.54242523e-01, -2.81775831e-02, -2.77771856e-01,\n",
       "         1.31120032e-02, -6.55592685e-02, -2.48789125e-01,\n",
       "        -1.87212012e-01, -2.57534039e-01,  2.75945850e-02,\n",
       "        -2.88168029e-01, -3.63932100e-02, -1.62540808e-01,\n",
       "         1.67796640e-01, -4.41662433e-02, -5.51359745e-02,\n",
       "        -6.95906332e-02,  2.91928208e-01, -1.70653306e-01,\n",
       "        -2.48765321e-01, -1.12947539e-01, -1.64018658e-01,\n",
       "         2.12266322e-01,  1.33568970e-01, -2.56185238e-01,\n",
       "        -1.38779086e-01,  2.71164567e-01, -1.99131255e-01,\n",
       "        -1.99116260e-02, -1.48933645e-01, -2.85564500e-01],\n",
       "       [-1.09807865e-03,  3.64988114e-01, -8.12541567e-02,\n",
       "         3.38909225e-01,  2.18792400e-04,  8.27943891e-02,\n",
       "        -7.97252373e-02, -6.19192696e-03, -1.47139293e-02,\n",
       "        -1.17792436e-02,  3.61515356e-01, -2.99948345e-01,\n",
       "        -1.51018703e-02,  3.46323846e-01,  3.61913246e-01,\n",
       "        -3.38353633e-01, -6.73537198e-02, -1.41603682e-02,\n",
       "        -7.29399128e-03, -7.47233603e-03,  5.49026164e-03,\n",
       "         1.28395361e-02, -4.15657799e-02,  1.09565715e-01,\n",
       "        -1.29419262e-01, -1.15932806e-02,  5.66549990e-02,\n",
       "         3.21711621e-01, -5.33263972e-02, -1.45619113e-02],\n",
       "       [ 3.66245411e-01, -4.90461183e-02, -4.15330606e-02,\n",
       "         1.37073296e-02,  2.99502837e-01, -7.04421574e-02,\n",
       "        -9.52279105e-02, -6.38079116e-02, -3.14298904e-01,\n",
       "        -8.42519793e-02,  1.62304129e-02, -4.34358814e-02,\n",
       "         2.68369268e-01, -2.78776434e-03,  7.55837638e-02,\n",
       "         2.49988999e-02,  6.22885815e-02, -2.33264827e-01,\n",
       "         5.04777297e-02,  2.17395820e-01,  2.93693494e-01,\n",
       "         2.34531019e-01, -3.44291537e-01, -1.10272631e-01,\n",
       "         2.02782117e-01, -9.51032564e-03, -8.15815686e-02,\n",
       "         4.73481752e-02,  3.66540761e-01, -5.31301792e-02],\n",
       "       [-3.10178841e-01,  6.53719415e-02, -2.57990305e-02,\n",
       "        -4.10091364e-02,  4.43774143e-01,  5.55809267e-02,\n",
       "         1.67666631e-02,  7.06316834e-03, -4.17136913e-01,\n",
       "        -3.55801010e-02,  6.87189020e-05,  3.65652913e-03,\n",
       "        -1.09136756e-01,  4.93691494e-02, -4.65018506e-02,\n",
       "        -6.70642259e-02, -6.33278732e-03,  1.28147706e-01,\n",
       "         1.70691224e-02,  4.16134474e-01, -2.51875643e-01,\n",
       "        -5.29514248e-02,  2.60566568e-01, -3.22467588e-02,\n",
       "         3.44728073e-01,  1.14994888e-01,  8.33864968e-02,\n",
       "         1.87067380e-02, -1.77278331e-01, -6.80332056e-02],\n",
       "       [ 1.28585242e-01, -3.23744132e-02, -7.50850791e-02,\n",
       "         6.77058388e-02,  2.89455316e-02, -3.01912902e-01,\n",
       "        -4.19543492e-01, -7.54139040e-02, -8.42656016e-02,\n",
       "         4.88451138e-02, -1.11873006e-01,  7.26574888e-02,\n",
       "        -4.14526450e-01, -1.94871616e-02,  3.64730234e-02,\n",
       "        -1.66468513e-01,  9.25773840e-02,  4.19887334e-01,\n",
       "         6.91722474e-02,  3.34508274e-02,  1.23431668e-01,\n",
       "        -2.92101549e-01, -1.57447865e-01,  3.61721536e-02,\n",
       "        -3.08194109e-02,  2.51856128e-02, -3.87027210e-01,\n",
       "        -2.73248055e-02,  1.94599191e-02, -5.59044839e-03]])"
      ]
     },
     "execution_count": 15,
     "metadata": {},
     "output_type": "execute_result"
    }
   ],
   "source": [
    "pca.components_"
   ]
  },
  {
   "cell_type": "markdown",
   "id": "1b696ed2",
   "metadata": {},
   "source": [
    "Vamos demonstrar que essa matriz numérica representa, na verdade, a contribuição de cada componente em relação às variáveis originais. Além disso, vamos apresentar graficamente os pesos (ou cargas) de cada variável na formação dos componentes."
   ]
  },
  {
   "cell_type": "code",
   "execution_count": 16,
   "id": "54631540",
   "metadata": {},
   "outputs": [
    {
     "data": {
      "text/html": [
       "<div>\n",
       "<style scoped>\n",
       "    .dataframe tbody tr th:only-of-type {\n",
       "        vertical-align: middle;\n",
       "    }\n",
       "\n",
       "    .dataframe tbody tr th {\n",
       "        vertical-align: top;\n",
       "    }\n",
       "\n",
       "    .dataframe thead th {\n",
       "        text-align: right;\n",
       "    }\n",
       "</style>\n",
       "<table border=\"1\" class=\"dataframe\">\n",
       "  <thead>\n",
       "    <tr style=\"text-align: right;\">\n",
       "      <th></th>\n",
       "      <th>kidtrans</th>\n",
       "      <th>miniboxy</th>\n",
       "      <th>lthrbetr</th>\n",
       "      <th>secbiggr</th>\n",
       "      <th>safeimpt</th>\n",
       "      <th>buyhghnd</th>\n",
       "      <th>pricqual</th>\n",
       "      <th>prmsound</th>\n",
       "      <th>perfimpt</th>\n",
       "      <th>tkvacatn</th>\n",
       "      <th>noparkrm</th>\n",
       "      <th>homlrgst</th>\n",
       "      <th>envrminr</th>\n",
       "      <th>needbetw</th>\n",
       "      <th>suvcmpct</th>\n",
       "      <th>next2str</th>\n",
       "      <th>carefmny</th>\n",
       "      <th>shdcarpl</th>\n",
       "      <th>imprtapp</th>\n",
       "      <th>lk4whldr</th>\n",
       "      <th>kidsbulk</th>\n",
       "      <th>wntguzlr</th>\n",
       "      <th>nordtrps</th>\n",
       "      <th>stylclth</th>\n",
       "      <th>strngwrn</th>\n",
       "      <th>passnimp</th>\n",
       "      <th>twoincom</th>\n",
       "      <th>nohummer</th>\n",
       "      <th>aftrschl</th>\n",
       "      <th>accesfun</th>\n",
       "    </tr>\n",
       "  </thead>\n",
       "  <tbody>\n",
       "    <tr>\n",
       "      <th>0</th>\n",
       "      <td>-0.15</td>\n",
       "      <td>-0.03</td>\n",
       "      <td>-0.28</td>\n",
       "      <td>0.01</td>\n",
       "      <td>-0.07</td>\n",
       "      <td>-0.25</td>\n",
       "      <td>-0.19</td>\n",
       "      <td>-0.26</td>\n",
       "      <td>0.03</td>\n",
       "      <td>-0.29</td>\n",
       "      <td>-0.04</td>\n",
       "      <td>-0.16</td>\n",
       "      <td>0.17</td>\n",
       "      <td>-0.04</td>\n",
       "      <td>-0.06</td>\n",
       "      <td>-0.07</td>\n",
       "      <td>0.29</td>\n",
       "      <td>-0.17</td>\n",
       "      <td>-0.25</td>\n",
       "      <td>-0.11</td>\n",
       "      <td>-0.16</td>\n",
       "      <td>0.21</td>\n",
       "      <td>0.13</td>\n",
       "      <td>-0.26</td>\n",
       "      <td>-0.14</td>\n",
       "      <td>0.27</td>\n",
       "      <td>-0.20</td>\n",
       "      <td>-0.02</td>\n",
       "      <td>-0.15</td>\n",
       "      <td>-0.29</td>\n",
       "    </tr>\n",
       "    <tr>\n",
       "      <th>1</th>\n",
       "      <td>-0.00</td>\n",
       "      <td>0.36</td>\n",
       "      <td>-0.08</td>\n",
       "      <td>0.34</td>\n",
       "      <td>0.00</td>\n",
       "      <td>0.08</td>\n",
       "      <td>-0.08</td>\n",
       "      <td>-0.01</td>\n",
       "      <td>-0.01</td>\n",
       "      <td>-0.01</td>\n",
       "      <td>0.36</td>\n",
       "      <td>-0.30</td>\n",
       "      <td>-0.02</td>\n",
       "      <td>0.35</td>\n",
       "      <td>0.36</td>\n",
       "      <td>-0.34</td>\n",
       "      <td>-0.07</td>\n",
       "      <td>-0.01</td>\n",
       "      <td>-0.01</td>\n",
       "      <td>-0.01</td>\n",
       "      <td>0.01</td>\n",
       "      <td>0.01</td>\n",
       "      <td>-0.04</td>\n",
       "      <td>0.11</td>\n",
       "      <td>-0.13</td>\n",
       "      <td>-0.01</td>\n",
       "      <td>0.06</td>\n",
       "      <td>0.32</td>\n",
       "      <td>-0.05</td>\n",
       "      <td>-0.01</td>\n",
       "    </tr>\n",
       "    <tr>\n",
       "      <th>2</th>\n",
       "      <td>0.37</td>\n",
       "      <td>-0.05</td>\n",
       "      <td>-0.04</td>\n",
       "      <td>0.01</td>\n",
       "      <td>0.30</td>\n",
       "      <td>-0.07</td>\n",
       "      <td>-0.10</td>\n",
       "      <td>-0.06</td>\n",
       "      <td>-0.31</td>\n",
       "      <td>-0.08</td>\n",
       "      <td>0.02</td>\n",
       "      <td>-0.04</td>\n",
       "      <td>0.27</td>\n",
       "      <td>-0.00</td>\n",
       "      <td>0.08</td>\n",
       "      <td>0.02</td>\n",
       "      <td>0.06</td>\n",
       "      <td>-0.23</td>\n",
       "      <td>0.05</td>\n",
       "      <td>0.22</td>\n",
       "      <td>0.29</td>\n",
       "      <td>0.23</td>\n",
       "      <td>-0.34</td>\n",
       "      <td>-0.11</td>\n",
       "      <td>0.20</td>\n",
       "      <td>-0.01</td>\n",
       "      <td>-0.08</td>\n",
       "      <td>0.05</td>\n",
       "      <td>0.37</td>\n",
       "      <td>-0.05</td>\n",
       "    </tr>\n",
       "    <tr>\n",
       "      <th>3</th>\n",
       "      <td>-0.31</td>\n",
       "      <td>0.07</td>\n",
       "      <td>-0.03</td>\n",
       "      <td>-0.04</td>\n",
       "      <td>0.44</td>\n",
       "      <td>0.06</td>\n",
       "      <td>0.02</td>\n",
       "      <td>0.01</td>\n",
       "      <td>-0.42</td>\n",
       "      <td>-0.04</td>\n",
       "      <td>0.00</td>\n",
       "      <td>0.00</td>\n",
       "      <td>-0.11</td>\n",
       "      <td>0.05</td>\n",
       "      <td>-0.05</td>\n",
       "      <td>-0.07</td>\n",
       "      <td>-0.01</td>\n",
       "      <td>0.13</td>\n",
       "      <td>0.02</td>\n",
       "      <td>0.42</td>\n",
       "      <td>-0.25</td>\n",
       "      <td>-0.05</td>\n",
       "      <td>0.26</td>\n",
       "      <td>-0.03</td>\n",
       "      <td>0.34</td>\n",
       "      <td>0.11</td>\n",
       "      <td>0.08</td>\n",
       "      <td>0.02</td>\n",
       "      <td>-0.18</td>\n",
       "      <td>-0.07</td>\n",
       "    </tr>\n",
       "    <tr>\n",
       "      <th>4</th>\n",
       "      <td>0.13</td>\n",
       "      <td>-0.03</td>\n",
       "      <td>-0.08</td>\n",
       "      <td>0.07</td>\n",
       "      <td>0.03</td>\n",
       "      <td>-0.30</td>\n",
       "      <td>-0.42</td>\n",
       "      <td>-0.08</td>\n",
       "      <td>-0.08</td>\n",
       "      <td>0.05</td>\n",
       "      <td>-0.11</td>\n",
       "      <td>0.07</td>\n",
       "      <td>-0.41</td>\n",
       "      <td>-0.02</td>\n",
       "      <td>0.04</td>\n",
       "      <td>-0.17</td>\n",
       "      <td>0.09</td>\n",
       "      <td>0.42</td>\n",
       "      <td>0.07</td>\n",
       "      <td>0.03</td>\n",
       "      <td>0.12</td>\n",
       "      <td>-0.29</td>\n",
       "      <td>-0.16</td>\n",
       "      <td>0.04</td>\n",
       "      <td>-0.03</td>\n",
       "      <td>0.03</td>\n",
       "      <td>-0.39</td>\n",
       "      <td>-0.03</td>\n",
       "      <td>0.02</td>\n",
       "      <td>-0.01</td>\n",
       "    </tr>\n",
       "  </tbody>\n",
       "</table>\n",
       "</div>"
      ],
      "text/plain": [
       "   kidtrans  miniboxy  lthrbetr  secbiggr  safeimpt  buyhghnd  pricqual  \\\n",
       "0     -0.15     -0.03     -0.28      0.01     -0.07     -0.25     -0.19   \n",
       "1     -0.00      0.36     -0.08      0.34      0.00      0.08     -0.08   \n",
       "2      0.37     -0.05     -0.04      0.01      0.30     -0.07     -0.10   \n",
       "3     -0.31      0.07     -0.03     -0.04      0.44      0.06      0.02   \n",
       "4      0.13     -0.03     -0.08      0.07      0.03     -0.30     -0.42   \n",
       "\n",
       "   prmsound  perfimpt  tkvacatn  noparkrm  homlrgst  envrminr  needbetw  \\\n",
       "0     -0.26      0.03     -0.29     -0.04     -0.16      0.17     -0.04   \n",
       "1     -0.01     -0.01     -0.01      0.36     -0.30     -0.02      0.35   \n",
       "2     -0.06     -0.31     -0.08      0.02     -0.04      0.27     -0.00   \n",
       "3      0.01     -0.42     -0.04      0.00      0.00     -0.11      0.05   \n",
       "4     -0.08     -0.08      0.05     -0.11      0.07     -0.41     -0.02   \n",
       "\n",
       "   suvcmpct  next2str  carefmny  shdcarpl  imprtapp  lk4whldr  kidsbulk  \\\n",
       "0     -0.06     -0.07      0.29     -0.17     -0.25     -0.11     -0.16   \n",
       "1      0.36     -0.34     -0.07     -0.01     -0.01     -0.01      0.01   \n",
       "2      0.08      0.02      0.06     -0.23      0.05      0.22      0.29   \n",
       "3     -0.05     -0.07     -0.01      0.13      0.02      0.42     -0.25   \n",
       "4      0.04     -0.17      0.09      0.42      0.07      0.03      0.12   \n",
       "\n",
       "   wntguzlr  nordtrps  stylclth  strngwrn  passnimp  twoincom  nohummer  \\\n",
       "0      0.21      0.13     -0.26     -0.14      0.27     -0.20     -0.02   \n",
       "1      0.01     -0.04      0.11     -0.13     -0.01      0.06      0.32   \n",
       "2      0.23     -0.34     -0.11      0.20     -0.01     -0.08      0.05   \n",
       "3     -0.05      0.26     -0.03      0.34      0.11      0.08      0.02   \n",
       "4     -0.29     -0.16      0.04     -0.03      0.03     -0.39     -0.03   \n",
       "\n",
       "   aftrschl  accesfun  \n",
       "0     -0.15     -0.29  \n",
       "1     -0.05     -0.01  \n",
       "2      0.37     -0.05  \n",
       "3     -0.18     -0.07  \n",
       "4      0.02     -0.01  "
      ]
     },
     "execution_count": 16,
     "metadata": {},
     "output_type": "execute_result"
    }
   ],
   "source": [
    "df_composicao_componentes = pd.DataFrame(columns=df_microvan.drop(colunas_demograficas, axis=1).columns)\n",
    "\n",
    "for i in range(5):\n",
    "    df_composicao_componentes.loc[i] = pca.components_[i]\n",
    "\n",
    "df_composicao_componentes"
   ]
  },
  {
   "cell_type": "code",
   "execution_count": 17,
   "id": "c10d4d59",
   "metadata": {},
   "outputs": [
    {
     "name": "stdout",
     "output_type": "stream",
     "text": [
      "Componente 1 impacto positivo: \"Temos cuidado com o dinheiro\" e impacto negativo: \"Tentamos tirar o máximo de férias possível\"\n",
      "\n",
      "\n",
      "Componente 2 impacto positivo: \"As minivans atuais são simplesmente muito quadradas e grandes\" e impacto negativo: \"Meu próximo carro será um de dois lugares\"\n",
      "\n",
      "\n",
      "Componente 3 impacto positivo: \"Nós nos envolvemos em mais atividades depois da escola do que a maioria das famílias\" e impacto negativo: \"Não fazemos viagens com a família\"\n",
      "\n",
      "\n",
      "Componente 4 impacto positivo: \"A segurança do automóvel é muito importante para mim\" e impacto negativo: \"O desempenho é muito importante em um carro\"\n",
      "\n",
      "\n",
      "Componente 5 impacto positivo: \"Acho que todo mundo deveria pegar carona ou usar transporte público\" e impacto negativo: \"Os preços dos automóveis refletem fortemente a qualidade de produção subjacente\"\n",
      "\n",
      "\n"
     ]
    }
   ],
   "source": [
    "# Calculo para cada componente\n",
    "\n",
    "for i in range(5):\n",
    "    coluna_maior = df_composicao_componentes.columns[df_composicao_componentes.loc[i].argmax()]\n",
    "    coluna_menor = df_composicao_componentes.columns[df_composicao_componentes.loc[i].argmin()]\n",
    "    \n",
    "    print(f'Componente {i+1} impacto positivo: \"{dicionario_dados[coluna_maior]}\" e impacto negativo: \"{dicionario_dados[coluna_menor]}\"\\n\\n')"
   ]
  },
  {
   "cell_type": "markdown",
   "id": "a874c0f9",
   "metadata": {},
   "source": [
    "### 4.3. Analisando graficamente os pesos de cada variável nos componentes principais</a>"
   ]
  },
  {
   "cell_type": "code",
   "execution_count": 18,
   "id": "a2a809bf",
   "metadata": {},
   "outputs": [
    {
     "data": {
      "text/plain": [
       "'O impacto ambiental dos automóveis é relativamente pequeno'"
      ]
     },
     "execution_count": 18,
     "metadata": {},
     "output_type": "execute_result"
    }
   ],
   "source": [
    "dicionario_dados['envrminr']"
   ]
  },
  {
   "cell_type": "code",
   "execution_count": 19,
   "id": "9fe6930a",
   "metadata": {},
   "outputs": [
    {
     "data": {
      "text/plain": [
       "<Axes: >"
      ]
     },
     "execution_count": 19,
     "metadata": {},
     "output_type": "execute_result"
    },
    {
     "data": {
      "image/png": "[encoded data removed]",
      "text/plain": [
       "<Figure size 1600x800 with 2 Axes>"
      ]
     },
     "metadata": {},
     "output_type": "display_data"
    }
   ],
   "source": [
    "import seaborn as sns\n",
    "\n",
    "plt.figure(figsize=(16, 8))\n",
    "sns.heatmap(data=df_composicao_componentes, yticklabels=df_composicao_componentes.index+1)"
   ]
  },
  {
   "cell_type": "markdown",
   "id": "499787cc",
   "metadata": {},
   "source": [
    "Para facilitar o entendimento posterior e termos um nome mais mnemônico que somente componente 1, 2; podemos criar \"nomes\" para os componentes de acordo com suas características. Isso vai ser útil quando fizermos análise de aglomerados mais à frente!\n",
    "\n",
    "- Componente 1: **Avarento sem férias!**\n",
    "- Componente 2: **Gostamos de carros apertados!**\n",
    "- Componente 3: **Família é o que interessa!**\n",
    "- Componente 4: **Carro com melhor desempenho!**\n",
    "- Componente 5: **Pago caro por carro bom e não ligo para poluição!**\n",
    "\n",
    "Embora os nomes e brincadeiras sejam parte do processo, é fundamental compreender as características dos componentes para fundamentar as estratégias de marketing. Esse entendimento permite identificar quais variáveis possuem comportamentos semelhantes, o que, em questionários, contribui para agrupar de forma mais precisa aquelas que realmente são mais próximas entre si.. "
   ]
  },
  {
   "cell_type": "code",
   "execution_count": 20,
   "id": "211bc289",
   "metadata": {},
   "outputs": [
    {
     "data": {
      "text/plain": [
       "array([[ 4.95739724,  0.630778  ,  0.25397408, -4.53413096, -0.4787577 ],\n",
       "       [-0.42529226,  4.57730748, -2.68257259,  2.62292284,  0.50422577],\n",
       "       [-4.20223653, -5.99835902,  2.46455968, -1.54782301,  2.41202492],\n",
       "       ...,\n",
       "       [-6.4115679 ,  4.47822563, -6.6555251 ,  0.29161379,  1.62472682],\n",
       "       [-3.57270499,  5.5292335 ,  0.25267482, -2.61167859,  1.04362801],\n",
       "       [ 4.05034892, -2.45977589,  3.75878157,  0.49039215, -0.74268315]],\n",
       "      shape=(400, 5))"
      ]
     },
     "execution_count": 20,
     "metadata": {},
     "output_type": "execute_result"
    }
   ],
   "source": [
    "# transformar nosso dataframe original com os componentes que criamos.\n",
    "componentes_principais_microvan = pca.transform(df_microvan.drop(colunas_demograficas, axis=1))\n",
    "componentes_principais_microvan\n"
   ]
  },
  {
   "cell_type": "markdown",
   "id": "608d7b08",
   "metadata": {},
   "source": [
    "## 5. Clusterização - KMeans\n",
    "\n",
    "Na primeira etapa, realizamos a redução da dimensionalidade do questionário, pois aplicar um cluster diretamente sobre 30 variáveis tornaria a interpretação dos grupos bastante complexa. Por isso, utilizamos a clusterização com base nos componentes principais, em vez das variáveis originais do questionário. Dessa forma, reduzimos de 30 para apenas 5 variáveis, o que facilita significativamente a compreensão dos resultados do agrupamento."
   ]
  },
  {
   "cell_type": "code",
   "execution_count": 21,
   "id": "bf29f02c",
   "metadata": {},
   "outputs": [
    {
     "data": {
      "text/plain": [
       "array([[ 4.95739724,  0.630778  ,  0.25397408, -4.53413096, -0.4787577 ],\n",
       "       [-0.42529226,  4.57730748, -2.68257259,  2.62292284,  0.50422577],\n",
       "       [-4.20223653, -5.99835902,  2.46455968, -1.54782301,  2.41202492],\n",
       "       ...,\n",
       "       [-6.4115679 ,  4.47822563, -6.6555251 ,  0.29161379,  1.62472682],\n",
       "       [-3.57270499,  5.5292335 ,  0.25267482, -2.61167859,  1.04362801],\n",
       "       [ 4.05034892, -2.45977589,  3.75878157,  0.49039215, -0.74268315]],\n",
       "      shape=(400, 5))"
      ]
     },
     "execution_count": 21,
     "metadata": {},
     "output_type": "execute_result"
    }
   ],
   "source": [
    "# Lembrando que temos o questionário \"transformado\" em 5 componentes principais\n",
    "# Cada linha desse array é um cliente que respondeu o questionário, com os valores de cada um dos 5 componentes\n",
    "componentes_principais_microvan"
   ]
  },
  {
   "cell_type": "markdown",
   "id": "eb98a14b",
   "metadata": {},
   "source": [
    "#### Ex: a linha 1 é um cliente que respondeu o questionário e tem o componente principal 1 no valor de 4,9, ou seja, um valor forte positivo para \"_Avarento sem férias_\" e valor 4,5 para \"_Carro com melhor desempenho_\" :)"
   ]
  },
  {
   "cell_type": "code",
   "execution_count": 22,
   "id": "744fa64c",
   "metadata": {},
   "outputs": [
    {
     "data": {
      "text/html": [
       "<div>\n",
       "<style scoped>\n",
       "    .dataframe tbody tr th:only-of-type {\n",
       "        vertical-align: middle;\n",
       "    }\n",
       "\n",
       "    .dataframe tbody tr th {\n",
       "        vertical-align: top;\n",
       "    }\n",
       "\n",
       "    .dataframe thead th {\n",
       "        text-align: right;\n",
       "    }\n",
       "</style>\n",
       "<table border=\"1\" class=\"dataframe\">\n",
       "  <thead>\n",
       "    <tr style=\"text-align: right;\">\n",
       "      <th></th>\n",
       "      <th>avarento</th>\n",
       "      <th>apertados</th>\n",
       "      <th>familia</th>\n",
       "      <th>desempenho</th>\n",
       "      <th>carro_caro</th>\n",
       "    </tr>\n",
       "    <tr>\n",
       "      <th>subjnumb</th>\n",
       "      <th></th>\n",
       "      <th></th>\n",
       "      <th></th>\n",
       "      <th></th>\n",
       "      <th></th>\n",
       "    </tr>\n",
       "  </thead>\n",
       "  <tbody>\n",
       "    <tr>\n",
       "      <th>1</th>\n",
       "      <td>4.96</td>\n",
       "      <td>0.63</td>\n",
       "      <td>0.25</td>\n",
       "      <td>-4.53</td>\n",
       "      <td>-0.48</td>\n",
       "    </tr>\n",
       "    <tr>\n",
       "      <th>2</th>\n",
       "      <td>-0.43</td>\n",
       "      <td>4.58</td>\n",
       "      <td>-2.68</td>\n",
       "      <td>2.62</td>\n",
       "      <td>0.50</td>\n",
       "    </tr>\n",
       "    <tr>\n",
       "      <th>3</th>\n",
       "      <td>-4.20</td>\n",
       "      <td>-6.00</td>\n",
       "      <td>2.46</td>\n",
       "      <td>-1.55</td>\n",
       "      <td>2.41</td>\n",
       "    </tr>\n",
       "    <tr>\n",
       "      <th>4</th>\n",
       "      <td>4.89</td>\n",
       "      <td>0.93</td>\n",
       "      <td>-0.76</td>\n",
       "      <td>3.58</td>\n",
       "      <td>-3.52</td>\n",
       "    </tr>\n",
       "    <tr>\n",
       "      <th>5</th>\n",
       "      <td>0.12</td>\n",
       "      <td>-5.55</td>\n",
       "      <td>-1.02</td>\n",
       "      <td>-0.07</td>\n",
       "      <td>0.84</td>\n",
       "    </tr>\n",
       "  </tbody>\n",
       "</table>\n",
       "</div>"
      ],
      "text/plain": [
       "          avarento  apertados  familia  desempenho  carro_caro\n",
       "subjnumb                                                      \n",
       "1             4.96       0.63     0.25       -4.53       -0.48\n",
       "2            -0.43       4.58    -2.68        2.62        0.50\n",
       "3            -4.20      -6.00     2.46       -1.55        2.41\n",
       "4             4.89       0.93    -0.76        3.58       -3.52\n",
       "5             0.12      -5.55    -1.02       -0.07        0.84"
      ]
     },
     "execution_count": 22,
     "metadata": {},
     "output_type": "execute_result"
    }
   ],
   "source": [
    "# Agora que temos os componentes, vamos apensar as colunas nos clientes para termos os dados completos\n",
    "# Primeiro, transformando o array em dataframe para incluir os nomes certos dos componentes\n",
    "nomes_componentes = ['avarento', 'apertados', 'familia', 'desempenho', 'carro_caro']\n",
    "\n",
    "df_componentes_principais_microvan = pd.DataFrame(componentes_principais_microvan, columns = nomes_componentes, index=df_microvan.index)\n",
    "df_componentes_principais_microvan.head()"
   ]
  },
  {
   "cell_type": "code",
   "execution_count": 23,
   "id": "5a3c4b78",
   "metadata": {},
   "outputs": [
    {
     "data": {
      "text/html": [
       "<div>\n",
       "<style scoped>\n",
       "    .dataframe tbody tr th:only-of-type {\n",
       "        vertical-align: middle;\n",
       "    }\n",
       "\n",
       "    .dataframe tbody tr th {\n",
       "        vertical-align: top;\n",
       "    }\n",
       "\n",
       "    .dataframe thead th {\n",
       "        text-align: right;\n",
       "    }\n",
       "</style>\n",
       "<table border=\"1\" class=\"dataframe\">\n",
       "  <thead>\n",
       "    <tr style=\"text-align: right;\">\n",
       "      <th></th>\n",
       "      <th>age</th>\n",
       "      <th>income</th>\n",
       "      <th>miles</th>\n",
       "      <th>numkids</th>\n",
       "      <th>female</th>\n",
       "      <th>educ</th>\n",
       "      <th>recycle</th>\n",
       "      <th>mvliking</th>\n",
       "      <th>avarento</th>\n",
       "      <th>apertados</th>\n",
       "      <th>familia</th>\n",
       "      <th>desempenho</th>\n",
       "      <th>carro_caro</th>\n",
       "    </tr>\n",
       "    <tr>\n",
       "      <th>subjnumb</th>\n",
       "      <th></th>\n",
       "      <th></th>\n",
       "      <th></th>\n",
       "      <th></th>\n",
       "      <th></th>\n",
       "      <th></th>\n",
       "      <th></th>\n",
       "      <th></th>\n",
       "      <th></th>\n",
       "      <th></th>\n",
       "      <th></th>\n",
       "      <th></th>\n",
       "      <th></th>\n",
       "    </tr>\n",
       "  </thead>\n",
       "  <tbody>\n",
       "    <tr>\n",
       "      <th>1</th>\n",
       "      <td>34</td>\n",
       "      <td>59</td>\n",
       "      <td>14</td>\n",
       "      <td>1</td>\n",
       "      <td>0</td>\n",
       "      <td>1</td>\n",
       "      <td>3</td>\n",
       "      <td>4</td>\n",
       "      <td>4.96</td>\n",
       "      <td>0.63</td>\n",
       "      <td>0.25</td>\n",
       "      <td>-4.53</td>\n",
       "      <td>-0.48</td>\n",
       "    </tr>\n",
       "    <tr>\n",
       "      <th>2</th>\n",
       "      <td>36</td>\n",
       "      <td>79</td>\n",
       "      <td>16</td>\n",
       "      <td>1</td>\n",
       "      <td>0</td>\n",
       "      <td>3</td>\n",
       "      <td>4</td>\n",
       "      <td>6</td>\n",
       "      <td>-0.43</td>\n",
       "      <td>4.58</td>\n",
       "      <td>-2.68</td>\n",
       "      <td>2.62</td>\n",
       "      <td>0.50</td>\n",
       "    </tr>\n",
       "    <tr>\n",
       "      <th>3</th>\n",
       "      <td>51</td>\n",
       "      <td>72</td>\n",
       "      <td>22</td>\n",
       "      <td>2</td>\n",
       "      <td>1</td>\n",
       "      <td>3</td>\n",
       "      <td>3</td>\n",
       "      <td>3</td>\n",
       "      <td>-4.20</td>\n",
       "      <td>-6.00</td>\n",
       "      <td>2.46</td>\n",
       "      <td>-1.55</td>\n",
       "      <td>2.41</td>\n",
       "    </tr>\n",
       "    <tr>\n",
       "      <th>4</th>\n",
       "      <td>32</td>\n",
       "      <td>42</td>\n",
       "      <td>12</td>\n",
       "      <td>0</td>\n",
       "      <td>0</td>\n",
       "      <td>3</td>\n",
       "      <td>2</td>\n",
       "      <td>3</td>\n",
       "      <td>4.89</td>\n",
       "      <td>0.93</td>\n",
       "      <td>-0.76</td>\n",
       "      <td>3.58</td>\n",
       "      <td>-3.52</td>\n",
       "    </tr>\n",
       "    <tr>\n",
       "      <th>5</th>\n",
       "      <td>40</td>\n",
       "      <td>75</td>\n",
       "      <td>17</td>\n",
       "      <td>1</td>\n",
       "      <td>1</td>\n",
       "      <td>3</td>\n",
       "      <td>4</td>\n",
       "      <td>1</td>\n",
       "      <td>0.12</td>\n",
       "      <td>-5.55</td>\n",
       "      <td>-1.02</td>\n",
       "      <td>-0.07</td>\n",
       "      <td>0.84</td>\n",
       "    </tr>\n",
       "  </tbody>\n",
       "</table>\n",
       "</div>"
      ],
      "text/plain": [
       "          age  income  miles  numkids  female  educ  recycle  mvliking  \\\n",
       "subjnumb                                                                 \n",
       "1          34      59     14        1       0     1        3         4   \n",
       "2          36      79     16        1       0     3        4         6   \n",
       "3          51      72     22        2       1     3        3         3   \n",
       "4          32      42     12        0       0     3        2         3   \n",
       "5          40      75     17        1       1     3        4         1   \n",
       "\n",
       "          avarento  apertados  familia  desempenho  carro_caro  \n",
       "subjnumb                                                        \n",
       "1             4.96       0.63     0.25       -4.53       -0.48  \n",
       "2            -0.43       4.58    -2.68        2.62        0.50  \n",
       "3            -4.20      -6.00     2.46       -1.55        2.41  \n",
       "4             4.89       0.93    -0.76        3.58       -3.52  \n",
       "5             0.12      -5.55    -1.02       -0.07        0.84  "
      ]
     },
     "execution_count": 23,
     "metadata": {},
     "output_type": "execute_result"
    }
   ],
   "source": [
    "# Anexar aos dados originais (sem os questionários, que já foram substituídos pelos componentes principais).\n",
    "colunas_demograficas\n",
    "\n",
    "df_completo = pd.concat([df_microvan.loc[:, colunas_demograficas], df_componentes_principais_microvan], axis=1)\n",
    "df_completo.head()\n"
   ]
  },
  {
   "cell_type": "markdown",
   "id": "2d906558-a124-47ce-8b05-4f158795a7f7",
   "metadata": {},
   "source": [
    "### 5.1 Cluster KMeans"
   ]
  },
  {
   "cell_type": "code",
   "execution_count": 36,
   "id": "819c8730",
   "metadata": {},
   "outputs": [
    {
     "data": {
      "image/png": "[encoded data removed]",
      "text/plain": [
       "<Figure size 640x480 with 1 Axes>"
      ]
     },
     "metadata": {},
     "output_type": "display_data"
    }
   ],
   "source": [
    "# Criar os clusters\n",
    "from sklearn.cluster import KMeans\n",
    "\n",
    "# Vamos utilizar a métrica SSE (Error Sum of Squares) que \n",
    "# calcula o quadrado da distância de cada ponto ao seu centróide\n",
    "# e soma tudo! Ou seja, quanto mais \"espalhado\" os clusters estiverem, maior\n",
    "# o erro (clusters juntinhos é melhor com SSE baixo)\n",
    "sse = {}\n",
    "\n",
    "# Vamos utilizar o gráfico de cotovelo utilizando a métrica SSE variando de 1 a 9 clusters\n",
    "for num_clusters in range(1, 10):\n",
    "    kmeans = KMeans(n_clusters=num_clusters, max_iter=1000, ).fit(df_completo.loc[:, nomes_componentes])\n",
    "    \n",
    "    # Incluindo a informação de qual cluster cada observação pertence\n",
    "    #df_completo[\"clusters\"] = kmeans.labels_\n",
    "\n",
    "    # Inertia: Soma das distâncias entre as observações\n",
    "    # e o centro do seu cluster\n",
    "    sse[num_clusters] = kmeans.inertia_ \n",
    "    \n",
    "plt.figure()\n",
    "plt.plot(list(sse.keys()), list(sse.values()))\n",
    "plt.xlabel(\"Número de clusters\")\n",
    "plt.ylabel(\"SSE\")\n",
    "plt.show()"
   ]
  },
  {
   "cell_type": "code",
   "execution_count": 37,
   "id": "9da7792e",
   "metadata": {},
   "outputs": [
    {
     "data": {
      "text/html": [
       "<div>\n",
       "<style scoped>\n",
       "    .dataframe tbody tr th:only-of-type {\n",
       "        vertical-align: middle;\n",
       "    }\n",
       "\n",
       "    .dataframe tbody tr th {\n",
       "        vertical-align: top;\n",
       "    }\n",
       "\n",
       "    .dataframe thead th {\n",
       "        text-align: right;\n",
       "    }\n",
       "</style>\n",
       "<table border=\"1\" class=\"dataframe\">\n",
       "  <thead>\n",
       "    <tr style=\"text-align: right;\">\n",
       "      <th></th>\n",
       "      <th>age</th>\n",
       "      <th>income</th>\n",
       "      <th>miles</th>\n",
       "      <th>numkids</th>\n",
       "      <th>female</th>\n",
       "      <th>educ</th>\n",
       "      <th>recycle</th>\n",
       "      <th>mvliking</th>\n",
       "      <th>avarento</th>\n",
       "      <th>apertados</th>\n",
       "      <th>familia</th>\n",
       "      <th>desempenho</th>\n",
       "      <th>carro_caro</th>\n",
       "      <th>clusters</th>\n",
       "    </tr>\n",
       "    <tr>\n",
       "      <th>subjnumb</th>\n",
       "      <th></th>\n",
       "      <th></th>\n",
       "      <th></th>\n",
       "      <th></th>\n",
       "      <th></th>\n",
       "      <th></th>\n",
       "      <th></th>\n",
       "      <th></th>\n",
       "      <th></th>\n",
       "      <th></th>\n",
       "      <th></th>\n",
       "      <th></th>\n",
       "      <th></th>\n",
       "      <th></th>\n",
       "    </tr>\n",
       "  </thead>\n",
       "  <tbody>\n",
       "    <tr>\n",
       "      <th>1</th>\n",
       "      <td>34</td>\n",
       "      <td>59</td>\n",
       "      <td>14</td>\n",
       "      <td>1</td>\n",
       "      <td>0</td>\n",
       "      <td>1</td>\n",
       "      <td>3</td>\n",
       "      <td>4</td>\n",
       "      <td>4.96</td>\n",
       "      <td>0.63</td>\n",
       "      <td>0.25</td>\n",
       "      <td>-4.53</td>\n",
       "      <td>-0.48</td>\n",
       "      <td>1</td>\n",
       "    </tr>\n",
       "    <tr>\n",
       "      <th>2</th>\n",
       "      <td>36</td>\n",
       "      <td>79</td>\n",
       "      <td>16</td>\n",
       "      <td>1</td>\n",
       "      <td>0</td>\n",
       "      <td>3</td>\n",
       "      <td>4</td>\n",
       "      <td>6</td>\n",
       "      <td>-0.43</td>\n",
       "      <td>4.58</td>\n",
       "      <td>-2.68</td>\n",
       "      <td>2.62</td>\n",
       "      <td>0.50</td>\n",
       "      <td>0</td>\n",
       "    </tr>\n",
       "    <tr>\n",
       "      <th>3</th>\n",
       "      <td>51</td>\n",
       "      <td>72</td>\n",
       "      <td>22</td>\n",
       "      <td>2</td>\n",
       "      <td>1</td>\n",
       "      <td>3</td>\n",
       "      <td>3</td>\n",
       "      <td>3</td>\n",
       "      <td>-4.20</td>\n",
       "      <td>-6.00</td>\n",
       "      <td>2.46</td>\n",
       "      <td>-1.55</td>\n",
       "      <td>2.41</td>\n",
       "      <td>2</td>\n",
       "    </tr>\n",
       "    <tr>\n",
       "      <th>4</th>\n",
       "      <td>32</td>\n",
       "      <td>42</td>\n",
       "      <td>12</td>\n",
       "      <td>0</td>\n",
       "      <td>0</td>\n",
       "      <td>3</td>\n",
       "      <td>2</td>\n",
       "      <td>3</td>\n",
       "      <td>4.89</td>\n",
       "      <td>0.93</td>\n",
       "      <td>-0.76</td>\n",
       "      <td>3.58</td>\n",
       "      <td>-3.52</td>\n",
       "      <td>1</td>\n",
       "    </tr>\n",
       "    <tr>\n",
       "      <th>5</th>\n",
       "      <td>40</td>\n",
       "      <td>75</td>\n",
       "      <td>17</td>\n",
       "      <td>1</td>\n",
       "      <td>1</td>\n",
       "      <td>3</td>\n",
       "      <td>4</td>\n",
       "      <td>1</td>\n",
       "      <td>0.12</td>\n",
       "      <td>-5.55</td>\n",
       "      <td>-1.02</td>\n",
       "      <td>-0.07</td>\n",
       "      <td>0.84</td>\n",
       "      <td>2</td>\n",
       "    </tr>\n",
       "  </tbody>\n",
       "</table>\n",
       "</div>"
      ],
      "text/plain": [
       "          age  income  miles  numkids  female  educ  recycle  mvliking  \\\n",
       "subjnumb                                                                 \n",
       "1          34      59     14        1       0     1        3         4   \n",
       "2          36      79     16        1       0     3        4         6   \n",
       "3          51      72     22        2       1     3        3         3   \n",
       "4          32      42     12        0       0     3        2         3   \n",
       "5          40      75     17        1       1     3        4         1   \n",
       "\n",
       "          avarento  apertados  familia  desempenho  carro_caro  clusters  \n",
       "subjnumb                                                                  \n",
       "1             4.96       0.63     0.25       -4.53       -0.48         1  \n",
       "2            -0.43       4.58    -2.68        2.62        0.50         0  \n",
       "3            -4.20      -6.00     2.46       -1.55        2.41         2  \n",
       "4             4.89       0.93    -0.76        3.58       -3.52         1  \n",
       "5             0.12      -5.55    -1.02       -0.07        0.84         2  "
      ]
     },
     "execution_count": 37,
     "metadata": {},
     "output_type": "execute_result"
    }
   ],
   "source": [
    "kmeans = KMeans(n_clusters=3, max_iter=1000, ).fit(df_completo.loc[:, nomes_componentes])\n",
    "\n",
    "# Incluindo a informação de qual cluster cada observação pertence\n",
    "df_completo[\"clusters\"] = kmeans.labels_\n",
    "df_completo.head()"
   ]
  },
  {
   "cell_type": "code",
   "execution_count": 38,
   "id": "5cd020dd",
   "metadata": {},
   "outputs": [
    {
     "data": {
      "text/plain": [
       "array([1, 0, 2, 1, 2, 2, 0, 1, 2, 1, 1, 2, 1, 2, 0, 0, 0, 0, 1, 1, 1, 1,\n",
       "       0, 2, 1, 2, 1, 0, 2, 2, 1, 2, 1, 2, 2, 2, 2, 0, 2, 2, 0, 1, 1, 1,\n",
       "       1, 0, 1, 2, 2, 1, 2, 2, 1, 2, 1, 2, 1, 2, 0, 1, 2, 1, 1, 1, 0, 1,\n",
       "       1, 0, 1, 2, 0, 1, 1, 2, 2, 1, 1, 2, 1, 0, 2, 1, 1, 1, 2, 1, 1, 2,\n",
       "       1, 1, 2, 0, 1, 0, 1, 2, 2, 1, 1, 1, 1, 2, 1, 1, 1, 0, 1, 0, 2, 2,\n",
       "       0, 0, 1, 0, 1, 1, 2, 1, 1, 1, 2, 1, 0, 2, 1, 1, 1, 1, 0, 1, 2, 2,\n",
       "       2, 1, 1, 2, 2, 2, 0, 0, 0, 2, 1, 1, 0, 1, 0, 0, 1, 1, 2, 1, 0, 0,\n",
       "       2, 1, 0, 1, 2, 2, 0, 2, 0, 1, 0, 1, 2, 2, 1, 2, 0, 1, 1, 0, 2, 0,\n",
       "       2, 0, 0, 2, 2, 1, 0, 2, 0, 1, 2, 1, 1, 2, 0, 2, 1, 1, 0, 1, 1, 0,\n",
       "       0, 2, 0, 1, 2, 1, 2, 2, 1, 2, 1, 1, 2, 0, 1, 2, 2, 1, 2, 0, 1, 2,\n",
       "       0, 1, 2, 1, 2, 1, 0, 1, 0, 1, 1, 2, 2, 2, 2, 2, 2, 0, 1, 0, 1, 0,\n",
       "       0, 1, 2, 1, 1, 2, 1, 1, 2, 1, 0, 0, 0, 1, 2, 1, 1, 0, 2, 2, 2, 1,\n",
       "       2, 0, 1, 1, 0, 1, 2, 2, 2, 1, 0, 2, 0, 0, 1, 0, 2, 1, 0, 0, 2, 1,\n",
       "       1, 2, 0, 1, 0, 1, 1, 0, 0, 1, 2, 0, 0, 2, 0, 1, 2, 0, 1, 2, 0, 0,\n",
       "       2, 2, 1, 1, 1, 0, 1, 0, 1, 0, 0, 2, 1, 0, 1, 0, 1, 0, 1, 2, 1, 0,\n",
       "       0, 1, 2, 0, 0, 2, 1, 1, 0, 1, 2, 2, 2, 2, 2, 1, 1, 0, 2, 1, 0, 1,\n",
       "       2, 1, 2, 0, 0, 0, 2, 0, 0, 0, 1, 0, 0, 1, 1, 0, 0, 1, 2, 2, 0, 0,\n",
       "       1, 2, 0, 1, 2, 2, 0, 2, 2, 0, 2, 1, 2, 1, 2, 1, 2, 1, 0, 2, 2, 1,\n",
       "       1, 0, 0, 1], dtype=int32)"
      ]
     },
     "execution_count": 38,
     "metadata": {},
     "output_type": "execute_result"
    }
   ],
   "source": [
    "kmeans.labels_"
   ]
  },
  {
   "cell_type": "code",
   "execution_count": 39,
   "id": "e45f0005",
   "metadata": {},
   "outputs": [
    {
     "data": {
      "text/plain": [
       "array([[-3.49014866,  3.97677834,  0.04436347,  0.06864481,  0.10576402],\n",
       "       [ 4.82314353,  0.17359036,  0.26109089,  0.08413115,  0.03966391],\n",
       "       [-2.91459823, -3.66666699, -0.36032683, -0.16329513, -0.14071421]])"
      ]
     },
     "execution_count": 39,
     "metadata": {},
     "output_type": "execute_result"
    }
   ],
   "source": [
    "# Onde será que ficaram os centróides?\n",
    "kmeans.cluster_centers_"
   ]
  },
  {
   "cell_type": "code",
   "execution_count": 40,
   "id": "ee2de4e1",
   "metadata": {},
   "outputs": [
    {
     "data": {
      "text/html": [
       "<div>\n",
       "<style scoped>\n",
       "    .dataframe tbody tr th:only-of-type {\n",
       "        vertical-align: middle;\n",
       "    }\n",
       "\n",
       "    .dataframe tbody tr th {\n",
       "        vertical-align: top;\n",
       "    }\n",
       "\n",
       "    .dataframe thead th {\n",
       "        text-align: right;\n",
       "    }\n",
       "</style>\n",
       "<table border=\"1\" class=\"dataframe\">\n",
       "  <thead>\n",
       "    <tr style=\"text-align: right;\">\n",
       "      <th></th>\n",
       "      <th>avarento</th>\n",
       "      <th>apertados</th>\n",
       "      <th>familia</th>\n",
       "      <th>desempenho</th>\n",
       "      <th>carro_caro</th>\n",
       "    </tr>\n",
       "  </thead>\n",
       "  <tbody>\n",
       "    <tr>\n",
       "      <th>0</th>\n",
       "      <td>-3.49</td>\n",
       "      <td>3.98</td>\n",
       "      <td>0.04</td>\n",
       "      <td>0.07</td>\n",
       "      <td>0.11</td>\n",
       "    </tr>\n",
       "    <tr>\n",
       "      <th>1</th>\n",
       "      <td>4.82</td>\n",
       "      <td>0.17</td>\n",
       "      <td>0.26</td>\n",
       "      <td>0.08</td>\n",
       "      <td>0.04</td>\n",
       "    </tr>\n",
       "    <tr>\n",
       "      <th>2</th>\n",
       "      <td>-2.91</td>\n",
       "      <td>-3.67</td>\n",
       "      <td>-0.36</td>\n",
       "      <td>-0.16</td>\n",
       "      <td>-0.14</td>\n",
       "    </tr>\n",
       "  </tbody>\n",
       "</table>\n",
       "</div>"
      ],
      "text/plain": [
       "   avarento  apertados  familia  desempenho  carro_caro\n",
       "0     -3.49       3.98     0.04        0.07        0.11\n",
       "1      4.82       0.17     0.26        0.08        0.04\n",
       "2     -2.91      -3.67    -0.36       -0.16       -0.14"
      ]
     },
     "execution_count": 40,
     "metadata": {},
     "output_type": "execute_result"
    }
   ],
   "source": [
    "df_centroides = pd.DataFrame(data=kmeans.cluster_centers_, columns=nomes_componentes)\n",
    "df_centroides"
   ]
  },
  {
   "cell_type": "code",
   "execution_count": 41,
   "id": "76ca15ac",
   "metadata": {},
   "outputs": [
    {
     "data": {
      "text/html": [
       "<div>\n",
       "<style scoped>\n",
       "    .dataframe tbody tr th:only-of-type {\n",
       "        vertical-align: middle;\n",
       "    }\n",
       "\n",
       "    .dataframe tbody tr th {\n",
       "        vertical-align: top;\n",
       "    }\n",
       "\n",
       "    .dataframe thead th {\n",
       "        text-align: right;\n",
       "    }\n",
       "</style>\n",
       "<table border=\"1\" class=\"dataframe\">\n",
       "  <thead>\n",
       "    <tr style=\"text-align: right;\">\n",
       "      <th></th>\n",
       "      <th>age</th>\n",
       "      <th>income</th>\n",
       "      <th>miles</th>\n",
       "      <th>numkids</th>\n",
       "      <th>female</th>\n",
       "      <th>educ</th>\n",
       "      <th>recycle</th>\n",
       "      <th>mvliking</th>\n",
       "      <th>avarento</th>\n",
       "      <th>apertados</th>\n",
       "      <th>familia</th>\n",
       "      <th>desempenho</th>\n",
       "      <th>carro_caro</th>\n",
       "      <th>clusters</th>\n",
       "    </tr>\n",
       "    <tr>\n",
       "      <th>subjnumb</th>\n",
       "      <th></th>\n",
       "      <th></th>\n",
       "      <th></th>\n",
       "      <th></th>\n",
       "      <th></th>\n",
       "      <th></th>\n",
       "      <th></th>\n",
       "      <th></th>\n",
       "      <th></th>\n",
       "      <th></th>\n",
       "      <th></th>\n",
       "      <th></th>\n",
       "      <th></th>\n",
       "      <th></th>\n",
       "    </tr>\n",
       "  </thead>\n",
       "  <tbody>\n",
       "    <tr>\n",
       "      <th>2</th>\n",
       "      <td>36</td>\n",
       "      <td>79</td>\n",
       "      <td>16</td>\n",
       "      <td>1</td>\n",
       "      <td>0</td>\n",
       "      <td>3</td>\n",
       "      <td>4</td>\n",
       "      <td>6</td>\n",
       "      <td>-0.43</td>\n",
       "      <td>4.58</td>\n",
       "      <td>-2.68</td>\n",
       "      <td>2.62</td>\n",
       "      <td>0.50</td>\n",
       "      <td>0</td>\n",
       "    </tr>\n",
       "    <tr>\n",
       "      <th>7</th>\n",
       "      <td>47</td>\n",
       "      <td>38</td>\n",
       "      <td>26</td>\n",
       "      <td>2</td>\n",
       "      <td>1</td>\n",
       "      <td>4</td>\n",
       "      <td>3</td>\n",
       "      <td>8</td>\n",
       "      <td>-3.95</td>\n",
       "      <td>4.49</td>\n",
       "      <td>2.79</td>\n",
       "      <td>0.14</td>\n",
       "      <td>0.11</td>\n",
       "      <td>0</td>\n",
       "    </tr>\n",
       "    <tr>\n",
       "      <th>15</th>\n",
       "      <td>52</td>\n",
       "      <td>119</td>\n",
       "      <td>28</td>\n",
       "      <td>3</td>\n",
       "      <td>1</td>\n",
       "      <td>3</td>\n",
       "      <td>3</td>\n",
       "      <td>6</td>\n",
       "      <td>-6.21</td>\n",
       "      <td>5.45</td>\n",
       "      <td>1.31</td>\n",
       "      <td>0.02</td>\n",
       "      <td>0.12</td>\n",
       "      <td>0</td>\n",
       "    </tr>\n",
       "    <tr>\n",
       "      <th>16</th>\n",
       "      <td>39</td>\n",
       "      <td>28</td>\n",
       "      <td>29</td>\n",
       "      <td>2</td>\n",
       "      <td>1</td>\n",
       "      <td>4</td>\n",
       "      <td>3</td>\n",
       "      <td>6</td>\n",
       "      <td>-3.66</td>\n",
       "      <td>4.64</td>\n",
       "      <td>4.12</td>\n",
       "      <td>2.77</td>\n",
       "      <td>2.56</td>\n",
       "      <td>0</td>\n",
       "    </tr>\n",
       "    <tr>\n",
       "      <th>17</th>\n",
       "      <td>43</td>\n",
       "      <td>113</td>\n",
       "      <td>17</td>\n",
       "      <td>0</td>\n",
       "      <td>0</td>\n",
       "      <td>4</td>\n",
       "      <td>4</td>\n",
       "      <td>9</td>\n",
       "      <td>-4.10</td>\n",
       "      <td>4.96</td>\n",
       "      <td>-5.54</td>\n",
       "      <td>2.71</td>\n",
       "      <td>-2.03</td>\n",
       "      <td>0</td>\n",
       "    </tr>\n",
       "  </tbody>\n",
       "</table>\n",
       "</div>"
      ],
      "text/plain": [
       "          age  income  miles  numkids  female  educ  recycle  mvliking  \\\n",
       "subjnumb                                                                 \n",
       "2          36      79     16        1       0     3        4         6   \n",
       "7          47      38     26        2       1     4        3         8   \n",
       "15         52     119     28        3       1     3        3         6   \n",
       "16         39      28     29        2       1     4        3         6   \n",
       "17         43     113     17        0       0     4        4         9   \n",
       "\n",
       "          avarento  apertados  familia  desempenho  carro_caro  clusters  \n",
       "subjnumb                                                                  \n",
       "2            -0.43       4.58    -2.68        2.62        0.50         0  \n",
       "7            -3.95       4.49     2.79        0.14        0.11         0  \n",
       "15           -6.21       5.45     1.31        0.02        0.12         0  \n",
       "16           -3.66       4.64     4.12        2.77        2.56         0  \n",
       "17           -4.10       4.96    -5.54        2.71       -2.03         0  "
      ]
     },
     "execution_count": 41,
     "metadata": {},
     "output_type": "execute_result"
    }
   ],
   "source": [
    "df_cluster0 = df_completo.loc[df_completo['clusters'] == 0]\n",
    "df_cluster0.head()"
   ]
  },
  {
   "cell_type": "code",
   "execution_count": 42,
   "id": "46bdba4b",
   "metadata": {},
   "outputs": [
    {
     "data": {
      "text/html": [
       "<div>\n",
       "<style scoped>\n",
       "    .dataframe tbody tr th:only-of-type {\n",
       "        vertical-align: middle;\n",
       "    }\n",
       "\n",
       "    .dataframe tbody tr th {\n",
       "        vertical-align: top;\n",
       "    }\n",
       "\n",
       "    .dataframe thead th {\n",
       "        text-align: right;\n",
       "    }\n",
       "</style>\n",
       "<table border=\"1\" class=\"dataframe\">\n",
       "  <thead>\n",
       "    <tr style=\"text-align: right;\">\n",
       "      <th></th>\n",
       "      <th>age</th>\n",
       "      <th>income</th>\n",
       "      <th>miles</th>\n",
       "      <th>numkids</th>\n",
       "      <th>female</th>\n",
       "      <th>educ</th>\n",
       "      <th>recycle</th>\n",
       "      <th>mvliking</th>\n",
       "      <th>avarento</th>\n",
       "      <th>apertados</th>\n",
       "      <th>familia</th>\n",
       "      <th>desempenho</th>\n",
       "      <th>carro_caro</th>\n",
       "      <th>clusters</th>\n",
       "    </tr>\n",
       "    <tr>\n",
       "      <th>subjnumb</th>\n",
       "      <th></th>\n",
       "      <th></th>\n",
       "      <th></th>\n",
       "      <th></th>\n",
       "      <th></th>\n",
       "      <th></th>\n",
       "      <th></th>\n",
       "      <th></th>\n",
       "      <th></th>\n",
       "      <th></th>\n",
       "      <th></th>\n",
       "      <th></th>\n",
       "      <th></th>\n",
       "      <th></th>\n",
       "    </tr>\n",
       "  </thead>\n",
       "  <tbody>\n",
       "    <tr>\n",
       "      <th>1</th>\n",
       "      <td>34</td>\n",
       "      <td>59</td>\n",
       "      <td>14</td>\n",
       "      <td>1</td>\n",
       "      <td>0</td>\n",
       "      <td>1</td>\n",
       "      <td>3</td>\n",
       "      <td>4</td>\n",
       "      <td>4.96</td>\n",
       "      <td>0.63</td>\n",
       "      <td>0.25</td>\n",
       "      <td>-4.53</td>\n",
       "      <td>-0.48</td>\n",
       "      <td>1</td>\n",
       "    </tr>\n",
       "    <tr>\n",
       "      <th>4</th>\n",
       "      <td>32</td>\n",
       "      <td>42</td>\n",
       "      <td>12</td>\n",
       "      <td>0</td>\n",
       "      <td>0</td>\n",
       "      <td>3</td>\n",
       "      <td>2</td>\n",
       "      <td>3</td>\n",
       "      <td>4.89</td>\n",
       "      <td>0.93</td>\n",
       "      <td>-0.76</td>\n",
       "      <td>3.58</td>\n",
       "      <td>-3.52</td>\n",
       "      <td>1</td>\n",
       "    </tr>\n",
       "    <tr>\n",
       "      <th>8</th>\n",
       "      <td>29</td>\n",
       "      <td>39</td>\n",
       "      <td>16</td>\n",
       "      <td>1</td>\n",
       "      <td>0</td>\n",
       "      <td>2</td>\n",
       "      <td>2</td>\n",
       "      <td>4</td>\n",
       "      <td>4.29</td>\n",
       "      <td>1.27</td>\n",
       "      <td>2.10</td>\n",
       "      <td>2.66</td>\n",
       "      <td>-0.53</td>\n",
       "      <td>1</td>\n",
       "    </tr>\n",
       "    <tr>\n",
       "      <th>10</th>\n",
       "      <td>26</td>\n",
       "      <td>26</td>\n",
       "      <td>11</td>\n",
       "      <td>0</td>\n",
       "      <td>0</td>\n",
       "      <td>2</td>\n",
       "      <td>3</td>\n",
       "      <td>3</td>\n",
       "      <td>8.11</td>\n",
       "      <td>-1.87</td>\n",
       "      <td>-1.86</td>\n",
       "      <td>1.12</td>\n",
       "      <td>0.59</td>\n",
       "      <td>1</td>\n",
       "    </tr>\n",
       "    <tr>\n",
       "      <th>11</th>\n",
       "      <td>31</td>\n",
       "      <td>20</td>\n",
       "      <td>12</td>\n",
       "      <td>0</td>\n",
       "      <td>1</td>\n",
       "      <td>3</td>\n",
       "      <td>3</td>\n",
       "      <td>1</td>\n",
       "      <td>5.16</td>\n",
       "      <td>2.38</td>\n",
       "      <td>2.59</td>\n",
       "      <td>3.28</td>\n",
       "      <td>-0.27</td>\n",
       "      <td>1</td>\n",
       "    </tr>\n",
       "  </tbody>\n",
       "</table>\n",
       "</div>"
      ],
      "text/plain": [
       "          age  income  miles  numkids  female  educ  recycle  mvliking  \\\n",
       "subjnumb                                                                 \n",
       "1          34      59     14        1       0     1        3         4   \n",
       "4          32      42     12        0       0     3        2         3   \n",
       "8          29      39     16        1       0     2        2         4   \n",
       "10         26      26     11        0       0     2        3         3   \n",
       "11         31      20     12        0       1     3        3         1   \n",
       "\n",
       "          avarento  apertados  familia  desempenho  carro_caro  clusters  \n",
       "subjnumb                                                                  \n",
       "1             4.96       0.63     0.25       -4.53       -0.48         1  \n",
       "4             4.89       0.93    -0.76        3.58       -3.52         1  \n",
       "8             4.29       1.27     2.10        2.66       -0.53         1  \n",
       "10            8.11      -1.87    -1.86        1.12        0.59         1  \n",
       "11            5.16       2.38     2.59        3.28       -0.27         1  "
      ]
     },
     "execution_count": 42,
     "metadata": {},
     "output_type": "execute_result"
    }
   ],
   "source": [
    "df_cluster1 = df_completo.loc[df_completo['clusters'] == 1]\n",
    "df_cluster1.head()"
   ]
  },
  {
   "cell_type": "code",
   "execution_count": 43,
   "id": "a172c10d",
   "metadata": {},
   "outputs": [
    {
     "data": {
      "text/html": [
       "<div>\n",
       "<style scoped>\n",
       "    .dataframe tbody tr th:only-of-type {\n",
       "        vertical-align: middle;\n",
       "    }\n",
       "\n",
       "    .dataframe tbody tr th {\n",
       "        vertical-align: top;\n",
       "    }\n",
       "\n",
       "    .dataframe thead th {\n",
       "        text-align: right;\n",
       "    }\n",
       "</style>\n",
       "<table border=\"1\" class=\"dataframe\">\n",
       "  <thead>\n",
       "    <tr style=\"text-align: right;\">\n",
       "      <th></th>\n",
       "      <th>age</th>\n",
       "      <th>income</th>\n",
       "      <th>miles</th>\n",
       "      <th>numkids</th>\n",
       "      <th>female</th>\n",
       "      <th>educ</th>\n",
       "      <th>recycle</th>\n",
       "      <th>mvliking</th>\n",
       "      <th>avarento</th>\n",
       "      <th>apertados</th>\n",
       "      <th>familia</th>\n",
       "      <th>desempenho</th>\n",
       "      <th>carro_caro</th>\n",
       "      <th>clusters</th>\n",
       "    </tr>\n",
       "    <tr>\n",
       "      <th>subjnumb</th>\n",
       "      <th></th>\n",
       "      <th></th>\n",
       "      <th></th>\n",
       "      <th></th>\n",
       "      <th></th>\n",
       "      <th></th>\n",
       "      <th></th>\n",
       "      <th></th>\n",
       "      <th></th>\n",
       "      <th></th>\n",
       "      <th></th>\n",
       "      <th></th>\n",
       "      <th></th>\n",
       "      <th></th>\n",
       "    </tr>\n",
       "  </thead>\n",
       "  <tbody>\n",
       "    <tr>\n",
       "      <th>3</th>\n",
       "      <td>51</td>\n",
       "      <td>72</td>\n",
       "      <td>22</td>\n",
       "      <td>2</td>\n",
       "      <td>1</td>\n",
       "      <td>3</td>\n",
       "      <td>3</td>\n",
       "      <td>3</td>\n",
       "      <td>-4.20</td>\n",
       "      <td>-6.00</td>\n",
       "      <td>2.46</td>\n",
       "      <td>-1.55</td>\n",
       "      <td>2.41</td>\n",
       "      <td>2</td>\n",
       "    </tr>\n",
       "    <tr>\n",
       "      <th>5</th>\n",
       "      <td>40</td>\n",
       "      <td>75</td>\n",
       "      <td>17</td>\n",
       "      <td>1</td>\n",
       "      <td>1</td>\n",
       "      <td>3</td>\n",
       "      <td>4</td>\n",
       "      <td>1</td>\n",
       "      <td>0.12</td>\n",
       "      <td>-5.55</td>\n",
       "      <td>-1.02</td>\n",
       "      <td>-0.07</td>\n",
       "      <td>0.84</td>\n",
       "      <td>2</td>\n",
       "    </tr>\n",
       "    <tr>\n",
       "      <th>6</th>\n",
       "      <td>43</td>\n",
       "      <td>94</td>\n",
       "      <td>16</td>\n",
       "      <td>0</td>\n",
       "      <td>0</td>\n",
       "      <td>3</td>\n",
       "      <td>5</td>\n",
       "      <td>2</td>\n",
       "      <td>-3.41</td>\n",
       "      <td>-8.46</td>\n",
       "      <td>-3.38</td>\n",
       "      <td>1.64</td>\n",
       "      <td>1.34</td>\n",
       "      <td>2</td>\n",
       "    </tr>\n",
       "    <tr>\n",
       "      <th>9</th>\n",
       "      <td>38</td>\n",
       "      <td>129</td>\n",
       "      <td>20</td>\n",
       "      <td>1</td>\n",
       "      <td>0</td>\n",
       "      <td>3</td>\n",
       "      <td>2</td>\n",
       "      <td>5</td>\n",
       "      <td>-3.82</td>\n",
       "      <td>-4.41</td>\n",
       "      <td>-0.15</td>\n",
       "      <td>-1.17</td>\n",
       "      <td>-1.07</td>\n",
       "      <td>2</td>\n",
       "    </tr>\n",
       "    <tr>\n",
       "      <th>12</th>\n",
       "      <td>43</td>\n",
       "      <td>136</td>\n",
       "      <td>17</td>\n",
       "      <td>0</td>\n",
       "      <td>0</td>\n",
       "      <td>3</td>\n",
       "      <td>1</td>\n",
       "      <td>3</td>\n",
       "      <td>-2.17</td>\n",
       "      <td>-4.27</td>\n",
       "      <td>0.15</td>\n",
       "      <td>-1.24</td>\n",
       "      <td>-2.22</td>\n",
       "      <td>2</td>\n",
       "    </tr>\n",
       "  </tbody>\n",
       "</table>\n",
       "</div>"
      ],
      "text/plain": [
       "          age  income  miles  numkids  female  educ  recycle  mvliking  \\\n",
       "subjnumb                                                                 \n",
       "3          51      72     22        2       1     3        3         3   \n",
       "5          40      75     17        1       1     3        4         1   \n",
       "6          43      94     16        0       0     3        5         2   \n",
       "9          38     129     20        1       0     3        2         5   \n",
       "12         43     136     17        0       0     3        1         3   \n",
       "\n",
       "          avarento  apertados  familia  desempenho  carro_caro  clusters  \n",
       "subjnumb                                                                  \n",
       "3            -4.20      -6.00     2.46       -1.55        2.41         2  \n",
       "5             0.12      -5.55    -1.02       -0.07        0.84         2  \n",
       "6            -3.41      -8.46    -3.38        1.64        1.34         2  \n",
       "9            -3.82      -4.41    -0.15       -1.17       -1.07         2  \n",
       "12           -2.17      -4.27     0.15       -1.24       -2.22         2  "
      ]
     },
     "execution_count": 43,
     "metadata": {},
     "output_type": "execute_result"
    }
   ],
   "source": [
    "df_cluster2 = df_completo.loc[df_completo['clusters'] == 2]\n",
    "df_cluster2.head()"
   ]
  },
  {
   "cell_type": "code",
   "execution_count": 44,
   "id": "f57b70ee",
   "metadata": {},
   "outputs": [
    {
     "data": {
      "text/plain": [
       "clusters\n",
       "1    159\n",
       "2    129\n",
       "0    112\n",
       "Name: count, dtype: int64"
      ]
     },
     "execution_count": 44,
     "metadata": {},
     "output_type": "execute_result"
    }
   ],
   "source": [
    "df_completo['clusters'].value_counts()"
   ]
  },
  {
   "cell_type": "code",
   "execution_count": 45,
   "id": "bde4db7a",
   "metadata": {},
   "outputs": [
    {
     "data": {
      "text/html": [
       "<div>\n",
       "<style scoped>\n",
       "    .dataframe tbody tr th:only-of-type {\n",
       "        vertical-align: middle;\n",
       "    }\n",
       "\n",
       "    .dataframe tbody tr th {\n",
       "        vertical-align: top;\n",
       "    }\n",
       "\n",
       "    .dataframe thead th {\n",
       "        text-align: right;\n",
       "    }\n",
       "</style>\n",
       "<table border=\"1\" class=\"dataframe\">\n",
       "  <thead>\n",
       "    <tr style=\"text-align: right;\">\n",
       "      <th></th>\n",
       "      <th>age</th>\n",
       "      <th>income</th>\n",
       "      <th>miles</th>\n",
       "      <th>numkids</th>\n",
       "      <th>female</th>\n",
       "      <th>educ</th>\n",
       "      <th>recycle</th>\n",
       "      <th>mvliking</th>\n",
       "      <th>avarento</th>\n",
       "      <th>apertados</th>\n",
       "      <th>familia</th>\n",
       "      <th>desempenho</th>\n",
       "      <th>carro_caro</th>\n",
       "      <th>clusters</th>\n",
       "    </tr>\n",
       "  </thead>\n",
       "  <tbody>\n",
       "    <tr>\n",
       "      <th>count</th>\n",
       "      <td>112.00</td>\n",
       "      <td>112.00</td>\n",
       "      <td>112.00</td>\n",
       "      <td>112.00</td>\n",
       "      <td>112.00</td>\n",
       "      <td>112.00</td>\n",
       "      <td>112.00</td>\n",
       "      <td>112.00</td>\n",
       "      <td>112.00</td>\n",
       "      <td>112.00</td>\n",
       "      <td>112.00</td>\n",
       "      <td>112.00</td>\n",
       "      <td>112.00</td>\n",
       "      <td>112.00</td>\n",
       "    </tr>\n",
       "    <tr>\n",
       "      <th>mean</th>\n",
       "      <td>44.38</td>\n",
       "      <td>83.12</td>\n",
       "      <td>22.41</td>\n",
       "      <td>1.99</td>\n",
       "      <td>0.60</td>\n",
       "      <td>3.36</td>\n",
       "      <td>3.11</td>\n",
       "      <td>6.64</td>\n",
       "      <td>-3.49</td>\n",
       "      <td>3.98</td>\n",
       "      <td>0.04</td>\n",
       "      <td>0.07</td>\n",
       "      <td>0.11</td>\n",
       "      <td>0.00</td>\n",
       "    </tr>\n",
       "    <tr>\n",
       "      <th>std</th>\n",
       "      <td>5.73</td>\n",
       "      <td>33.42</td>\n",
       "      <td>4.05</td>\n",
       "      <td>1.12</td>\n",
       "      <td>0.49</td>\n",
       "      <td>0.64</td>\n",
       "      <td>1.23</td>\n",
       "      <td>2.25</td>\n",
       "      <td>1.97</td>\n",
       "      <td>1.50</td>\n",
       "      <td>2.77</td>\n",
       "      <td>2.54</td>\n",
       "      <td>1.90</td>\n",
       "      <td>0.00</td>\n",
       "    </tr>\n",
       "    <tr>\n",
       "      <th>min</th>\n",
       "      <td>31.00</td>\n",
       "      <td>28.00</td>\n",
       "      <td>14.00</td>\n",
       "      <td>0.00</td>\n",
       "      <td>0.00</td>\n",
       "      <td>2.00</td>\n",
       "      <td>1.00</td>\n",
       "      <td>1.00</td>\n",
       "      <td>-9.12</td>\n",
       "      <td>0.23</td>\n",
       "      <td>-6.66</td>\n",
       "      <td>-6.62</td>\n",
       "      <td>-5.26</td>\n",
       "      <td>0.00</td>\n",
       "    </tr>\n",
       "    <tr>\n",
       "      <th>25%</th>\n",
       "      <td>40.00</td>\n",
       "      <td>59.00</td>\n",
       "      <td>19.75</td>\n",
       "      <td>1.00</td>\n",
       "      <td>0.00</td>\n",
       "      <td>3.00</td>\n",
       "      <td>2.00</td>\n",
       "      <td>5.00</td>\n",
       "      <td>-4.78</td>\n",
       "      <td>2.97</td>\n",
       "      <td>-1.76</td>\n",
       "      <td>-1.34</td>\n",
       "      <td>-0.99</td>\n",
       "      <td>0.00</td>\n",
       "    </tr>\n",
       "    <tr>\n",
       "      <th>50%</th>\n",
       "      <td>44.00</td>\n",
       "      <td>78.50</td>\n",
       "      <td>22.00</td>\n",
       "      <td>2.00</td>\n",
       "      <td>1.00</td>\n",
       "      <td>3.00</td>\n",
       "      <td>3.00</td>\n",
       "      <td>7.00</td>\n",
       "      <td>-3.33</td>\n",
       "      <td>4.02</td>\n",
       "      <td>0.05</td>\n",
       "      <td>0.03</td>\n",
       "      <td>0.15</td>\n",
       "      <td>0.00</td>\n",
       "    </tr>\n",
       "    <tr>\n",
       "      <th>75%</th>\n",
       "      <td>48.00</td>\n",
       "      <td>105.00</td>\n",
       "      <td>26.00</td>\n",
       "      <td>3.00</td>\n",
       "      <td>1.00</td>\n",
       "      <td>4.00</td>\n",
       "      <td>4.00</td>\n",
       "      <td>9.00</td>\n",
       "      <td>-2.10</td>\n",
       "      <td>5.19</td>\n",
       "      <td>2.12</td>\n",
       "      <td>1.69</td>\n",
       "      <td>1.45</td>\n",
       "      <td>0.00</td>\n",
       "    </tr>\n",
       "    <tr>\n",
       "      <th>max</th>\n",
       "      <td>58.00</td>\n",
       "      <td>168.00</td>\n",
       "      <td>32.00</td>\n",
       "      <td>4.00</td>\n",
       "      <td>1.00</td>\n",
       "      <td>4.00</td>\n",
       "      <td>5.00</td>\n",
       "      <td>9.00</td>\n",
       "      <td>0.72</td>\n",
       "      <td>7.18</td>\n",
       "      <td>7.07</td>\n",
       "      <td>7.18</td>\n",
       "      <td>4.86</td>\n",
       "      <td>0.00</td>\n",
       "    </tr>\n",
       "  </tbody>\n",
       "</table>\n",
       "</div>"
      ],
      "text/plain": [
       "         age  income  miles  numkids  female   educ  recycle  mvliking  \\\n",
       "count 112.00  112.00 112.00   112.00  112.00 112.00   112.00    112.00   \n",
       "mean   44.38   83.12  22.41     1.99    0.60   3.36     3.11      6.64   \n",
       "std     5.73   33.42   4.05     1.12    0.49   0.64     1.23      2.25   \n",
       "min    31.00   28.00  14.00     0.00    0.00   2.00     1.00      1.00   \n",
       "25%    40.00   59.00  19.75     1.00    0.00   3.00     2.00      5.00   \n",
       "50%    44.00   78.50  22.00     2.00    1.00   3.00     3.00      7.00   \n",
       "75%    48.00  105.00  26.00     3.00    1.00   4.00     4.00      9.00   \n",
       "max    58.00  168.00  32.00     4.00    1.00   4.00     5.00      9.00   \n",
       "\n",
       "       avarento  apertados  familia  desempenho  carro_caro  clusters  \n",
       "count    112.00     112.00   112.00      112.00      112.00    112.00  \n",
       "mean      -3.49       3.98     0.04        0.07        0.11      0.00  \n",
       "std        1.97       1.50     2.77        2.54        1.90      0.00  \n",
       "min       -9.12       0.23    -6.66       -6.62       -5.26      0.00  \n",
       "25%       -4.78       2.97    -1.76       -1.34       -0.99      0.00  \n",
       "50%       -3.33       4.02     0.05        0.03        0.15      0.00  \n",
       "75%       -2.10       5.19     2.12        1.69        1.45      0.00  \n",
       "max        0.72       7.18     7.07        7.18        4.86      0.00  "
      ]
     },
     "execution_count": 45,
     "metadata": {},
     "output_type": "execute_result"
    }
   ],
   "source": [
    "df_cluster0.describe()"
   ]
  },
  {
   "cell_type": "code",
   "execution_count": 46,
   "id": "a2f96e13",
   "metadata": {},
   "outputs": [
    {
     "data": {
      "text/html": [
       "<div>\n",
       "<style scoped>\n",
       "    .dataframe tbody tr th:only-of-type {\n",
       "        vertical-align: middle;\n",
       "    }\n",
       "\n",
       "    .dataframe tbody tr th {\n",
       "        vertical-align: top;\n",
       "    }\n",
       "\n",
       "    .dataframe thead th {\n",
       "        text-align: right;\n",
       "    }\n",
       "</style>\n",
       "<table border=\"1\" class=\"dataframe\">\n",
       "  <thead>\n",
       "    <tr style=\"text-align: right;\">\n",
       "      <th></th>\n",
       "      <th>age</th>\n",
       "      <th>income</th>\n",
       "      <th>miles</th>\n",
       "      <th>numkids</th>\n",
       "      <th>female</th>\n",
       "      <th>educ</th>\n",
       "      <th>recycle</th>\n",
       "      <th>mvliking</th>\n",
       "      <th>avarento</th>\n",
       "      <th>apertados</th>\n",
       "      <th>familia</th>\n",
       "      <th>desempenho</th>\n",
       "      <th>carro_caro</th>\n",
       "      <th>clusters</th>\n",
       "    </tr>\n",
       "  </thead>\n",
       "  <tbody>\n",
       "    <tr>\n",
       "      <th>count</th>\n",
       "      <td>159.00</td>\n",
       "      <td>159.00</td>\n",
       "      <td>159.00</td>\n",
       "      <td>159.00</td>\n",
       "      <td>159.00</td>\n",
       "      <td>159.00</td>\n",
       "      <td>159.00</td>\n",
       "      <td>159.00</td>\n",
       "      <td>159.00</td>\n",
       "      <td>159.00</td>\n",
       "      <td>159.00</td>\n",
       "      <td>159.00</td>\n",
       "      <td>159.00</td>\n",
       "      <td>159.00</td>\n",
       "    </tr>\n",
       "    <tr>\n",
       "      <th>mean</th>\n",
       "      <td>32.15</td>\n",
       "      <td>36.65</td>\n",
       "      <td>14.61</td>\n",
       "      <td>0.67</td>\n",
       "      <td>0.48</td>\n",
       "      <td>2.05</td>\n",
       "      <td>2.99</td>\n",
       "      <td>3.91</td>\n",
       "      <td>4.82</td>\n",
       "      <td>0.17</td>\n",
       "      <td>0.26</td>\n",
       "      <td>0.08</td>\n",
       "      <td>0.04</td>\n",
       "      <td>1.00</td>\n",
       "    </tr>\n",
       "    <tr>\n",
       "      <th>std</th>\n",
       "      <td>5.30</td>\n",
       "      <td>16.33</td>\n",
       "      <td>3.56</td>\n",
       "      <td>0.76</td>\n",
       "      <td>0.50</td>\n",
       "      <td>0.77</td>\n",
       "      <td>1.13</td>\n",
       "      <td>2.48</td>\n",
       "      <td>1.90</td>\n",
       "      <td>1.77</td>\n",
       "      <td>2.54</td>\n",
       "      <td>2.47</td>\n",
       "      <td>2.17</td>\n",
       "      <td>0.00</td>\n",
       "    </tr>\n",
       "    <tr>\n",
       "      <th>min</th>\n",
       "      <td>19.00</td>\n",
       "      <td>15.00</td>\n",
       "      <td>7.00</td>\n",
       "      <td>0.00</td>\n",
       "      <td>0.00</td>\n",
       "      <td>1.00</td>\n",
       "      <td>1.00</td>\n",
       "      <td>1.00</td>\n",
       "      <td>1.20</td>\n",
       "      <td>-4.33</td>\n",
       "      <td>-5.78</td>\n",
       "      <td>-5.90</td>\n",
       "      <td>-5.45</td>\n",
       "      <td>1.00</td>\n",
       "    </tr>\n",
       "    <tr>\n",
       "      <th>25%</th>\n",
       "      <td>28.00</td>\n",
       "      <td>25.00</td>\n",
       "      <td>12.00</td>\n",
       "      <td>0.00</td>\n",
       "      <td>0.00</td>\n",
       "      <td>1.00</td>\n",
       "      <td>2.00</td>\n",
       "      <td>2.00</td>\n",
       "      <td>3.52</td>\n",
       "      <td>-1.06</td>\n",
       "      <td>-1.47</td>\n",
       "      <td>-1.45</td>\n",
       "      <td>-1.51</td>\n",
       "      <td>1.00</td>\n",
       "    </tr>\n",
       "    <tr>\n",
       "      <th>50%</th>\n",
       "      <td>32.00</td>\n",
       "      <td>32.00</td>\n",
       "      <td>15.00</td>\n",
       "      <td>1.00</td>\n",
       "      <td>0.00</td>\n",
       "      <td>2.00</td>\n",
       "      <td>3.00</td>\n",
       "      <td>4.00</td>\n",
       "      <td>4.60</td>\n",
       "      <td>0.32</td>\n",
       "      <td>0.27</td>\n",
       "      <td>0.22</td>\n",
       "      <td>0.07</td>\n",
       "      <td>1.00</td>\n",
       "    </tr>\n",
       "    <tr>\n",
       "      <th>75%</th>\n",
       "      <td>36.00</td>\n",
       "      <td>45.00</td>\n",
       "      <td>17.00</td>\n",
       "      <td>1.00</td>\n",
       "      <td>1.00</td>\n",
       "      <td>3.00</td>\n",
       "      <td>4.00</td>\n",
       "      <td>6.00</td>\n",
       "      <td>5.97</td>\n",
       "      <td>1.24</td>\n",
       "      <td>2.05</td>\n",
       "      <td>1.79</td>\n",
       "      <td>1.50</td>\n",
       "      <td>1.00</td>\n",
       "    </tr>\n",
       "    <tr>\n",
       "      <th>max</th>\n",
       "      <td>48.00</td>\n",
       "      <td>131.00</td>\n",
       "      <td>24.00</td>\n",
       "      <td>4.00</td>\n",
       "      <td>1.00</td>\n",
       "      <td>3.00</td>\n",
       "      <td>5.00</td>\n",
       "      <td>9.00</td>\n",
       "      <td>10.33</td>\n",
       "      <td>5.24</td>\n",
       "      <td>6.87</td>\n",
       "      <td>5.29</td>\n",
       "      <td>5.83</td>\n",
       "      <td>1.00</td>\n",
       "    </tr>\n",
       "  </tbody>\n",
       "</table>\n",
       "</div>"
      ],
      "text/plain": [
       "         age  income  miles  numkids  female   educ  recycle  mvliking  \\\n",
       "count 159.00  159.00 159.00   159.00  159.00 159.00   159.00    159.00   \n",
       "mean   32.15   36.65  14.61     0.67    0.48   2.05     2.99      3.91   \n",
       "std     5.30   16.33   3.56     0.76    0.50   0.77     1.13      2.48   \n",
       "min    19.00   15.00   7.00     0.00    0.00   1.00     1.00      1.00   \n",
       "25%    28.00   25.00  12.00     0.00    0.00   1.00     2.00      2.00   \n",
       "50%    32.00   32.00  15.00     1.00    0.00   2.00     3.00      4.00   \n",
       "75%    36.00   45.00  17.00     1.00    1.00   3.00     4.00      6.00   \n",
       "max    48.00  131.00  24.00     4.00    1.00   3.00     5.00      9.00   \n",
       "\n",
       "       avarento  apertados  familia  desempenho  carro_caro  clusters  \n",
       "count    159.00     159.00   159.00      159.00      159.00    159.00  \n",
       "mean       4.82       0.17     0.26        0.08        0.04      1.00  \n",
       "std        1.90       1.77     2.54        2.47        2.17      0.00  \n",
       "min        1.20      -4.33    -5.78       -5.90       -5.45      1.00  \n",
       "25%        3.52      -1.06    -1.47       -1.45       -1.51      1.00  \n",
       "50%        4.60       0.32     0.27        0.22        0.07      1.00  \n",
       "75%        5.97       1.24     2.05        1.79        1.50      1.00  \n",
       "max       10.33       5.24     6.87        5.29        5.83      1.00  "
      ]
     },
     "execution_count": 46,
     "metadata": {},
     "output_type": "execute_result"
    }
   ],
   "source": [
    "df_cluster1.describe()"
   ]
  },
  {
   "cell_type": "code",
   "execution_count": 47,
   "id": "1e9520bd",
   "metadata": {},
   "outputs": [
    {
     "data": {
      "text/html": [
       "<div>\n",
       "<style scoped>\n",
       "    .dataframe tbody tr th:only-of-type {\n",
       "        vertical-align: middle;\n",
       "    }\n",
       "\n",
       "    .dataframe tbody tr th {\n",
       "        vertical-align: top;\n",
       "    }\n",
       "\n",
       "    .dataframe thead th {\n",
       "        text-align: right;\n",
       "    }\n",
       "</style>\n",
       "<table border=\"1\" class=\"dataframe\">\n",
       "  <thead>\n",
       "    <tr style=\"text-align: right;\">\n",
       "      <th></th>\n",
       "      <th>age</th>\n",
       "      <th>income</th>\n",
       "      <th>miles</th>\n",
       "      <th>numkids</th>\n",
       "      <th>female</th>\n",
       "      <th>educ</th>\n",
       "      <th>recycle</th>\n",
       "      <th>mvliking</th>\n",
       "      <th>avarento</th>\n",
       "      <th>apertados</th>\n",
       "      <th>familia</th>\n",
       "      <th>desempenho</th>\n",
       "      <th>carro_caro</th>\n",
       "      <th>clusters</th>\n",
       "    </tr>\n",
       "  </thead>\n",
       "  <tbody>\n",
       "    <tr>\n",
       "      <th>count</th>\n",
       "      <td>129.00</td>\n",
       "      <td>129.00</td>\n",
       "      <td>129.00</td>\n",
       "      <td>129.00</td>\n",
       "      <td>129.00</td>\n",
       "      <td>129.00</td>\n",
       "      <td>129.00</td>\n",
       "      <td>129.00</td>\n",
       "      <td>129.00</td>\n",
       "      <td>129.00</td>\n",
       "      <td>129.00</td>\n",
       "      <td>129.00</td>\n",
       "      <td>129.00</td>\n",
       "      <td>129.00</td>\n",
       "    </tr>\n",
       "    <tr>\n",
       "      <th>mean</th>\n",
       "      <td>46.05</td>\n",
       "      <td>103.67</td>\n",
       "      <td>18.48</td>\n",
       "      <td>1.22</td>\n",
       "      <td>0.56</td>\n",
       "      <td>3.26</td>\n",
       "      <td>3.05</td>\n",
       "      <td>4.43</td>\n",
       "      <td>-2.91</td>\n",
       "      <td>-3.67</td>\n",
       "      <td>-0.36</td>\n",
       "      <td>-0.16</td>\n",
       "      <td>-0.14</td>\n",
       "      <td>2.00</td>\n",
       "    </tr>\n",
       "    <tr>\n",
       "      <th>std</th>\n",
       "      <td>5.97</td>\n",
       "      <td>43.27</td>\n",
       "      <td>3.52</td>\n",
       "      <td>0.99</td>\n",
       "      <td>0.50</td>\n",
       "      <td>0.66</td>\n",
       "      <td>1.20</td>\n",
       "      <td>2.55</td>\n",
       "      <td>1.85</td>\n",
       "      <td>1.64</td>\n",
       "      <td>2.63</td>\n",
       "      <td>2.41</td>\n",
       "      <td>2.01</td>\n",
       "      <td>0.00</td>\n",
       "    </tr>\n",
       "    <tr>\n",
       "      <th>min</th>\n",
       "      <td>31.00</td>\n",
       "      <td>41.00</td>\n",
       "      <td>10.00</td>\n",
       "      <td>0.00</td>\n",
       "      <td>0.00</td>\n",
       "      <td>1.00</td>\n",
       "      <td>1.00</td>\n",
       "      <td>1.00</td>\n",
       "      <td>-7.44</td>\n",
       "      <td>-8.46</td>\n",
       "      <td>-6.20</td>\n",
       "      <td>-7.34</td>\n",
       "      <td>-6.33</td>\n",
       "      <td>2.00</td>\n",
       "    </tr>\n",
       "    <tr>\n",
       "      <th>25%</th>\n",
       "      <td>42.00</td>\n",
       "      <td>73.00</td>\n",
       "      <td>16.00</td>\n",
       "      <td>1.00</td>\n",
       "      <td>0.00</td>\n",
       "      <td>3.00</td>\n",
       "      <td>2.00</td>\n",
       "      <td>2.00</td>\n",
       "      <td>-4.20</td>\n",
       "      <td>-4.72</td>\n",
       "      <td>-2.32</td>\n",
       "      <td>-1.55</td>\n",
       "      <td>-1.29</td>\n",
       "      <td>2.00</td>\n",
       "    </tr>\n",
       "    <tr>\n",
       "      <th>50%</th>\n",
       "      <td>46.00</td>\n",
       "      <td>96.00</td>\n",
       "      <td>18.00</td>\n",
       "      <td>1.00</td>\n",
       "      <td>1.00</td>\n",
       "      <td>3.00</td>\n",
       "      <td>3.00</td>\n",
       "      <td>4.00</td>\n",
       "      <td>-2.67</td>\n",
       "      <td>-3.65</td>\n",
       "      <td>-0.15</td>\n",
       "      <td>-0.33</td>\n",
       "      <td>0.03</td>\n",
       "      <td>2.00</td>\n",
       "    </tr>\n",
       "    <tr>\n",
       "      <th>75%</th>\n",
       "      <td>51.00</td>\n",
       "      <td>126.00</td>\n",
       "      <td>21.00</td>\n",
       "      <td>2.00</td>\n",
       "      <td>1.00</td>\n",
       "      <td>4.00</td>\n",
       "      <td>4.00</td>\n",
       "      <td>6.00</td>\n",
       "      <td>-1.72</td>\n",
       "      <td>-2.67</td>\n",
       "      <td>1.47</td>\n",
       "      <td>1.59</td>\n",
       "      <td>1.28</td>\n",
       "      <td>2.00</td>\n",
       "    </tr>\n",
       "    <tr>\n",
       "      <th>max</th>\n",
       "      <td>60.00</td>\n",
       "      <td>273.00</td>\n",
       "      <td>27.00</td>\n",
       "      <td>4.00</td>\n",
       "      <td>1.00</td>\n",
       "      <td>4.00</td>\n",
       "      <td>5.00</td>\n",
       "      <td>9.00</td>\n",
       "      <td>1.28</td>\n",
       "      <td>0.53</td>\n",
       "      <td>5.46</td>\n",
       "      <td>6.34</td>\n",
       "      <td>4.31</td>\n",
       "      <td>2.00</td>\n",
       "    </tr>\n",
       "  </tbody>\n",
       "</table>\n",
       "</div>"
      ],
      "text/plain": [
       "         age  income  miles  numkids  female   educ  recycle  mvliking  \\\n",
       "count 129.00  129.00 129.00   129.00  129.00 129.00   129.00    129.00   \n",
       "mean   46.05  103.67  18.48     1.22    0.56   3.26     3.05      4.43   \n",
       "std     5.97   43.27   3.52     0.99    0.50   0.66     1.20      2.55   \n",
       "min    31.00   41.00  10.00     0.00    0.00   1.00     1.00      1.00   \n",
       "25%    42.00   73.00  16.00     1.00    0.00   3.00     2.00      2.00   \n",
       "50%    46.00   96.00  18.00     1.00    1.00   3.00     3.00      4.00   \n",
       "75%    51.00  126.00  21.00     2.00    1.00   4.00     4.00      6.00   \n",
       "max    60.00  273.00  27.00     4.00    1.00   4.00     5.00      9.00   \n",
       "\n",
       "       avarento  apertados  familia  desempenho  carro_caro  clusters  \n",
       "count    129.00     129.00   129.00      129.00      129.00    129.00  \n",
       "mean      -2.91      -3.67    -0.36       -0.16       -0.14      2.00  \n",
       "std        1.85       1.64     2.63        2.41        2.01      0.00  \n",
       "min       -7.44      -8.46    -6.20       -7.34       -6.33      2.00  \n",
       "25%       -4.20      -4.72    -2.32       -1.55       -1.29      2.00  \n",
       "50%       -2.67      -3.65    -0.15       -0.33        0.03      2.00  \n",
       "75%       -1.72      -2.67     1.47        1.59        1.28      2.00  \n",
       "max        1.28       0.53     5.46        6.34        4.31      2.00  "
      ]
     },
     "execution_count": 47,
     "metadata": {},
     "output_type": "execute_result"
    }
   ],
   "source": [
    "df_cluster2.describe()"
   ]
  },
  {
   "cell_type": "markdown",
   "id": "54305d3c",
   "metadata": {},
   "source": [
    "### 5.2. Vamos entender melhor os clusters "
   ]
  },
  {
   "cell_type": "code",
   "execution_count": 48,
   "id": "bcc41776",
   "metadata": {},
   "outputs": [
    {
     "data": {
      "application/vnd.plotly.v1+json": {
       "config": {
        "plotlyServerURL": "https://plot.ly"
       },
       "data": [
        {
         "bingroup": "x",
         "hovertemplate": "mvliking=%{x}<br>count=%{y}<extra></extra>",
         "legendgroup": "",
         "marker": {
          "color": "#636efa",
          "pattern": {
           "shape": ""
          }
         },
         "name": "",
         "orientation": "v",
         "showlegend": false,
         "type": "histogram",
         "x": {
          "bdata": "BggGBgkEBwkGBAYGBQcFCAkEBAkGBQUDCAgGBgcBAQkGCQcJBggJCQkHBwkJCQYJCAEFAgIHCQgJCAgGCAMIBwgGBwkJAwkJBwUIBwgJCQgFCAYHAgkJCQUBAwUGCQUJCAUJCAUDBAQJBQUJBQgJCQ==",
          "dtype": "i1"
         },
         "xaxis": "x",
         "yaxis": "y"
        }
       ],
       "layout": {
        "barmode": "relative",
        "legend": {
         "tracegroupgap": 0
        },
        "margin": {
         "t": 60
        },
        "template": {
         "data": {
          "bar": [
           {
            "error_x": {
             "color": "#2a3f5f"
            },
            "error_y": {
             "color": "#2a3f5f"
            },
            "marker": {
             "line": {
              "color": "#E5ECF6",
              "width": 0.5
             },
             "pattern": {
              "fillmode": "overlay",
              "size": 10,
              "solidity": 0.2
             }
            },
            "type": "bar"
           }
          ],
          "barpolar": [
           {
            "marker": {
             "line": {
              "color": "#E5ECF6",
              "width": 0.5
             },
             "pattern": {
              "fillmode": "overlay",
              "size": 10,
              "solidity": 0.2
             }
            },
            "type": "barpolar"
           }
          ],
          "carpet": [
           {
            "aaxis": {
             "endlinecolor": "#2a3f5f",
             "gridcolor": "white",
             "linecolor": "white",
             "minorgridcolor": "white",
             "startlinecolor": "#2a3f5f"
            },
            "baxis": {
             "endlinecolor": "#2a3f5f",
             "gridcolor": "white",
             "linecolor": "white",
             "minorgridcolor": "white",
             "startlinecolor": "#2a3f5f"
            },
            "type": "carpet"
           }
          ],
          "choropleth": [
           {
            "colorbar": {
             "outlinewidth": 0,
             "ticks": ""
            },
            "type": "choropleth"
           }
          ],
          "contour": [
           {
            "colorbar": {
             "outlinewidth": 0,
             "ticks": ""
            },
            "colorscale": [
             [
              0,
              "#0d0887"
             ],
             [
              0.1111111111111111,
              "#46039f"
             ],
             [
              0.2222222222222222,
              "#7201a8"
             ],
             [
              0.3333333333333333,
              "#9c179e"
             ],
             [
              0.4444444444444444,
              "#bd3786"
             ],
             [
              0.5555555555555556,
              "#d8576b"
             ],
             [
              0.6666666666666666,
              "#ed7953"
             ],
             [
              0.7777777777777778,
              "#fb9f3a"
             ],
             [
              0.8888888888888888,
              "#fdca26"
             ],
             [
              1,
              "#f0f921"
             ]
            ],
            "type": "contour"
           }
          ],
          "contourcarpet": [
           {
            "colorbar": {
             "outlinewidth": 0,
             "ticks": ""
            },
            "type": "contourcarpet"
           }
          ],
          "heatmap": [
           {
            "colorbar": {
             "outlinewidth": 0,
             "ticks": ""
            },
            "colorscale": [
             [
              0,
              "#0d0887"
             ],
             [
              0.1111111111111111,
              "#46039f"
             ],
             [
              0.2222222222222222,
              "#7201a8"
             ],
             [
              0.3333333333333333,
              "#9c179e"
             ],
             [
              0.4444444444444444,
              "#bd3786"
             ],
             [
              0.5555555555555556,
              "#d8576b"
             ],
             [
              0.6666666666666666,
              "#ed7953"
             ],
             [
              0.7777777777777778,
              "#fb9f3a"
             ],
             [
              0.8888888888888888,
              "#fdca26"
             ],
             [
              1,
              "#f0f921"
             ]
            ],
            "type": "heatmap"
           }
          ],
          "histogram": [
           {
            "marker": {
             "pattern": {
              "fillmode": "overlay",
              "size": 10,
              "solidity": 0.2
             }
            },
            "type": "histogram"
           }
          ],
          "histogram2d": [
           {
            "colorbar": {
             "outlinewidth": 0,
             "ticks": ""
            },
            "colorscale": [
             [
              0,
              "#0d0887"
             ],
             [
              0.1111111111111111,
              "#46039f"
             ],
             [
              0.2222222222222222,
              "#7201a8"
             ],
             [
              0.3333333333333333,
              "#9c179e"
             ],
             [
              0.4444444444444444,
              "#bd3786"
             ],
             [
              0.5555555555555556,
              "#d8576b"
             ],
             [
              0.6666666666666666,
              "#ed7953"
             ],
             [
              0.7777777777777778,
              "#fb9f3a"
             ],
             [
              0.8888888888888888,
              "#fdca26"
             ],
             [
              1,
              "#f0f921"
             ]
            ],
            "type": "histogram2d"
           }
          ],
          "histogram2dcontour": [
           {
            "colorbar": {
             "outlinewidth": 0,
             "ticks": ""
            },
            "colorscale": [
             [
              0,
              "#0d0887"
             ],
             [
              0.1111111111111111,
              "#46039f"
             ],
             [
              0.2222222222222222,
              "#7201a8"
             ],
             [
              0.3333333333333333,
              "#9c179e"
             ],
             [
              0.4444444444444444,
              "#bd3786"
             ],
             [
              0.5555555555555556,
              "#d8576b"
             ],
             [
              0.6666666666666666,
              "#ed7953"
             ],
             [
              0.7777777777777778,
              "#fb9f3a"
             ],
             [
              0.8888888888888888,
              "#fdca26"
             ],
             [
              1,
              "#f0f921"
             ]
            ],
            "type": "histogram2dcontour"
           }
          ],
          "mesh3d": [
           {
            "colorbar": {
             "outlinewidth": 0,
             "ticks": ""
            },
            "type": "mesh3d"
           }
          ],
          "parcoords": [
           {
            "line": {
             "colorbar": {
              "outlinewidth": 0,
              "ticks": ""
             }
            },
            "type": "parcoords"
           }
          ],
          "pie": [
           {
            "automargin": true,
            "type": "pie"
           }
          ],
          "scatter": [
           {
            "fillpattern": {
             "fillmode": "overlay",
             "size": 10,
             "solidity": 0.2
            },
            "type": "scatter"
           }
          ],
          "scatter3d": [
           {
            "line": {
             "colorbar": {
              "outlinewidth": 0,
              "ticks": ""
             }
            },
            "marker": {
             "colorbar": {
              "outlinewidth": 0,
              "ticks": ""
             }
            },
            "type": "scatter3d"
           }
          ],
          "scattercarpet": [
           {
            "marker": {
             "colorbar": {
              "outlinewidth": 0,
              "ticks": ""
             }
            },
            "type": "scattercarpet"
           }
          ],
          "scattergeo": [
           {
            "marker": {
             "colorbar": {
              "outlinewidth": 0,
              "ticks": ""
             }
            },
            "type": "scattergeo"
           }
          ],
          "scattergl": [
           {
            "marker": {
             "colorbar": {
              "outlinewidth": 0,
              "ticks": ""
             }
            },
            "type": "scattergl"
           }
          ],
          "scattermap": [
           {
            "marker": {
             "colorbar": {
              "outlinewidth": 0,
              "ticks": ""
             }
            },
            "type": "scattermap"
           }
          ],
          "scattermapbox": [
           {
            "marker": {
             "colorbar": {
              "outlinewidth": 0,
              "ticks": ""
             }
            },
            "type": "scattermapbox"
           }
          ],
          "scatterpolar": [
           {
            "marker": {
             "colorbar": {
              "outlinewidth": 0,
              "ticks": ""
             }
            },
            "type": "scatterpolar"
           }
          ],
          "scatterpolargl": [
           {
            "marker": {
             "colorbar": {
              "outlinewidth": 0,
              "ticks": ""
             }
            },
            "type": "scatterpolargl"
           }
          ],
          "scatterternary": [
           {
            "marker": {
             "colorbar": {
              "outlinewidth": 0,
              "ticks": ""
             }
            },
            "type": "scatterternary"
           }
          ],
          "surface": [
           {
            "colorbar": {
             "outlinewidth": 0,
             "ticks": ""
            },
            "colorscale": [
             [
              0,
              "#0d0887"
             ],
             [
              0.1111111111111111,
              "#46039f"
             ],
             [
              0.2222222222222222,
              "#7201a8"
             ],
             [
              0.3333333333333333,
              "#9c179e"
             ],
             [
              0.4444444444444444,
              "#bd3786"
             ],
             [
              0.5555555555555556,
              "#d8576b"
             ],
             [
              0.6666666666666666,
              "#ed7953"
             ],
             [
              0.7777777777777778,
              "#fb9f3a"
             ],
             [
              0.8888888888888888,
              "#fdca26"
             ],
             [
              1,
              "#f0f921"
             ]
            ],
            "type": "surface"
           }
          ],
          "table": [
           {
            "cells": {
             "fill": {
              "color": "#EBF0F8"
             },
             "line": {
              "color": "white"
             }
            },
            "header": {
             "fill": {
              "color": "#C8D4E3"
             },
             "line": {
              "color": "white"
             }
            },
            "type": "table"
           }
          ]
         },
         "layout": {
          "annotationdefaults": {
           "arrowcolor": "#2a3f5f",
           "arrowhead": 0,
           "arrowwidth": 1
          },
          "autotypenumbers": "strict",
          "coloraxis": {
           "colorbar": {
            "outlinewidth": 0,
            "ticks": ""
           }
          },
          "colorscale": {
           "diverging": [
            [
             0,
             "#8e0152"
            ],
            [
             0.1,
             "#c51b7d"
            ],
            [
             0.2,
             "#de77ae"
            ],
            [
             0.3,
             "#f1b6da"
            ],
            [
             0.4,
             "#fde0ef"
            ],
            [
             0.5,
             "#f7f7f7"
            ],
            [
             0.6,
             "#e6f5d0"
            ],
            [
             0.7,
             "#b8e186"
            ],
            [
             0.8,
             "#7fbc41"
            ],
            [
             0.9,
             "#4d9221"
            ],
            [
             1,
             "#276419"
            ]
           ],
           "sequential": [
            [
             0,
             "#0d0887"
            ],
            [
             0.1111111111111111,
             "#46039f"
            ],
            [
             0.2222222222222222,
             "#7201a8"
            ],
            [
             0.3333333333333333,
             "#9c179e"
            ],
            [
             0.4444444444444444,
             "#bd3786"
            ],
            [
             0.5555555555555556,
             "#d8576b"
            ],
            [
             0.6666666666666666,
             "#ed7953"
            ],
            [
             0.7777777777777778,
             "#fb9f3a"
            ],
            [
             0.8888888888888888,
             "#fdca26"
            ],
            [
             1,
             "#f0f921"
            ]
           ],
           "sequentialminus": [
            [
             0,
             "#0d0887"
            ],
            [
             0.1111111111111111,
             "#46039f"
            ],
            [
             0.2222222222222222,
             "#7201a8"
            ],
            [
             0.3333333333333333,
             "#9c179e"
            ],
            [
             0.4444444444444444,
             "#bd3786"
            ],
            [
             0.5555555555555556,
             "#d8576b"
            ],
            [
             0.6666666666666666,
             "#ed7953"
            ],
            [
             0.7777777777777778,
             "#fb9f3a"
            ],
            [
             0.8888888888888888,
             "#fdca26"
            ],
            [
             1,
             "#f0f921"
            ]
           ]
          },
          "colorway": [
           "#636efa",
           "#EF553B",
           "#00cc96",
           "#ab63fa",
           "#FFA15A",
           "#19d3f3",
           "#FF6692",
           "#B6E880",
           "#FF97FF",
           "#FECB52"
          ],
          "font": {
           "color": "#2a3f5f"
          },
          "geo": {
           "bgcolor": "white",
           "lakecolor": "white",
           "landcolor": "#E5ECF6",
           "showlakes": true,
           "showland": true,
           "subunitcolor": "white"
          },
          "hoverlabel": {
           "align": "left"
          },
          "hovermode": "closest",
          "mapbox": {
           "style": "light"
          },
          "paper_bgcolor": "white",
          "plot_bgcolor": "#E5ECF6",
          "polar": {
           "angularaxis": {
            "gridcolor": "white",
            "linecolor": "white",
            "ticks": ""
           },
           "bgcolor": "#E5ECF6",
           "radialaxis": {
            "gridcolor": "white",
            "linecolor": "white",
            "ticks": ""
           }
          },
          "scene": {
           "xaxis": {
            "backgroundcolor": "#E5ECF6",
            "gridcolor": "white",
            "gridwidth": 2,
            "linecolor": "white",
            "showbackground": true,
            "ticks": "",
            "zerolinecolor": "white"
           },
           "yaxis": {
            "backgroundcolor": "#E5ECF6",
            "gridcolor": "white",
            "gridwidth": 2,
            "linecolor": "white",
            "showbackground": true,
            "ticks": "",
            "zerolinecolor": "white"
           },
           "zaxis": {
            "backgroundcolor": "#E5ECF6",
            "gridcolor": "white",
            "gridwidth": 2,
            "linecolor": "white",
            "showbackground": true,
            "ticks": "",
            "zerolinecolor": "white"
           }
          },
          "shapedefaults": {
           "line": {
            "color": "#2a3f5f"
           }
          },
          "ternary": {
           "aaxis": {
            "gridcolor": "white",
            "linecolor": "white",
            "ticks": ""
           },
           "baxis": {
            "gridcolor": "white",
            "linecolor": "white",
            "ticks": ""
           },
           "bgcolor": "#E5ECF6",
           "caxis": {
            "gridcolor": "white",
            "linecolor": "white",
            "ticks": ""
           }
          },
          "title": {
           "x": 0.05
          },
          "xaxis": {
           "automargin": true,
           "gridcolor": "white",
           "linecolor": "white",
           "ticks": "",
           "title": {
            "standoff": 15
           },
           "zerolinecolor": "white",
           "zerolinewidth": 2
          },
          "yaxis": {
           "automargin": true,
           "gridcolor": "white",
           "linecolor": "white",
           "ticks": "",
           "title": {
            "standoff": 15
           },
           "zerolinecolor": "white",
           "zerolinewidth": 2
          }
         }
        },
        "xaxis": {
         "anchor": "y",
         "domain": [
          0,
          1
         ],
         "title": {
          "text": "mvliking"
         }
        },
        "yaxis": {
         "anchor": "x",
         "domain": [
          0,
          1
         ],
         "title": {
          "text": "count"
         }
        }
       }
      },
      "image/png": "[encoded data removed]"
     },
     "metadata": {},
     "output_type": "display_data"
    }
   ],
   "source": [
    "fig = px.histogram(data_frame=df_cluster0, x='mvliking')\n",
    "fig.show()"
   ]
  },
  {
   "cell_type": "code",
   "execution_count": 49,
   "id": "8976b376",
   "metadata": {},
   "outputs": [
    {
     "data": {
      "application/vnd.plotly.v1+json": {
       "config": {
        "plotlyServerURL": "https://plot.ly"
       },
       "data": [
        {
         "bingroup": "x",
         "hovertemplate": "mvliking=%{x}<br>count=%{y}<extra></extra>",
         "legendgroup": "",
         "marker": {
          "color": "indianred",
          "pattern": {
           "shape": ""
          }
         },
         "name": "",
         "orientation": "v",
         "showlegend": false,
         "type": "histogram",
         "x": {
          "bdata": "BAMEAwEEAQMHAQUBAQkCBAECAQYBBAQBAQQCBgEIAwUBAgMBAgEGBwIBBQIECQECCQQIBgEBCQUHBAQGAQUDBQgJBQcDBAMEAwQCBgEBAgEBBwMBAwEJBAICBwkGBAMEAgcDBQgBBwECAwgFBAMJBQYGBQUIAQYBBAkCBQcBCQQEAwEBAwMHAQYBBgUBCQIFBAEGBAEDBAMGBAEEBgEF",
          "dtype": "i1"
         },
         "xaxis": "x",
         "yaxis": "y"
        }
       ],
       "layout": {
        "barmode": "relative",
        "legend": {
         "tracegroupgap": 0
        },
        "margin": {
         "t": 60
        },
        "template": {
         "data": {
          "bar": [
           {
            "error_x": {
             "color": "#2a3f5f"
            },
            "error_y": {
             "color": "#2a3f5f"
            },
            "marker": {
             "line": {
              "color": "#E5ECF6",
              "width": 0.5
             },
             "pattern": {
              "fillmode": "overlay",
              "size": 10,
              "solidity": 0.2
             }
            },
            "type": "bar"
           }
          ],
          "barpolar": [
           {
            "marker": {
             "line": {
              "color": "#E5ECF6",
              "width": 0.5
             },
             "pattern": {
              "fillmode": "overlay",
              "size": 10,
              "solidity": 0.2
             }
            },
            "type": "barpolar"
           }
          ],
          "carpet": [
           {
            "aaxis": {
             "endlinecolor": "#2a3f5f",
             "gridcolor": "white",
             "linecolor": "white",
             "minorgridcolor": "white",
             "startlinecolor": "#2a3f5f"
            },
            "baxis": {
             "endlinecolor": "#2a3f5f",
             "gridcolor": "white",
             "linecolor": "white",
             "minorgridcolor": "white",
             "startlinecolor": "#2a3f5f"
            },
            "type": "carpet"
           }
          ],
          "choropleth": [
           {
            "colorbar": {
             "outlinewidth": 0,
             "ticks": ""
            },
            "type": "choropleth"
           }
          ],
          "contour": [
           {
            "colorbar": {
             "outlinewidth": 0,
             "ticks": ""
            },
            "colorscale": [
             [
              0,
              "#0d0887"
             ],
             [
              0.1111111111111111,
              "#46039f"
             ],
             [
              0.2222222222222222,
              "#7201a8"
             ],
             [
              0.3333333333333333,
              "#9c179e"
             ],
             [
              0.4444444444444444,
              "#bd3786"
             ],
             [
              0.5555555555555556,
              "#d8576b"
             ],
             [
              0.6666666666666666,
              "#ed7953"
             ],
             [
              0.7777777777777778,
              "#fb9f3a"
             ],
             [
              0.8888888888888888,
              "#fdca26"
             ],
             [
              1,
              "#f0f921"
             ]
            ],
            "type": "contour"
           }
          ],
          "contourcarpet": [
           {
            "colorbar": {
             "outlinewidth": 0,
             "ticks": ""
            },
            "type": "contourcarpet"
           }
          ],
          "heatmap": [
           {
            "colorbar": {
             "outlinewidth": 0,
             "ticks": ""
            },
            "colorscale": [
             [
              0,
              "#0d0887"
             ],
             [
              0.1111111111111111,
              "#46039f"
             ],
             [
              0.2222222222222222,
              "#7201a8"
             ],
             [
              0.3333333333333333,
              "#9c179e"
             ],
             [
              0.4444444444444444,
              "#bd3786"
             ],
             [
              0.5555555555555556,
              "#d8576b"
             ],
             [
              0.6666666666666666,
              "#ed7953"
             ],
             [
              0.7777777777777778,
              "#fb9f3a"
             ],
             [
              0.8888888888888888,
              "#fdca26"
             ],
             [
              1,
              "#f0f921"
             ]
            ],
            "type": "heatmap"
           }
          ],
          "histogram": [
           {
            "marker": {
             "pattern": {
              "fillmode": "overlay",
              "size": 10,
              "solidity": 0.2
             }
            },
            "type": "histogram"
           }
          ],
          "histogram2d": [
           {
            "colorbar": {
             "outlinewidth": 0,
             "ticks": ""
            },
            "colorscale": [
             [
              0,
              "#0d0887"
             ],
             [
              0.1111111111111111,
              "#46039f"
             ],
             [
              0.2222222222222222,
              "#7201a8"
             ],
             [
              0.3333333333333333,
              "#9c179e"
             ],
             [
              0.4444444444444444,
              "#bd3786"
             ],
             [
              0.5555555555555556,
              "#d8576b"
             ],
             [
              0.6666666666666666,
              "#ed7953"
             ],
             [
              0.7777777777777778,
              "#fb9f3a"
             ],
             [
              0.8888888888888888,
              "#fdca26"
             ],
             [
              1,
              "#f0f921"
             ]
            ],
            "type": "histogram2d"
           }
          ],
          "histogram2dcontour": [
           {
            "colorbar": {
             "outlinewidth": 0,
             "ticks": ""
            },
            "colorscale": [
             [
              0,
              "#0d0887"
             ],
             [
              0.1111111111111111,
              "#46039f"
             ],
             [
              0.2222222222222222,
              "#7201a8"
             ],
             [
              0.3333333333333333,
              "#9c179e"
             ],
             [
              0.4444444444444444,
              "#bd3786"
             ],
             [
              0.5555555555555556,
              "#d8576b"
             ],
             [
              0.6666666666666666,
              "#ed7953"
             ],
             [
              0.7777777777777778,
              "#fb9f3a"
             ],
             [
              0.8888888888888888,
              "#fdca26"
             ],
             [
              1,
              "#f0f921"
             ]
            ],
            "type": "histogram2dcontour"
           }
          ],
          "mesh3d": [
           {
            "colorbar": {
             "outlinewidth": 0,
             "ticks": ""
            },
            "type": "mesh3d"
           }
          ],
          "parcoords": [
           {
            "line": {
             "colorbar": {
              "outlinewidth": 0,
              "ticks": ""
             }
            },
            "type": "parcoords"
           }
          ],
          "pie": [
           {
            "automargin": true,
            "type": "pie"
           }
          ],
          "scatter": [
           {
            "fillpattern": {
             "fillmode": "overlay",
             "size": 10,
             "solidity": 0.2
            },
            "type": "scatter"
           }
          ],
          "scatter3d": [
           {
            "line": {
             "colorbar": {
              "outlinewidth": 0,
              "ticks": ""
             }
            },
            "marker": {
             "colorbar": {
              "outlinewidth": 0,
              "ticks": ""
             }
            },
            "type": "scatter3d"
           }
          ],
          "scattercarpet": [
           {
            "marker": {
             "colorbar": {
              "outlinewidth": 0,
              "ticks": ""
             }
            },
            "type": "scattercarpet"
           }
          ],
          "scattergeo": [
           {
            "marker": {
             "colorbar": {
              "outlinewidth": 0,
              "ticks": ""
             }
            },
            "type": "scattergeo"
           }
          ],
          "scattergl": [
           {
            "marker": {
             "colorbar": {
              "outlinewidth": 0,
              "ticks": ""
             }
            },
            "type": "scattergl"
           }
          ],
          "scattermap": [
           {
            "marker": {
             "colorbar": {
              "outlinewidth": 0,
              "ticks": ""
             }
            },
            "type": "scattermap"
           }
          ],
          "scattermapbox": [
           {
            "marker": {
             "colorbar": {
              "outlinewidth": 0,
              "ticks": ""
             }
            },
            "type": "scattermapbox"
           }
          ],
          "scatterpolar": [
           {
            "marker": {
             "colorbar": {
              "outlinewidth": 0,
              "ticks": ""
             }
            },
            "type": "scatterpolar"
           }
          ],
          "scatterpolargl": [
           {
            "marker": {
             "colorbar": {
              "outlinewidth": 0,
              "ticks": ""
             }
            },
            "type": "scatterpolargl"
           }
          ],
          "scatterternary": [
           {
            "marker": {
             "colorbar": {
              "outlinewidth": 0,
              "ticks": ""
             }
            },
            "type": "scatterternary"
           }
          ],
          "surface": [
           {
            "colorbar": {
             "outlinewidth": 0,
             "ticks": ""
            },
            "colorscale": [
             [
              0,
              "#0d0887"
             ],
             [
              0.1111111111111111,
              "#46039f"
             ],
             [
              0.2222222222222222,
              "#7201a8"
             ],
             [
              0.3333333333333333,
              "#9c179e"
             ],
             [
              0.4444444444444444,
              "#bd3786"
             ],
             [
              0.5555555555555556,
              "#d8576b"
             ],
             [
              0.6666666666666666,
              "#ed7953"
             ],
             [
              0.7777777777777778,
              "#fb9f3a"
             ],
             [
              0.8888888888888888,
              "#fdca26"
             ],
             [
              1,
              "#f0f921"
             ]
            ],
            "type": "surface"
           }
          ],
          "table": [
           {
            "cells": {
             "fill": {
              "color": "#EBF0F8"
             },
             "line": {
              "color": "white"
             }
            },
            "header": {
             "fill": {
              "color": "#C8D4E3"
             },
             "line": {
              "color": "white"
             }
            },
            "type": "table"
           }
          ]
         },
         "layout": {
          "annotationdefaults": {
           "arrowcolor": "#2a3f5f",
           "arrowhead": 0,
           "arrowwidth": 1
          },
          "autotypenumbers": "strict",
          "coloraxis": {
           "colorbar": {
            "outlinewidth": 0,
            "ticks": ""
           }
          },
          "colorscale": {
           "diverging": [
            [
             0,
             "#8e0152"
            ],
            [
             0.1,
             "#c51b7d"
            ],
            [
             0.2,
             "#de77ae"
            ],
            [
             0.3,
             "#f1b6da"
            ],
            [
             0.4,
             "#fde0ef"
            ],
            [
             0.5,
             "#f7f7f7"
            ],
            [
             0.6,
             "#e6f5d0"
            ],
            [
             0.7,
             "#b8e186"
            ],
            [
             0.8,
             "#7fbc41"
            ],
            [
             0.9,
             "#4d9221"
            ],
            [
             1,
             "#276419"
            ]
           ],
           "sequential": [
            [
             0,
             "#0d0887"
            ],
            [
             0.1111111111111111,
             "#46039f"
            ],
            [
             0.2222222222222222,
             "#7201a8"
            ],
            [
             0.3333333333333333,
             "#9c179e"
            ],
            [
             0.4444444444444444,
             "#bd3786"
            ],
            [
             0.5555555555555556,
             "#d8576b"
            ],
            [
             0.6666666666666666,
             "#ed7953"
            ],
            [
             0.7777777777777778,
             "#fb9f3a"
            ],
            [
             0.8888888888888888,
             "#fdca26"
            ],
            [
             1,
             "#f0f921"
            ]
           ],
           "sequentialminus": [
            [
             0,
             "#0d0887"
            ],
            [
             0.1111111111111111,
             "#46039f"
            ],
            [
             0.2222222222222222,
             "#7201a8"
            ],
            [
             0.3333333333333333,
             "#9c179e"
            ],
            [
             0.4444444444444444,
             "#bd3786"
            ],
            [
             0.5555555555555556,
             "#d8576b"
            ],
            [
             0.6666666666666666,
             "#ed7953"
            ],
            [
             0.7777777777777778,
             "#fb9f3a"
            ],
            [
             0.8888888888888888,
             "#fdca26"
            ],
            [
             1,
             "#f0f921"
            ]
           ]
          },
          "colorway": [
           "#636efa",
           "#EF553B",
           "#00cc96",
           "#ab63fa",
           "#FFA15A",
           "#19d3f3",
           "#FF6692",
           "#B6E880",
           "#FF97FF",
           "#FECB52"
          ],
          "font": {
           "color": "#2a3f5f"
          },
          "geo": {
           "bgcolor": "white",
           "lakecolor": "white",
           "landcolor": "#E5ECF6",
           "showlakes": true,
           "showland": true,
           "subunitcolor": "white"
          },
          "hoverlabel": {
           "align": "left"
          },
          "hovermode": "closest",
          "mapbox": {
           "style": "light"
          },
          "paper_bgcolor": "white",
          "plot_bgcolor": "#E5ECF6",
          "polar": {
           "angularaxis": {
            "gridcolor": "white",
            "linecolor": "white",
            "ticks": ""
           },
           "bgcolor": "#E5ECF6",
           "radialaxis": {
            "gridcolor": "white",
            "linecolor": "white",
            "ticks": ""
           }
          },
          "scene": {
           "xaxis": {
            "backgroundcolor": "#E5ECF6",
            "gridcolor": "white",
            "gridwidth": 2,
            "linecolor": "white",
            "showbackground": true,
            "ticks": "",
            "zerolinecolor": "white"
           },
           "yaxis": {
            "backgroundcolor": "#E5ECF6",
            "gridcolor": "white",
            "gridwidth": 2,
            "linecolor": "white",
            "showbackground": true,
            "ticks": "",
            "zerolinecolor": "white"
           },
           "zaxis": {
            "backgroundcolor": "#E5ECF6",
            "gridcolor": "white",
            "gridwidth": 2,
            "linecolor": "white",
            "showbackground": true,
            "ticks": "",
            "zerolinecolor": "white"
           }
          },
          "shapedefaults": {
           "line": {
            "color": "#2a3f5f"
           }
          },
          "ternary": {
           "aaxis": {
            "gridcolor": "white",
            "linecolor": "white",
            "ticks": ""
           },
           "baxis": {
            "gridcolor": "white",
            "linecolor": "white",
            "ticks": ""
           },
           "bgcolor": "#E5ECF6",
           "caxis": {
            "gridcolor": "white",
            "linecolor": "white",
            "ticks": ""
           }
          },
          "title": {
           "x": 0.05
          },
          "xaxis": {
           "automargin": true,
           "gridcolor": "white",
           "linecolor": "white",
           "ticks": "",
           "title": {
            "standoff": 15
           },
           "zerolinecolor": "white",
           "zerolinewidth": 2
          },
          "yaxis": {
           "automargin": true,
           "gridcolor": "white",
           "linecolor": "white",
           "ticks": "",
           "title": {
            "standoff": 15
           },
           "zerolinecolor": "white",
           "zerolinewidth": 2
          }
         }
        },
        "xaxis": {
         "anchor": "y",
         "domain": [
          0,
          1
         ],
         "title": {
          "text": "mvliking"
         }
        },
        "yaxis": {
         "anchor": "x",
         "domain": [
          0,
          1
         ],
         "title": {
          "text": "count"
         }
        }
       }
      },
      "image/png": "[encoded data removed]"
     },
     "metadata": {},
     "output_type": "display_data"
    }
   ],
   "source": [
    "fig = px.histogram(data_frame=df_cluster1, x='mvliking', color_discrete_sequence=['indianred'])\n",
    "fig.show()"
   ]
  },
  {
   "cell_type": "code",
   "execution_count": 50,
   "id": "5d286dae",
   "metadata": {},
   "outputs": [
    {
     "data": {
      "application/vnd.plotly.v1+json": {
       "config": {
        "plotlyServerURL": "https://plot.ly"
       },
       "data": [
        {
         "bingroup": "x",
         "hovertemplate": "mvliking=%{x}<br>count=%{y}<extra></extra>",
         "legendgroup": "",
         "marker": {
          "color": "slategray",
          "pattern": {
           "shape": ""
          }
         },
         "name": "",
         "nbinsx": 10,
         "orientation": "v",
         "showlegend": false,
         "type": "histogram",
         "x": {
          "bdata": "AwECBQMHAgEBAwYHCQMBBQkGAwUHAQUEAQQJBAUBBQMIBwYFBAIGAwQBBwkBCQUFBQEHBwQGCQUFBAEDAQMBBgEIAQEJAwcGCAIFBQQBAwYGCAUFBAMBBQUDBQkFAwIEAgQHBQIEAQMECAEICQEBBAEBBAYJAQYDCQQHAQMIBAcJ",
          "dtype": "i1"
         },
         "xaxis": "x",
         "yaxis": "y"
        }
       ],
       "layout": {
        "barmode": "relative",
        "legend": {
         "tracegroupgap": 0
        },
        "margin": {
         "t": 60
        },
        "template": {
         "data": {
          "bar": [
           {
            "error_x": {
             "color": "#2a3f5f"
            },
            "error_y": {
             "color": "#2a3f5f"
            },
            "marker": {
             "line": {
              "color": "#E5ECF6",
              "width": 0.5
             },
             "pattern": {
              "fillmode": "overlay",
              "size": 10,
              "solidity": 0.2
             }
            },
            "type": "bar"
           }
          ],
          "barpolar": [
           {
            "marker": {
             "line": {
              "color": "#E5ECF6",
              "width": 0.5
             },
             "pattern": {
              "fillmode": "overlay",
              "size": 10,
              "solidity": 0.2
             }
            },
            "type": "barpolar"
           }
          ],
          "carpet": [
           {
            "aaxis": {
             "endlinecolor": "#2a3f5f",
             "gridcolor": "white",
             "linecolor": "white",
             "minorgridcolor": "white",
             "startlinecolor": "#2a3f5f"
            },
            "baxis": {
             "endlinecolor": "#2a3f5f",
             "gridcolor": "white",
             "linecolor": "white",
             "minorgridcolor": "white",
             "startlinecolor": "#2a3f5f"
            },
            "type": "carpet"
           }
          ],
          "choropleth": [
           {
            "colorbar": {
             "outlinewidth": 0,
             "ticks": ""
            },
            "type": "choropleth"
           }
          ],
          "contour": [
           {
            "colorbar": {
             "outlinewidth": 0,
             "ticks": ""
            },
            "colorscale": [
             [
              0,
              "#0d0887"
             ],
             [
              0.1111111111111111,
              "#46039f"
             ],
             [
              0.2222222222222222,
              "#7201a8"
             ],
             [
              0.3333333333333333,
              "#9c179e"
             ],
             [
              0.4444444444444444,
              "#bd3786"
             ],
             [
              0.5555555555555556,
              "#d8576b"
             ],
             [
              0.6666666666666666,
              "#ed7953"
             ],
             [
              0.7777777777777778,
              "#fb9f3a"
             ],
             [
              0.8888888888888888,
              "#fdca26"
             ],
             [
              1,
              "#f0f921"
             ]
            ],
            "type": "contour"
           }
          ],
          "contourcarpet": [
           {
            "colorbar": {
             "outlinewidth": 0,
             "ticks": ""
            },
            "type": "contourcarpet"
           }
          ],
          "heatmap": [
           {
            "colorbar": {
             "outlinewidth": 0,
             "ticks": ""
            },
            "colorscale": [
             [
              0,
              "#0d0887"
             ],
             [
              0.1111111111111111,
              "#46039f"
             ],
             [
              0.2222222222222222,
              "#7201a8"
             ],
             [
              0.3333333333333333,
              "#9c179e"
             ],
             [
              0.4444444444444444,
              "#bd3786"
             ],
             [
              0.5555555555555556,
              "#d8576b"
             ],
             [
              0.6666666666666666,
              "#ed7953"
             ],
             [
              0.7777777777777778,
              "#fb9f3a"
             ],
             [
              0.8888888888888888,
              "#fdca26"
             ],
             [
              1,
              "#f0f921"
             ]
            ],
            "type": "heatmap"
           }
          ],
          "histogram": [
           {
            "marker": {
             "pattern": {
              "fillmode": "overlay",
              "size": 10,
              "solidity": 0.2
             }
            },
            "type": "histogram"
           }
          ],
          "histogram2d": [
           {
            "colorbar": {
             "outlinewidth": 0,
             "ticks": ""
            },
            "colorscale": [
             [
              0,
              "#0d0887"
             ],
             [
              0.1111111111111111,
              "#46039f"
             ],
             [
              0.2222222222222222,
              "#7201a8"
             ],
             [
              0.3333333333333333,
              "#9c179e"
             ],
             [
              0.4444444444444444,
              "#bd3786"
             ],
             [
              0.5555555555555556,
              "#d8576b"
             ],
             [
              0.6666666666666666,
              "#ed7953"
             ],
             [
              0.7777777777777778,
              "#fb9f3a"
             ],
             [
              0.8888888888888888,
              "#fdca26"
             ],
             [
              1,
              "#f0f921"
             ]
            ],
            "type": "histogram2d"
           }
          ],
          "histogram2dcontour": [
           {
            "colorbar": {
             "outlinewidth": 0,
             "ticks": ""
            },
            "colorscale": [
             [
              0,
              "#0d0887"
             ],
             [
              0.1111111111111111,
              "#46039f"
             ],
             [
              0.2222222222222222,
              "#7201a8"
             ],
             [
              0.3333333333333333,
              "#9c179e"
             ],
             [
              0.4444444444444444,
              "#bd3786"
             ],
             [
              0.5555555555555556,
              "#d8576b"
             ],
             [
              0.6666666666666666,
              "#ed7953"
             ],
             [
              0.7777777777777778,
              "#fb9f3a"
             ],
             [
              0.8888888888888888,
              "#fdca26"
             ],
             [
              1,
              "#f0f921"
             ]
            ],
            "type": "histogram2dcontour"
           }
          ],
          "mesh3d": [
           {
            "colorbar": {
             "outlinewidth": 0,
             "ticks": ""
            },
            "type": "mesh3d"
           }
          ],
          "parcoords": [
           {
            "line": {
             "colorbar": {
              "outlinewidth": 0,
              "ticks": ""
             }
            },
            "type": "parcoords"
           }
          ],
          "pie": [
           {
            "automargin": true,
            "type": "pie"
           }
          ],
          "scatter": [
           {
            "fillpattern": {
             "fillmode": "overlay",
             "size": 10,
             "solidity": 0.2
            },
            "type": "scatter"
           }
          ],
          "scatter3d": [
           {
            "line": {
             "colorbar": {
              "outlinewidth": 0,
              "ticks": ""
             }
            },
            "marker": {
             "colorbar": {
              "outlinewidth": 0,
              "ticks": ""
             }
            },
            "type": "scatter3d"
           }
          ],
          "scattercarpet": [
           {
            "marker": {
             "colorbar": {
              "outlinewidth": 0,
              "ticks": ""
             }
            },
            "type": "scattercarpet"
           }
          ],
          "scattergeo": [
           {
            "marker": {
             "colorbar": {
              "outlinewidth": 0,
              "ticks": ""
             }
            },
            "type": "scattergeo"
           }
          ],
          "scattergl": [
           {
            "marker": {
             "colorbar": {
              "outlinewidth": 0,
              "ticks": ""
             }
            },
            "type": "scattergl"
           }
          ],
          "scattermap": [
           {
            "marker": {
             "colorbar": {
              "outlinewidth": 0,
              "ticks": ""
             }
            },
            "type": "scattermap"
           }
          ],
          "scattermapbox": [
           {
            "marker": {
             "colorbar": {
              "outlinewidth": 0,
              "ticks": ""
             }
            },
            "type": "scattermapbox"
           }
          ],
          "scatterpolar": [
           {
            "marker": {
             "colorbar": {
              "outlinewidth": 0,
              "ticks": ""
             }
            },
            "type": "scatterpolar"
           }
          ],
          "scatterpolargl": [
           {
            "marker": {
             "colorbar": {
              "outlinewidth": 0,
              "ticks": ""
             }
            },
            "type": "scatterpolargl"
           }
          ],
          "scatterternary": [
           {
            "marker": {
             "colorbar": {
              "outlinewidth": 0,
              "ticks": ""
             }
            },
            "type": "scatterternary"
           }
          ],
          "surface": [
           {
            "colorbar": {
             "outlinewidth": 0,
             "ticks": ""
            },
            "colorscale": [
             [
              0,
              "#0d0887"
             ],
             [
              0.1111111111111111,
              "#46039f"
             ],
             [
              0.2222222222222222,
              "#7201a8"
             ],
             [
              0.3333333333333333,
              "#9c179e"
             ],
             [
              0.4444444444444444,
              "#bd3786"
             ],
             [
              0.5555555555555556,
              "#d8576b"
             ],
             [
              0.6666666666666666,
              "#ed7953"
             ],
             [
              0.7777777777777778,
              "#fb9f3a"
             ],
             [
              0.8888888888888888,
              "#fdca26"
             ],
             [
              1,
              "#f0f921"
             ]
            ],
            "type": "surface"
           }
          ],
          "table": [
           {
            "cells": {
             "fill": {
              "color": "#EBF0F8"
             },
             "line": {
              "color": "white"
             }
            },
            "header": {
             "fill": {
              "color": "#C8D4E3"
             },
             "line": {
              "color": "white"
             }
            },
            "type": "table"
           }
          ]
         },
         "layout": {
          "annotationdefaults": {
           "arrowcolor": "#2a3f5f",
           "arrowhead": 0,
           "arrowwidth": 1
          },
          "autotypenumbers": "strict",
          "coloraxis": {
           "colorbar": {
            "outlinewidth": 0,
            "ticks": ""
           }
          },
          "colorscale": {
           "diverging": [
            [
             0,
             "#8e0152"
            ],
            [
             0.1,
             "#c51b7d"
            ],
            [
             0.2,
             "#de77ae"
            ],
            [
             0.3,
             "#f1b6da"
            ],
            [
             0.4,
             "#fde0ef"
            ],
            [
             0.5,
             "#f7f7f7"
            ],
            [
             0.6,
             "#e6f5d0"
            ],
            [
             0.7,
             "#b8e186"
            ],
            [
             0.8,
             "#7fbc41"
            ],
            [
             0.9,
             "#4d9221"
            ],
            [
             1,
             "#276419"
            ]
           ],
           "sequential": [
            [
             0,
             "#0d0887"
            ],
            [
             0.1111111111111111,
             "#46039f"
            ],
            [
             0.2222222222222222,
             "#7201a8"
            ],
            [
             0.3333333333333333,
             "#9c179e"
            ],
            [
             0.4444444444444444,
             "#bd3786"
            ],
            [
             0.5555555555555556,
             "#d8576b"
            ],
            [
             0.6666666666666666,
             "#ed7953"
            ],
            [
             0.7777777777777778,
             "#fb9f3a"
            ],
            [
             0.8888888888888888,
             "#fdca26"
            ],
            [
             1,
             "#f0f921"
            ]
           ],
           "sequentialminus": [
            [
             0,
             "#0d0887"
            ],
            [
             0.1111111111111111,
             "#46039f"
            ],
            [
             0.2222222222222222,
             "#7201a8"
            ],
            [
             0.3333333333333333,
             "#9c179e"
            ],
            [
             0.4444444444444444,
             "#bd3786"
            ],
            [
             0.5555555555555556,
             "#d8576b"
            ],
            [
             0.6666666666666666,
             "#ed7953"
            ],
            [
             0.7777777777777778,
             "#fb9f3a"
            ],
            [
             0.8888888888888888,
             "#fdca26"
            ],
            [
             1,
             "#f0f921"
            ]
           ]
          },
          "colorway": [
           "#636efa",
           "#EF553B",
           "#00cc96",
           "#ab63fa",
           "#FFA15A",
           "#19d3f3",
           "#FF6692",
           "#B6E880",
           "#FF97FF",
           "#FECB52"
          ],
          "font": {
           "color": "#2a3f5f"
          },
          "geo": {
           "bgcolor": "white",
           "lakecolor": "white",
           "landcolor": "#E5ECF6",
           "showlakes": true,
           "showland": true,
           "subunitcolor": "white"
          },
          "hoverlabel": {
           "align": "left"
          },
          "hovermode": "closest",
          "mapbox": {
           "style": "light"
          },
          "paper_bgcolor": "white",
          "plot_bgcolor": "#E5ECF6",
          "polar": {
           "angularaxis": {
            "gridcolor": "white",
            "linecolor": "white",
            "ticks": ""
           },
           "bgcolor": "#E5ECF6",
           "radialaxis": {
            "gridcolor": "white",
            "linecolor": "white",
            "ticks": ""
           }
          },
          "scene": {
           "xaxis": {
            "backgroundcolor": "#E5ECF6",
            "gridcolor": "white",
            "gridwidth": 2,
            "linecolor": "white",
            "showbackground": true,
            "ticks": "",
            "zerolinecolor": "white"
           },
           "yaxis": {
            "backgroundcolor": "#E5ECF6",
            "gridcolor": "white",
            "gridwidth": 2,
            "linecolor": "white",
            "showbackground": true,
            "ticks": "",
            "zerolinecolor": "white"
           },
           "zaxis": {
            "backgroundcolor": "#E5ECF6",
            "gridcolor": "white",
            "gridwidth": 2,
            "linecolor": "white",
            "showbackground": true,
            "ticks": "",
            "zerolinecolor": "white"
           }
          },
          "shapedefaults": {
           "line": {
            "color": "#2a3f5f"
           }
          },
          "ternary": {
           "aaxis": {
            "gridcolor": "white",
            "linecolor": "white",
            "ticks": ""
           },
           "baxis": {
            "gridcolor": "white",
            "linecolor": "white",
            "ticks": ""
           },
           "bgcolor": "#E5ECF6",
           "caxis": {
            "gridcolor": "white",
            "linecolor": "white",
            "ticks": ""
           }
          },
          "title": {
           "x": 0.05
          },
          "xaxis": {
           "automargin": true,
           "gridcolor": "white",
           "linecolor": "white",
           "ticks": "",
           "title": {
            "standoff": 15
           },
           "zerolinecolor": "white",
           "zerolinewidth": 2
          },
          "yaxis": {
           "automargin": true,
           "gridcolor": "white",
           "linecolor": "white",
           "ticks": "",
           "title": {
            "standoff": 15
           },
           "zerolinecolor": "white",
           "zerolinewidth": 2
          }
         }
        },
        "xaxis": {
         "anchor": "y",
         "domain": [
          0,
          1
         ],
         "title": {
          "text": "mvliking"
         }
        },
        "yaxis": {
         "anchor": "x",
         "domain": [
          0,
          1
         ],
         "title": {
          "text": "count"
         }
        }
       }
      },
      "image/png": "[encoded data removed]"
     },
     "metadata": {},
     "output_type": "display_data"
    }
   ],
   "source": [
    "fig = px.histogram(data_frame=df_cluster2, x='mvliking', nbins=10, color_discrete_sequence=['slategray'])\n",
    "fig.show()"
   ]
  },
  {
   "cell_type": "code",
   "execution_count": 51,
   "id": "6b27c7f2",
   "metadata": {},
   "outputs": [
    {
     "data": {
      "application/vnd.plotly.v1+json": {
       "config": {
        "plotlyServerURL": "https://plot.ly"
       },
       "data": [
        {
         "alignmentgroup": "True",
         "hovertemplate": "clusters=%{x}<br>mvliking=%{y}<extra></extra>",
         "legendgroup": "1",
         "marker": {
          "color": "#636efa"
         },
         "name": "1",
         "notched": false,
         "offsetgroup": "1",
         "orientation": "v",
         "showlegend": true,
         "type": "box",
         "x": {
          "bdata": "AQAAAAEAAAABAAAAAQAAAAEAAAABAAAAAQAAAAEAAAABAAAAAQAAAAEAAAABAAAAAQAAAAEAAAABAAAAAQAAAAEAAAABAAAAAQAAAAEAAAABAAAAAQAAAAEAAAABAAAAAQAAAAEAAAABAAAAAQAAAAEAAAABAAAAAQAAAAEAAAABAAAAAQAAAAEAAAABAAAAAQAAAAEAAAABAAAAAQAAAAEAAAABAAAAAQAAAAEAAAABAAAAAQAAAAEAAAABAAAAAQAAAAEAAAABAAAAAQAAAAEAAAABAAAAAQAAAAEAAAABAAAAAQAAAAEAAAABAAAAAQAAAAEAAAABAAAAAQAAAAEAAAABAAAAAQAAAAEAAAABAAAAAQAAAAEAAAABAAAAAQAAAAEAAAABAAAAAQAAAAEAAAABAAAAAQAAAAEAAAABAAAAAQAAAAEAAAABAAAAAQAAAAEAAAABAAAAAQAAAAEAAAABAAAAAQAAAAEAAAABAAAAAQAAAAEAAAABAAAAAQAAAAEAAAABAAAAAQAAAAEAAAABAAAAAQAAAAEAAAABAAAAAQAAAAEAAAABAAAAAQAAAAEAAAABAAAAAQAAAAEAAAABAAAAAQAAAAEAAAABAAAAAQAAAAEAAAABAAAAAQAAAAEAAAABAAAAAQAAAAEAAAABAAAAAQAAAAEAAAABAAAAAQAAAAEAAAABAAAAAQAAAAEAAAABAAAAAQAAAAEAAAABAAAAAQAAAAEAAAABAAAAAQAAAAEAAAABAAAAAQAAAAEAAAABAAAAAQAAAAEAAAABAAAAAQAAAAEAAAABAAAAAQAAAAEAAAABAAAAAQAAAAEAAAABAAAA",
          "dtype": "i4"
         },
         "x0": " ",
         "xaxis": "x",
         "y": {
          "bdata": "BAMEAwEEAQMHAQUBAQkCBAECAQYBBAQBAQQCBgEIAwUBAgMBAgEGBwIBBQIECQECCQQIBgEBCQUHBAQGAQUDBQgJBQcDBAMEAwQCBgEBAgEBBwMBAwEJBAICBwkGBAMEAgcDBQgBBwECAwgFBAMJBQYGBQUIAQYBBAkCBQcBCQQEAwEBAwMHAQYBBgUBCQIFBAEGBAEDBAMGBAEEBgEF",
          "dtype": "i1"
         },
         "y0": " ",
         "yaxis": "y"
        },
        {
         "alignmentgroup": "True",
         "hovertemplate": "clusters=%{x}<br>mvliking=%{y}<extra></extra>",
         "legendgroup": "0",
         "marker": {
          "color": "#EF553B"
         },
         "name": "0",
         "notched": false,
         "offsetgroup": "0",
         "orientation": "v",
         "showlegend": true,
         "type": "box",
         "x": {
          "bdata": "AAAAAAAAAAAAAAAAAAAAAAAAAAAAAAAAAAAAAAAAAAAAAAAAAAAAAAAAAAAAAAAAAAAAAAAAAAAAAAAAAAAAAAAAAAAAAAAAAAAAAAAAAAAAAAAAAAAAAAAAAAAAAAAAAAAAAAAAAAAAAAAAAAAAAAAAAAAAAAAAAAAAAAAAAAAAAAAAAAAAAAAAAAAAAAAAAAAAAAAAAAAAAAAAAAAAAAAAAAAAAAAAAAAAAAAAAAAAAAAAAAAAAAAAAAAAAAAAAAAAAAAAAAAAAAAAAAAAAAAAAAAAAAAAAAAAAAAAAAAAAAAAAAAAAAAAAAAAAAAAAAAAAAAAAAAAAAAAAAAAAAAAAAAAAAAAAAAAAAAAAAAAAAAAAAAAAAAAAAAAAAAAAAAAAAAAAAAAAAAAAAAAAAAAAAAAAAAAAAAAAAAAAAAAAAAAAAAAAAAAAAAAAAAAAAAAAAAAAAAAAAAAAAAAAAAAAAAAAAAAAAAAAAAAAAAAAAAAAAAAAAAAAAAAAAAAAAAAAAAAAAAAAAAAAAAAAAAAAAAAAAAAAAAAAAAAAAAAAAAAAAAAAAAAAAAAAAAAAAAAAAAAAAAAAAAAAAAAAA==",
          "dtype": "i4"
         },
         "x0": " ",
         "xaxis": "x",
         "y": {
          "bdata": "BggGBgkEBwkGBAYGBQcFCAkEBAkGBQUDCAgGBgcBAQkGCQcJBggJCQkHBwkJCQYJCAEFAgIHCQgJCAgGCAMIBwgGBwkJAwkJBwUIBwgJCQgFCAYHAgkJCQUBAwUGCQUJCAUJCAUDBAQJBQUJBQgJCQ==",
          "dtype": "i1"
         },
         "y0": " ",
         "yaxis": "y"
        },
        {
         "alignmentgroup": "True",
         "hovertemplate": "clusters=%{x}<br>mvliking=%{y}<extra></extra>",
         "legendgroup": "2",
         "marker": {
          "color": "#00cc96"
         },
         "name": "2",
         "notched": false,
         "offsetgroup": "2",
         "orientation": "v",
         "showlegend": true,
         "type": "box",
         "x": {
          "bdata": "AgAAAAIAAAACAAAAAgAAAAIAAAACAAAAAgAAAAIAAAACAAAAAgAAAAIAAAACAAAAAgAAAAIAAAACAAAAAgAAAAIAAAACAAAAAgAAAAIAAAACAAAAAgAAAAIAAAACAAAAAgAAAAIAAAACAAAAAgAAAAIAAAACAAAAAgAAAAIAAAACAAAAAgAAAAIAAAACAAAAAgAAAAIAAAACAAAAAgAAAAIAAAACAAAAAgAAAAIAAAACAAAAAgAAAAIAAAACAAAAAgAAAAIAAAACAAAAAgAAAAIAAAACAAAAAgAAAAIAAAACAAAAAgAAAAIAAAACAAAAAgAAAAIAAAACAAAAAgAAAAIAAAACAAAAAgAAAAIAAAACAAAAAgAAAAIAAAACAAAAAgAAAAIAAAACAAAAAgAAAAIAAAACAAAAAgAAAAIAAAACAAAAAgAAAAIAAAACAAAAAgAAAAIAAAACAAAAAgAAAAIAAAACAAAAAgAAAAIAAAACAAAAAgAAAAIAAAACAAAAAgAAAAIAAAACAAAAAgAAAAIAAAACAAAAAgAAAAIAAAACAAAAAgAAAAIAAAACAAAAAgAAAAIAAAACAAAAAgAAAAIAAAACAAAAAgAAAAIAAAACAAAAAgAAAAIAAAACAAAAAgAAAAIAAAACAAAAAgAAAAIAAAACAAAAAgAAAAIAAAACAAAA",
          "dtype": "i4"
         },
         "x0": " ",
         "xaxis": "x",
         "y": {
          "bdata": "AwECBQMHAgEBAwYHCQMBBQkGAwUHAQUEAQQJBAUBBQMIBwYFBAIGAwQBBwkBCQUFBQEHBwQGCQUFBAEDAQMBBgEIAQEJAwcGCAIFBQQBAwYGCAUFBAMBBQUDBQkFAwIEAgQHBQIEAQMECAEICQEBBAEBBAYJAQYDCQQHAQMIBAcJ",
          "dtype": "i1"
         },
         "y0": " ",
         "yaxis": "y"
        }
       ],
       "layout": {
        "boxmode": "overlay",
        "legend": {
         "title": {
          "text": "clusters"
         },
         "tracegroupgap": 0
        },
        "margin": {
         "t": 60
        },
        "template": {
         "data": {
          "bar": [
           {
            "error_x": {
             "color": "#2a3f5f"
            },
            "error_y": {
             "color": "#2a3f5f"
            },
            "marker": {
             "line": {
              "color": "#E5ECF6",
              "width": 0.5
             },
             "pattern": {
              "fillmode": "overlay",
              "size": 10,
              "solidity": 0.2
             }
            },
            "type": "bar"
           }
          ],
          "barpolar": [
           {
            "marker": {
             "line": {
              "color": "#E5ECF6",
              "width": 0.5
             },
             "pattern": {
              "fillmode": "overlay",
              "size": 10,
              "solidity": 0.2
             }
            },
            "type": "barpolar"
           }
          ],
          "carpet": [
           {
            "aaxis": {
             "endlinecolor": "#2a3f5f",
             "gridcolor": "white",
             "linecolor": "white",
             "minorgridcolor": "white",
             "startlinecolor": "#2a3f5f"
            },
            "baxis": {
             "endlinecolor": "#2a3f5f",
             "gridcolor": "white",
             "linecolor": "white",
             "minorgridcolor": "white",
             "startlinecolor": "#2a3f5f"
            },
            "type": "carpet"
           }
          ],
          "choropleth": [
           {
            "colorbar": {
             "outlinewidth": 0,
             "ticks": ""
            },
            "type": "choropleth"
           }
          ],
          "contour": [
           {
            "colorbar": {
             "outlinewidth": 0,
             "ticks": ""
            },
            "colorscale": [
             [
              0,
              "#0d0887"
             ],
             [
              0.1111111111111111,
              "#46039f"
             ],
             [
              0.2222222222222222,
              "#7201a8"
             ],
             [
              0.3333333333333333,
              "#9c179e"
             ],
             [
              0.4444444444444444,
              "#bd3786"
             ],
             [
              0.5555555555555556,
              "#d8576b"
             ],
             [
              0.6666666666666666,
              "#ed7953"
             ],
             [
              0.7777777777777778,
              "#fb9f3a"
             ],
             [
              0.8888888888888888,
              "#fdca26"
             ],
             [
              1,
              "#f0f921"
             ]
            ],
            "type": "contour"
           }
          ],
          "contourcarpet": [
           {
            "colorbar": {
             "outlinewidth": 0,
             "ticks": ""
            },
            "type": "contourcarpet"
           }
          ],
          "heatmap": [
           {
            "colorbar": {
             "outlinewidth": 0,
             "ticks": ""
            },
            "colorscale": [
             [
              0,
              "#0d0887"
             ],
             [
              0.1111111111111111,
              "#46039f"
             ],
             [
              0.2222222222222222,
              "#7201a8"
             ],
             [
              0.3333333333333333,
              "#9c179e"
             ],
             [
              0.4444444444444444,
              "#bd3786"
             ],
             [
              0.5555555555555556,
              "#d8576b"
             ],
             [
              0.6666666666666666,
              "#ed7953"
             ],
             [
              0.7777777777777778,
              "#fb9f3a"
             ],
             [
              0.8888888888888888,
              "#fdca26"
             ],
             [
              1,
              "#f0f921"
             ]
            ],
            "type": "heatmap"
           }
          ],
          "histogram": [
           {
            "marker": {
             "pattern": {
              "fillmode": "overlay",
              "size": 10,
              "solidity": 0.2
             }
            },
            "type": "histogram"
           }
          ],
          "histogram2d": [
           {
            "colorbar": {
             "outlinewidth": 0,
             "ticks": ""
            },
            "colorscale": [
             [
              0,
              "#0d0887"
             ],
             [
              0.1111111111111111,
              "#46039f"
             ],
             [
              0.2222222222222222,
              "#7201a8"
             ],
             [
              0.3333333333333333,
              "#9c179e"
             ],
             [
              0.4444444444444444,
              "#bd3786"
             ],
             [
              0.5555555555555556,
              "#d8576b"
             ],
             [
              0.6666666666666666,
              "#ed7953"
             ],
             [
              0.7777777777777778,
              "#fb9f3a"
             ],
             [
              0.8888888888888888,
              "#fdca26"
             ],
             [
              1,
              "#f0f921"
             ]
            ],
            "type": "histogram2d"
           }
          ],
          "histogram2dcontour": [
           {
            "colorbar": {
             "outlinewidth": 0,
             "ticks": ""
            },
            "colorscale": [
             [
              0,
              "#0d0887"
             ],
             [
              0.1111111111111111,
              "#46039f"
             ],
             [
              0.2222222222222222,
              "#7201a8"
             ],
             [
              0.3333333333333333,
              "#9c179e"
             ],
             [
              0.4444444444444444,
              "#bd3786"
             ],
             [
              0.5555555555555556,
              "#d8576b"
             ],
             [
              0.6666666666666666,
              "#ed7953"
             ],
             [
              0.7777777777777778,
              "#fb9f3a"
             ],
             [
              0.8888888888888888,
              "#fdca26"
             ],
             [
              1,
              "#f0f921"
             ]
            ],
            "type": "histogram2dcontour"
           }
          ],
          "mesh3d": [
           {
            "colorbar": {
             "outlinewidth": 0,
             "ticks": ""
            },
            "type": "mesh3d"
           }
          ],
          "parcoords": [
           {
            "line": {
             "colorbar": {
              "outlinewidth": 0,
              "ticks": ""
             }
            },
            "type": "parcoords"
           }
          ],
          "pie": [
           {
            "automargin": true,
            "type": "pie"
           }
          ],
          "scatter": [
           {
            "fillpattern": {
             "fillmode": "overlay",
             "size": 10,
             "solidity": 0.2
            },
            "type": "scatter"
           }
          ],
          "scatter3d": [
           {
            "line": {
             "colorbar": {
              "outlinewidth": 0,
              "ticks": ""
             }
            },
            "marker": {
             "colorbar": {
              "outlinewidth": 0,
              "ticks": ""
             }
            },
            "type": "scatter3d"
           }
          ],
          "scattercarpet": [
           {
            "marker": {
             "colorbar": {
              "outlinewidth": 0,
              "ticks": ""
             }
            },
            "type": "scattercarpet"
           }
          ],
          "scattergeo": [
           {
            "marker": {
             "colorbar": {
              "outlinewidth": 0,
              "ticks": ""
             }
            },
            "type": "scattergeo"
           }
          ],
          "scattergl": [
           {
            "marker": {
             "colorbar": {
              "outlinewidth": 0,
              "ticks": ""
             }
            },
            "type": "scattergl"
           }
          ],
          "scattermap": [
           {
            "marker": {
             "colorbar": {
              "outlinewidth": 0,
              "ticks": ""
             }
            },
            "type": "scattermap"
           }
          ],
          "scattermapbox": [
           {
            "marker": {
             "colorbar": {
              "outlinewidth": 0,
              "ticks": ""
             }
            },
            "type": "scattermapbox"
           }
          ],
          "scatterpolar": [
           {
            "marker": {
             "colorbar": {
              "outlinewidth": 0,
              "ticks": ""
             }
            },
            "type": "scatterpolar"
           }
          ],
          "scatterpolargl": [
           {
            "marker": {
             "colorbar": {
              "outlinewidth": 0,
              "ticks": ""
             }
            },
            "type": "scatterpolargl"
           }
          ],
          "scatterternary": [
           {
            "marker": {
             "colorbar": {
              "outlinewidth": 0,
              "ticks": ""
             }
            },
            "type": "scatterternary"
           }
          ],
          "surface": [
           {
            "colorbar": {
             "outlinewidth": 0,
             "ticks": ""
            },
            "colorscale": [
             [
              0,
              "#0d0887"
             ],
             [
              0.1111111111111111,
              "#46039f"
             ],
             [
              0.2222222222222222,
              "#7201a8"
             ],
             [
              0.3333333333333333,
              "#9c179e"
             ],
             [
              0.4444444444444444,
              "#bd3786"
             ],
             [
              0.5555555555555556,
              "#d8576b"
             ],
             [
              0.6666666666666666,
              "#ed7953"
             ],
             [
              0.7777777777777778,
              "#fb9f3a"
             ],
             [
              0.8888888888888888,
              "#fdca26"
             ],
             [
              1,
              "#f0f921"
             ]
            ],
            "type": "surface"
           }
          ],
          "table": [
           {
            "cells": {
             "fill": {
              "color": "#EBF0F8"
             },
             "line": {
              "color": "white"
             }
            },
            "header": {
             "fill": {
              "color": "#C8D4E3"
             },
             "line": {
              "color": "white"
             }
            },
            "type": "table"
           }
          ]
         },
         "layout": {
          "annotationdefaults": {
           "arrowcolor": "#2a3f5f",
           "arrowhead": 0,
           "arrowwidth": 1
          },
          "autotypenumbers": "strict",
          "coloraxis": {
           "colorbar": {
            "outlinewidth": 0,
            "ticks": ""
           }
          },
          "colorscale": {
           "diverging": [
            [
             0,
             "#8e0152"
            ],
            [
             0.1,
             "#c51b7d"
            ],
            [
             0.2,
             "#de77ae"
            ],
            [
             0.3,
             "#f1b6da"
            ],
            [
             0.4,
             "#fde0ef"
            ],
            [
             0.5,
             "#f7f7f7"
            ],
            [
             0.6,
             "#e6f5d0"
            ],
            [
             0.7,
             "#b8e186"
            ],
            [
             0.8,
             "#7fbc41"
            ],
            [
             0.9,
             "#4d9221"
            ],
            [
             1,
             "#276419"
            ]
           ],
           "sequential": [
            [
             0,
             "#0d0887"
            ],
            [
             0.1111111111111111,
             "#46039f"
            ],
            [
             0.2222222222222222,
             "#7201a8"
            ],
            [
             0.3333333333333333,
             "#9c179e"
            ],
            [
             0.4444444444444444,
             "#bd3786"
            ],
            [
             0.5555555555555556,
             "#d8576b"
            ],
            [
             0.6666666666666666,
             "#ed7953"
            ],
            [
             0.7777777777777778,
             "#fb9f3a"
            ],
            [
             0.8888888888888888,
             "#fdca26"
            ],
            [
             1,
             "#f0f921"
            ]
           ],
           "sequentialminus": [
            [
             0,
             "#0d0887"
            ],
            [
             0.1111111111111111,
             "#46039f"
            ],
            [
             0.2222222222222222,
             "#7201a8"
            ],
            [
             0.3333333333333333,
             "#9c179e"
            ],
            [
             0.4444444444444444,
             "#bd3786"
            ],
            [
             0.5555555555555556,
             "#d8576b"
            ],
            [
             0.6666666666666666,
             "#ed7953"
            ],
            [
             0.7777777777777778,
             "#fb9f3a"
            ],
            [
             0.8888888888888888,
             "#fdca26"
            ],
            [
             1,
             "#f0f921"
            ]
           ]
          },
          "colorway": [
           "#636efa",
           "#EF553B",
           "#00cc96",
           "#ab63fa",
           "#FFA15A",
           "#19d3f3",
           "#FF6692",
           "#B6E880",
           "#FF97FF",
           "#FECB52"
          ],
          "font": {
           "color": "#2a3f5f"
          },
          "geo": {
           "bgcolor": "white",
           "lakecolor": "white",
           "landcolor": "#E5ECF6",
           "showlakes": true,
           "showland": true,
           "subunitcolor": "white"
          },
          "hoverlabel": {
           "align": "left"
          },
          "hovermode": "closest",
          "mapbox": {
           "style": "light"
          },
          "paper_bgcolor": "white",
          "plot_bgcolor": "#E5ECF6",
          "polar": {
           "angularaxis": {
            "gridcolor": "white",
            "linecolor": "white",
            "ticks": ""
           },
           "bgcolor": "#E5ECF6",
           "radialaxis": {
            "gridcolor": "white",
            "linecolor": "white",
            "ticks": ""
           }
          },
          "scene": {
           "xaxis": {
            "backgroundcolor": "#E5ECF6",
            "gridcolor": "white",
            "gridwidth": 2,
            "linecolor": "white",
            "showbackground": true,
            "ticks": "",
            "zerolinecolor": "white"
           },
           "yaxis": {
            "backgroundcolor": "#E5ECF6",
            "gridcolor": "white",
            "gridwidth": 2,
            "linecolor": "white",
            "showbackground": true,
            "ticks": "",
            "zerolinecolor": "white"
           },
           "zaxis": {
            "backgroundcolor": "#E5ECF6",
            "gridcolor": "white",
            "gridwidth": 2,
            "linecolor": "white",
            "showbackground": true,
            "ticks": "",
            "zerolinecolor": "white"
           }
          },
          "shapedefaults": {
           "line": {
            "color": "#2a3f5f"
           }
          },
          "ternary": {
           "aaxis": {
            "gridcolor": "white",
            "linecolor": "white",
            "ticks": ""
           },
           "baxis": {
            "gridcolor": "white",
            "linecolor": "white",
            "ticks": ""
           },
           "bgcolor": "#E5ECF6",
           "caxis": {
            "gridcolor": "white",
            "linecolor": "white",
            "ticks": ""
           }
          },
          "title": {
           "x": 0.05
          },
          "xaxis": {
           "automargin": true,
           "gridcolor": "white",
           "linecolor": "white",
           "ticks": "",
           "title": {
            "standoff": 15
           },
           "zerolinecolor": "white",
           "zerolinewidth": 2
          },
          "yaxis": {
           "automargin": true,
           "gridcolor": "white",
           "linecolor": "white",
           "ticks": "",
           "title": {
            "standoff": 15
           },
           "zerolinecolor": "white",
           "zerolinewidth": 2
          }
         }
        },
        "xaxis": {
         "anchor": "y",
         "categoryarray": [
          1,
          0,
          2
         ],
         "categoryorder": "array",
         "domain": [
          0,
          1
         ],
         "title": {
          "text": "clusters"
         }
        },
        "yaxis": {
         "anchor": "x",
         "domain": [
          0,
          1
         ],
         "title": {
          "text": "mvliking"
         }
        }
       }
      },
      "image/png": "[encoded data removed]"
     },
     "metadata": {},
     "output_type": "display_data"
    }
   ],
   "source": [
    "fig = px.box(data_frame=df_completo, x='clusters', y='mvliking', color='clusters')\n",
    "fig.show()"
   ]
  },
  {
   "cell_type": "code",
   "execution_count": 52,
   "id": "6518109c",
   "metadata": {},
   "outputs": [
    {
     "data": {
      "text/plain": [
       "Index(['age', 'income', 'miles', 'numkids', 'female', 'educ', 'recycle',\n",
       "       'mvliking', 'avarento', 'apertados', 'familia', 'desempenho',\n",
       "       'carro_caro', 'clusters'],\n",
       "      dtype='object')"
      ]
     },
     "execution_count": 52,
     "metadata": {},
     "output_type": "execute_result"
    }
   ],
   "source": [
    "# Análises demográficas\n",
    "df_completo.columns"
   ]
  },
  {
   "cell_type": "code",
   "execution_count": 53,
   "id": "60894e8b",
   "metadata": {},
   "outputs": [
    {
     "data": {
      "text/html": [
       "<div>\n",
       "<style scoped>\n",
       "    .dataframe tbody tr th:only-of-type {\n",
       "        vertical-align: middle;\n",
       "    }\n",
       "\n",
       "    .dataframe tbody tr th {\n",
       "        vertical-align: top;\n",
       "    }\n",
       "\n",
       "    .dataframe thead th {\n",
       "        text-align: right;\n",
       "    }\n",
       "</style>\n",
       "<table border=\"1\" class=\"dataframe\">\n",
       "  <thead>\n",
       "    <tr style=\"text-align: right;\">\n",
       "      <th></th>\n",
       "      <th>age</th>\n",
       "      <th>income</th>\n",
       "      <th>miles</th>\n",
       "      <th>numkids</th>\n",
       "      <th>female</th>\n",
       "      <th>educ</th>\n",
       "      <th>recycle</th>\n",
       "      <th>mvliking</th>\n",
       "    </tr>\n",
       "    <tr>\n",
       "      <th>subjnumb</th>\n",
       "      <th></th>\n",
       "      <th></th>\n",
       "      <th></th>\n",
       "      <th></th>\n",
       "      <th></th>\n",
       "      <th></th>\n",
       "      <th></th>\n",
       "      <th></th>\n",
       "    </tr>\n",
       "  </thead>\n",
       "  <tbody>\n",
       "    <tr>\n",
       "      <th>1</th>\n",
       "      <td>34</td>\n",
       "      <td>59</td>\n",
       "      <td>14</td>\n",
       "      <td>1</td>\n",
       "      <td>0</td>\n",
       "      <td>1</td>\n",
       "      <td>3</td>\n",
       "      <td>4</td>\n",
       "    </tr>\n",
       "    <tr>\n",
       "      <th>2</th>\n",
       "      <td>36</td>\n",
       "      <td>79</td>\n",
       "      <td>16</td>\n",
       "      <td>1</td>\n",
       "      <td>0</td>\n",
       "      <td>3</td>\n",
       "      <td>4</td>\n",
       "      <td>6</td>\n",
       "    </tr>\n",
       "    <tr>\n",
       "      <th>3</th>\n",
       "      <td>51</td>\n",
       "      <td>72</td>\n",
       "      <td>22</td>\n",
       "      <td>2</td>\n",
       "      <td>1</td>\n",
       "      <td>3</td>\n",
       "      <td>3</td>\n",
       "      <td>3</td>\n",
       "    </tr>\n",
       "    <tr>\n",
       "      <th>4</th>\n",
       "      <td>32</td>\n",
       "      <td>42</td>\n",
       "      <td>12</td>\n",
       "      <td>0</td>\n",
       "      <td>0</td>\n",
       "      <td>3</td>\n",
       "      <td>2</td>\n",
       "      <td>3</td>\n",
       "    </tr>\n",
       "    <tr>\n",
       "      <th>5</th>\n",
       "      <td>40</td>\n",
       "      <td>75</td>\n",
       "      <td>17</td>\n",
       "      <td>1</td>\n",
       "      <td>1</td>\n",
       "      <td>3</td>\n",
       "      <td>4</td>\n",
       "      <td>1</td>\n",
       "    </tr>\n",
       "  </tbody>\n",
       "</table>\n",
       "</div>"
      ],
      "text/plain": [
       "          age  income  miles  numkids  female  educ  recycle  mvliking\n",
       "subjnumb                                                              \n",
       "1          34      59     14        1       0     1        3         4\n",
       "2          36      79     16        1       0     3        4         6\n",
       "3          51      72     22        2       1     3        3         3\n",
       "4          32      42     12        0       0     3        2         3\n",
       "5          40      75     17        1       1     3        4         1"
      ]
     },
     "execution_count": 53,
     "metadata": {},
     "output_type": "execute_result"
    }
   ],
   "source": [
    "df_demografico = df_completo.iloc[:, :8]\n",
    "df_demografico.head()"
   ]
  },
  {
   "cell_type": "code",
   "execution_count": 54,
   "id": "e697a0e0",
   "metadata": {},
   "outputs": [
    {
     "data": {
      "text/plain": [
       "<Axes: >"
      ]
     },
     "execution_count": 54,
     "metadata": {},
     "output_type": "execute_result"
    },
    {
     "data": {
      "image/png": "[encoded data removed]",
      "text/plain": [
       "<Figure size 1600x600 with 2 Axes>"
      ]
     },
     "metadata": {},
     "output_type": "display_data"
    }
   ],
   "source": [
    "correlacoes_demograficas = df_demografico.corr()\n",
    "\n",
    "plt.figure(figsize=(16, 6))\n",
    "sns.heatmap(data=correlacoes_demograficas, annot=True)"
   ]
  },
  {
   "cell_type": "code",
   "execution_count": 55,
   "id": "50815f7d",
   "metadata": {},
   "outputs": [
    {
     "data": {
      "text/plain": [
       "<Axes: xlabel='age'>"
      ]
     },
     "execution_count": 55,
     "metadata": {},
     "output_type": "execute_result"
    },
    {
     "data": {
      "image/png": "[encoded data removed]",
      "text/plain": [
       "<Figure size 640x480 with 1 Axes>"
      ]
     },
     "metadata": {},
     "output_type": "display_data"
    }
   ],
   "source": [
    "sns.boxplot(data=df_demografico, x='age')"
   ]
  },
  {
   "cell_type": "code",
   "execution_count": 56,
   "id": "d90ee7ef",
   "metadata": {},
   "outputs": [
    {
     "data": {
      "application/vnd.plotly.v1+json": {
       "config": {
        "plotlyServerURL": "https://plot.ly"
       },
       "data": [
        {
         "alignmentgroup": "True",
         "hovertemplate": "clusters=%{x}<br>mvliking=%{y}<extra></extra>",
         "legendgroup": "2",
         "marker": {
          "color": "#636efa"
         },
         "name": "2",
         "notched": false,
         "offsetgroup": "2",
         "orientation": "v",
         "showlegend": true,
         "type": "box",
         "x": {
          "bdata": "AgAAAAIAAAACAAAAAgAAAAIAAAACAAAAAgAAAAIAAAACAAAAAgAAAAIAAAACAAAAAgAAAAIAAAACAAAAAgAAAAIAAAACAAAAAgAAAAIAAAACAAAAAgAAAAIAAAACAAAAAgAAAAIAAAACAAAAAgAAAAIAAAACAAAAAgAAAAIAAAACAAAAAgAAAAIAAAACAAAAAgAAAAIAAAACAAAAAgAAAAIAAAACAAAAAgAAAAIAAAACAAAAAgAAAAIAAAACAAAA",
          "dtype": "i4"
         },
         "x0": " ",
         "xaxis": "x",
         "y": {
          "bdata": "AgMCBQMFAQkECAcGAgQJCQUHBwQGCQUBCQcGCAUFAQgJBQQCBAUDCAkEAQEGBAgH",
          "dtype": "i1"
         },
         "y0": " ",
         "yaxis": "y"
        },
        {
         "alignmentgroup": "True",
         "hovertemplate": "clusters=%{x}<br>mvliking=%{y}<extra></extra>",
         "legendgroup": "0",
         "marker": {
          "color": "#EF553B"
         },
         "name": "0",
         "notched": false,
         "offsetgroup": "0",
         "orientation": "v",
         "showlegend": true,
         "type": "box",
         "x": {
          "bdata": "AAAAAAAAAAAAAAAAAAAAAAAAAAAAAAAAAAAAAAAAAAAAAAAAAAAAAAAAAAAAAAAAAAAAAAAAAAAAAAAAAAAAAAAAAAAAAAAAAAAAAAAAAAAAAAAAAAAAAAAAAAAAAAAAAAAAAAAAAAAAAAAAAAAAAAAAAAAAAAAAAAAAAAAAAAAAAAAA",
          "dtype": "i4"
         },
         "x0": " ",
         "xaxis": "x",
         "y": {
          "bdata": "CQkFBgcJBwkICQkJCAIJCAgIBgkJCAkHCQUFCQUECQkJ",
          "dtype": "i1"
         },
         "y0": " ",
         "yaxis": "y"
        },
        {
         "alignmentgroup": "True",
         "hovertemplate": "clusters=%{x}<br>mvliking=%{y}<extra></extra>",
         "legendgroup": "1",
         "marker": {
          "color": "#00cc96"
         },
         "name": "1",
         "notched": false,
         "offsetgroup": "1",
         "orientation": "v",
         "showlegend": true,
         "type": "box",
         "x": {
          "bdata": "AQAAAAEAAAABAAAAAQAAAAEAAAABAAAAAQAAAAEAAAA=",
          "dtype": "i4"
         },
         "x0": " ",
         "xaxis": "x",
         "y": {
          "bdata": "BAYICAkDBwk=",
          "dtype": "i1"
         },
         "y0": " ",
         "yaxis": "y"
        }
       ],
       "layout": {
        "boxmode": "overlay",
        "legend": {
         "title": {
          "text": "clusters"
         },
         "tracegroupgap": 0
        },
        "margin": {
         "t": 60
        },
        "template": {
         "data": {
          "bar": [
           {
            "error_x": {
             "color": "#2a3f5f"
            },
            "error_y": {
             "color": "#2a3f5f"
            },
            "marker": {
             "line": {
              "color": "#E5ECF6",
              "width": 0.5
             },
             "pattern": {
              "fillmode": "overlay",
              "size": 10,
              "solidity": 0.2
             }
            },
            "type": "bar"
           }
          ],
          "barpolar": [
           {
            "marker": {
             "line": {
              "color": "#E5ECF6",
              "width": 0.5
             },
             "pattern": {
              "fillmode": "overlay",
              "size": 10,
              "solidity": 0.2
             }
            },
            "type": "barpolar"
           }
          ],
          "carpet": [
           {
            "aaxis": {
             "endlinecolor": "#2a3f5f",
             "gridcolor": "white",
             "linecolor": "white",
             "minorgridcolor": "white",
             "startlinecolor": "#2a3f5f"
            },
            "baxis": {
             "endlinecolor": "#2a3f5f",
             "gridcolor": "white",
             "linecolor": "white",
             "minorgridcolor": "white",
             "startlinecolor": "#2a3f5f"
            },
            "type": "carpet"
           }
          ],
          "choropleth": [
           {
            "colorbar": {
             "outlinewidth": 0,
             "ticks": ""
            },
            "type": "choropleth"
           }
          ],
          "contour": [
           {
            "colorbar": {
             "outlinewidth": 0,
             "ticks": ""
            },
            "colorscale": [
             [
              0,
              "#0d0887"
             ],
             [
              0.1111111111111111,
              "#46039f"
             ],
             [
              0.2222222222222222,
              "#7201a8"
             ],
             [
              0.3333333333333333,
              "#9c179e"
             ],
             [
              0.4444444444444444,
              "#bd3786"
             ],
             [
              0.5555555555555556,
              "#d8576b"
             ],
             [
              0.6666666666666666,
              "#ed7953"
             ],
             [
              0.7777777777777778,
              "#fb9f3a"
             ],
             [
              0.8888888888888888,
              "#fdca26"
             ],
             [
              1,
              "#f0f921"
             ]
            ],
            "type": "contour"
           }
          ],
          "contourcarpet": [
           {
            "colorbar": {
             "outlinewidth": 0,
             "ticks": ""
            },
            "type": "contourcarpet"
           }
          ],
          "heatmap": [
           {
            "colorbar": {
             "outlinewidth": 0,
             "ticks": ""
            },
            "colorscale": [
             [
              0,
              "#0d0887"
             ],
             [
              0.1111111111111111,
              "#46039f"
             ],
             [
              0.2222222222222222,
              "#7201a8"
             ],
             [
              0.3333333333333333,
              "#9c179e"
             ],
             [
              0.4444444444444444,
              "#bd3786"
             ],
             [
              0.5555555555555556,
              "#d8576b"
             ],
             [
              0.6666666666666666,
              "#ed7953"
             ],
             [
              0.7777777777777778,
              "#fb9f3a"
             ],
             [
              0.8888888888888888,
              "#fdca26"
             ],
             [
              1,
              "#f0f921"
             ]
            ],
            "type": "heatmap"
           }
          ],
          "histogram": [
           {
            "marker": {
             "pattern": {
              "fillmode": "overlay",
              "size": 10,
              "solidity": 0.2
             }
            },
            "type": "histogram"
           }
          ],
          "histogram2d": [
           {
            "colorbar": {
             "outlinewidth": 0,
             "ticks": ""
            },
            "colorscale": [
             [
              0,
              "#0d0887"
             ],
             [
              0.1111111111111111,
              "#46039f"
             ],
             [
              0.2222222222222222,
              "#7201a8"
             ],
             [
              0.3333333333333333,
              "#9c179e"
             ],
             [
              0.4444444444444444,
              "#bd3786"
             ],
             [
              0.5555555555555556,
              "#d8576b"
             ],
             [
              0.6666666666666666,
              "#ed7953"
             ],
             [
              0.7777777777777778,
              "#fb9f3a"
             ],
             [
              0.8888888888888888,
              "#fdca26"
             ],
             [
              1,
              "#f0f921"
             ]
            ],
            "type": "histogram2d"
           }
          ],
          "histogram2dcontour": [
           {
            "colorbar": {
             "outlinewidth": 0,
             "ticks": ""
            },
            "colorscale": [
             [
              0,
              "#0d0887"
             ],
             [
              0.1111111111111111,
              "#46039f"
             ],
             [
              0.2222222222222222,
              "#7201a8"
             ],
             [
              0.3333333333333333,
              "#9c179e"
             ],
             [
              0.4444444444444444,
              "#bd3786"
             ],
             [
              0.5555555555555556,
              "#d8576b"
             ],
             [
              0.6666666666666666,
              "#ed7953"
             ],
             [
              0.7777777777777778,
              "#fb9f3a"
             ],
             [
              0.8888888888888888,
              "#fdca26"
             ],
             [
              1,
              "#f0f921"
             ]
            ],
            "type": "histogram2dcontour"
           }
          ],
          "mesh3d": [
           {
            "colorbar": {
             "outlinewidth": 0,
             "ticks": ""
            },
            "type": "mesh3d"
           }
          ],
          "parcoords": [
           {
            "line": {
             "colorbar": {
              "outlinewidth": 0,
              "ticks": ""
             }
            },
            "type": "parcoords"
           }
          ],
          "pie": [
           {
            "automargin": true,
            "type": "pie"
           }
          ],
          "scatter": [
           {
            "fillpattern": {
             "fillmode": "overlay",
             "size": 10,
             "solidity": 0.2
            },
            "type": "scatter"
           }
          ],
          "scatter3d": [
           {
            "line": {
             "colorbar": {
              "outlinewidth": 0,
              "ticks": ""
             }
            },
            "marker": {
             "colorbar": {
              "outlinewidth": 0,
              "ticks": ""
             }
            },
            "type": "scatter3d"
           }
          ],
          "scattercarpet": [
           {
            "marker": {
             "colorbar": {
              "outlinewidth": 0,
              "ticks": ""
             }
            },
            "type": "scattercarpet"
           }
          ],
          "scattergeo": [
           {
            "marker": {
             "colorbar": {
              "outlinewidth": 0,
              "ticks": ""
             }
            },
            "type": "scattergeo"
           }
          ],
          "scattergl": [
           {
            "marker": {
             "colorbar": {
              "outlinewidth": 0,
              "ticks": ""
             }
            },
            "type": "scattergl"
           }
          ],
          "scattermap": [
           {
            "marker": {
             "colorbar": {
              "outlinewidth": 0,
              "ticks": ""
             }
            },
            "type": "scattermap"
           }
          ],
          "scattermapbox": [
           {
            "marker": {
             "colorbar": {
              "outlinewidth": 0,
              "ticks": ""
             }
            },
            "type": "scattermapbox"
           }
          ],
          "scatterpolar": [
           {
            "marker": {
             "colorbar": {
              "outlinewidth": 0,
              "ticks": ""
             }
            },
            "type": "scatterpolar"
           }
          ],
          "scatterpolargl": [
           {
            "marker": {
             "colorbar": {
              "outlinewidth": 0,
              "ticks": ""
             }
            },
            "type": "scatterpolargl"
           }
          ],
          "scatterternary": [
           {
            "marker": {
             "colorbar": {
              "outlinewidth": 0,
              "ticks": ""
             }
            },
            "type": "scatterternary"
           }
          ],
          "surface": [
           {
            "colorbar": {
             "outlinewidth": 0,
             "ticks": ""
            },
            "colorscale": [
             [
              0,
              "#0d0887"
             ],
             [
              0.1111111111111111,
              "#46039f"
             ],
             [
              0.2222222222222222,
              "#7201a8"
             ],
             [
              0.3333333333333333,
              "#9c179e"
             ],
             [
              0.4444444444444444,
              "#bd3786"
             ],
             [
              0.5555555555555556,
              "#d8576b"
             ],
             [
              0.6666666666666666,
              "#ed7953"
             ],
             [
              0.7777777777777778,
              "#fb9f3a"
             ],
             [
              0.8888888888888888,
              "#fdca26"
             ],
             [
              1,
              "#f0f921"
             ]
            ],
            "type": "surface"
           }
          ],
          "table": [
           {
            "cells": {
             "fill": {
              "color": "#EBF0F8"
             },
             "line": {
              "color": "white"
             }
            },
            "header": {
             "fill": {
              "color": "#C8D4E3"
             },
             "line": {
              "color": "white"
             }
            },
            "type": "table"
           }
          ]
         },
         "layout": {
          "annotationdefaults": {
           "arrowcolor": "#2a3f5f",
           "arrowhead": 0,
           "arrowwidth": 1
          },
          "autotypenumbers": "strict",
          "coloraxis": {
           "colorbar": {
            "outlinewidth": 0,
            "ticks": ""
           }
          },
          "colorscale": {
           "diverging": [
            [
             0,
             "#8e0152"
            ],
            [
             0.1,
             "#c51b7d"
            ],
            [
             0.2,
             "#de77ae"
            ],
            [
             0.3,
             "#f1b6da"
            ],
            [
             0.4,
             "#fde0ef"
            ],
            [
             0.5,
             "#f7f7f7"
            ],
            [
             0.6,
             "#e6f5d0"
            ],
            [
             0.7,
             "#b8e186"
            ],
            [
             0.8,
             "#7fbc41"
            ],
            [
             0.9,
             "#4d9221"
            ],
            [
             1,
             "#276419"
            ]
           ],
           "sequential": [
            [
             0,
             "#0d0887"
            ],
            [
             0.1111111111111111,
             "#46039f"
            ],
            [
             0.2222222222222222,
             "#7201a8"
            ],
            [
             0.3333333333333333,
             "#9c179e"
            ],
            [
             0.4444444444444444,
             "#bd3786"
            ],
            [
             0.5555555555555556,
             "#d8576b"
            ],
            [
             0.6666666666666666,
             "#ed7953"
            ],
            [
             0.7777777777777778,
             "#fb9f3a"
            ],
            [
             0.8888888888888888,
             "#fdca26"
            ],
            [
             1,
             "#f0f921"
            ]
           ],
           "sequentialminus": [
            [
             0,
             "#0d0887"
            ],
            [
             0.1111111111111111,
             "#46039f"
            ],
            [
             0.2222222222222222,
             "#7201a8"
            ],
            [
             0.3333333333333333,
             "#9c179e"
            ],
            [
             0.4444444444444444,
             "#bd3786"
            ],
            [
             0.5555555555555556,
             "#d8576b"
            ],
            [
             0.6666666666666666,
             "#ed7953"
            ],
            [
             0.7777777777777778,
             "#fb9f3a"
            ],
            [
             0.8888888888888888,
             "#fdca26"
            ],
            [
             1,
             "#f0f921"
            ]
           ]
          },
          "colorway": [
           "#636efa",
           "#EF553B",
           "#00cc96",
           "#ab63fa",
           "#FFA15A",
           "#19d3f3",
           "#FF6692",
           "#B6E880",
           "#FF97FF",
           "#FECB52"
          ],
          "font": {
           "color": "#2a3f5f"
          },
          "geo": {
           "bgcolor": "white",
           "lakecolor": "white",
           "landcolor": "#E5ECF6",
           "showlakes": true,
           "showland": true,
           "subunitcolor": "white"
          },
          "hoverlabel": {
           "align": "left"
          },
          "hovermode": "closest",
          "mapbox": {
           "style": "light"
          },
          "paper_bgcolor": "white",
          "plot_bgcolor": "#E5ECF6",
          "polar": {
           "angularaxis": {
            "gridcolor": "white",
            "linecolor": "white",
            "ticks": ""
           },
           "bgcolor": "#E5ECF6",
           "radialaxis": {
            "gridcolor": "white",
            "linecolor": "white",
            "ticks": ""
           }
          },
          "scene": {
           "xaxis": {
            "backgroundcolor": "#E5ECF6",
            "gridcolor": "white",
            "gridwidth": 2,
            "linecolor": "white",
            "showbackground": true,
            "ticks": "",
            "zerolinecolor": "white"
           },
           "yaxis": {
            "backgroundcolor": "#E5ECF6",
            "gridcolor": "white",
            "gridwidth": 2,
            "linecolor": "white",
            "showbackground": true,
            "ticks": "",
            "zerolinecolor": "white"
           },
           "zaxis": {
            "backgroundcolor": "#E5ECF6",
            "gridcolor": "white",
            "gridwidth": 2,
            "linecolor": "white",
            "showbackground": true,
            "ticks": "",
            "zerolinecolor": "white"
           }
          },
          "shapedefaults": {
           "line": {
            "color": "#2a3f5f"
           }
          },
          "ternary": {
           "aaxis": {
            "gridcolor": "white",
            "linecolor": "white",
            "ticks": ""
           },
           "baxis": {
            "gridcolor": "white",
            "linecolor": "white",
            "ticks": ""
           },
           "bgcolor": "#E5ECF6",
           "caxis": {
            "gridcolor": "white",
            "linecolor": "white",
            "ticks": ""
           }
          },
          "title": {
           "x": 0.05
          },
          "xaxis": {
           "automargin": true,
           "gridcolor": "white",
           "linecolor": "white",
           "ticks": "",
           "title": {
            "standoff": 15
           },
           "zerolinecolor": "white",
           "zerolinewidth": 2
          },
          "yaxis": {
           "automargin": true,
           "gridcolor": "white",
           "linecolor": "white",
           "ticks": "",
           "title": {
            "standoff": 15
           },
           "zerolinecolor": "white",
           "zerolinewidth": 2
          }
         }
        },
        "xaxis": {
         "anchor": "y",
         "categoryarray": [
          2,
          0,
          1
         ],
         "categoryorder": "array",
         "domain": [
          0,
          1
         ],
         "title": {
          "text": "clusters"
         }
        },
        "yaxis": {
         "anchor": "x",
         "domain": [
          0,
          1
         ],
         "title": {
          "text": "mvliking"
         }
        }
       }
      },
      "image/png": "[encoded data removed]"
     },
     "metadata": {},
     "output_type": "display_data"
    }
   ],
   "source": [
    "df1 = df_completo.loc[(df_completo['age'] >=40) & \n",
    "    (df_completo['female'] == False), :]\n",
    "\n",
    "fig = px.box(data_frame=df1, \n",
    "             x='clusters', \n",
    "             y='mvliking', color='clusters')\n",
    "fig.show()"
   ]
  },
  {
   "cell_type": "code",
   "execution_count": 57,
   "id": "52237fc4",
   "metadata": {},
   "outputs": [
    {
     "data": {
      "text/plain": [
       "8.25"
      ]
     },
     "execution_count": 57,
     "metadata": {},
     "output_type": "execute_result"
    }
   ],
   "source": [
    "100 * len(df_completo.loc[(df_completo['age'] >=40) & (df_completo['female'] == False)& (df_completo['clusters'] == 0), :]) / len(df_completo)"
   ]
  },
  {
   "cell_type": "code",
   "execution_count": 58,
   "id": "cff878fe",
   "metadata": {},
   "outputs": [
    {
     "data": {
      "text/plain": [
       "33"
      ]
     },
     "execution_count": 58,
     "metadata": {},
     "output_type": "execute_result"
    }
   ],
   "source": [
    "len(df_completo.loc[(df_completo['age'] >=40) & (df_completo['female'] == False)& (df_completo['clusters'] == 0), :])"
   ]
  },
  {
   "cell_type": "code",
   "execution_count": 59,
   "id": "2eff75b4",
   "metadata": {},
   "outputs": [
    {
     "data": {
      "text/html": [
       "<div>\n",
       "<style scoped>\n",
       "    .dataframe tbody tr th:only-of-type {\n",
       "        vertical-align: middle;\n",
       "    }\n",
       "\n",
       "    .dataframe tbody tr th {\n",
       "        vertical-align: top;\n",
       "    }\n",
       "\n",
       "    .dataframe thead th {\n",
       "        text-align: right;\n",
       "    }\n",
       "</style>\n",
       "<table border=\"1\" class=\"dataframe\">\n",
       "  <thead>\n",
       "    <tr style=\"text-align: right;\">\n",
       "      <th></th>\n",
       "      <th>avarento</th>\n",
       "      <th>apertados</th>\n",
       "      <th>familia</th>\n",
       "      <th>desempenho</th>\n",
       "      <th>carro_caro</th>\n",
       "    </tr>\n",
       "  </thead>\n",
       "  <tbody>\n",
       "    <tr>\n",
       "      <th>0</th>\n",
       "      <td>-3.49</td>\n",
       "      <td>3.98</td>\n",
       "      <td>0.04</td>\n",
       "      <td>0.07</td>\n",
       "      <td>0.11</td>\n",
       "    </tr>\n",
       "    <tr>\n",
       "      <th>1</th>\n",
       "      <td>4.82</td>\n",
       "      <td>0.17</td>\n",
       "      <td>0.26</td>\n",
       "      <td>0.08</td>\n",
       "      <td>0.04</td>\n",
       "    </tr>\n",
       "    <tr>\n",
       "      <th>2</th>\n",
       "      <td>-2.91</td>\n",
       "      <td>-3.67</td>\n",
       "      <td>-0.36</td>\n",
       "      <td>-0.16</td>\n",
       "      <td>-0.14</td>\n",
       "    </tr>\n",
       "  </tbody>\n",
       "</table>\n",
       "</div>"
      ],
      "text/plain": [
       "   avarento  apertados  familia  desempenho  carro_caro\n",
       "0     -3.49       3.98     0.04        0.07        0.11\n",
       "1      4.82       0.17     0.26        0.08        0.04\n",
       "2     -2.91      -3.67    -0.36       -0.16       -0.14"
      ]
     },
     "execution_count": 59,
     "metadata": {},
     "output_type": "execute_result"
    }
   ],
   "source": [
    "df_centroides"
   ]
  },
  {
   "cell_type": "markdown",
   "id": "579331fe-586b-42e7-a8dd-99598726900f",
   "metadata": {},
   "source": [
    "## 6. Perguntas de negócio"
   ]
  },
  {
   "cell_type": "markdown",
   "id": "da010763-e372-4e6a-9493-9f575c630496",
   "metadata": {},
   "source": [
    "**1. Qual é o segmento-alvo ideal para esse novo veículo?**\n",
    "\n",
    "O segmento-alvo ideal é composto predominantemente por indivíduos do sexo masculino, com idade superior a 40 ou 45 anos.\n",
    "\n",
    "**2. Quais são as principais necessidades e desejos desse público?**\n",
    "\n",
    "Esse público demonstra alta disposição para investir em veículos de maior valor e prioriza, como principal necessidade, amplo espaço interno, associado a conforto e praticidade."
   ]
  },
  {
   "cell_type": "markdown",
   "id": "922f2d3e-c677-4a4a-aabe-52d0dfdf927d",
   "metadata": {},
   "source": [
    "## 7. Conclusão"
   ]
  },
  {
   "cell_type": "markdown",
   "id": "7b53f44d",
   "metadata": {},
   "source": [
    "Realizamos a segmentação dos clientes em clusters, utilizando Análise de Componentes Principais (PCA) para reduzir a quantidade de variáveis provenientes do questionário. Como resultado, identificamos um cluster com maior propensão à compra da nossa microvan.\n",
    "\n",
    "É importante destacar que, embora possuíssemos a nota atribuída pelos clientes ao protótipo, nosso objetivo foi ir além dessa informação, buscando compreender padrões de perfil e comportamento de forma mais robusta e preditiva.\n",
    "\n",
    "A análise das características do Cluster 0, associada aos principais componentes que o definem, proporcionou uma visão muito mais clara sobre quais perfis devem ser priorizados em campanhas de marketing. Quando combinamos essas informações com os dados demográficos, observamos que o público mais aderente a esse produto é predominantemente masculino, com idade acima de 40 a 45 anos, com alta disposição para investir em um veículo (avarento negativo) e que valoriza significativamente espaço interno (apertados negativo).\n",
    "\n",
    "Portanto, a partir desse perfil, podemos direcionar nossas estratégias comerciais e de comunicação de maneira mais assertiva, priorizando um segmento que apresenta maior potencial de conversão."
   ]
  }
 ],
 "metadata": {
  "kernelspec": {
   "display_name": "Python 3 (ipykernel)",
   "language": "python",
   "name": "python3"
  },
  "language_info": {
   "codemirror_mode": {
    "name": "ipython",
    "version": 3
   },
   "file_extension": ".py",
   "mimetype": "text/x-python",
   "name": "python",
   "nbconvert_exporter": "python",
   "pygments_lexer": "ipython3",
   "version": "3.12.3"
  }
 },
 "nbformat": 4,
 "nbformat_minor": 5
}
